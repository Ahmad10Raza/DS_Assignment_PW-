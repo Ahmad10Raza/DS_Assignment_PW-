{
 "cells": [
  {
   "cell_type": "markdown",
   "metadata": {},
   "source": [
    "##### Data Science Masters - Hindi - 02 Feb 20223"
   ]
  },
  {
   "cell_type": "markdown",
   "metadata": {},
   "source": [
    "## Q1. Explain with an example each when to use a for loop and a while loop."
   ]
  },
  {
   "cell_type": "code",
   "execution_count": 5,
   "metadata": {},
   "outputs": [
    {
     "name": "stdout",
     "output_type": "stream",
     "text": [
      "1\n",
      "2\n",
      "3\n",
      "4\n",
      "5\n"
     ]
    }
   ],
   "source": [
    "# For Loop - We use for loop when no of iterations are not known.\n",
    "#          - When condition for breaking the loop is not specified.\n",
    "\n",
    "# Printing 1 to 5\n",
    "for i in range(1, 6):  # Here no of iterations are already specified\n",
    "    print(i)\n"
   ]
  },
  {
   "cell_type": "code",
   "execution_count": 6,
   "metadata": {},
   "outputs": [
    {
     "name": "stdout",
     "output_type": "stream",
     "text": [
      "5\n",
      "4\n",
      "3\n",
      "2\n",
      "1\n"
     ]
    }
   ],
   "source": [
    "# While Loop - We use while loop when the no of iterations are known.\n",
    "#            - When loop has to be breaked if a condition is fulfilled.\n",
    "\n",
    "# Printing 5 to 1\n",
    "i = 5\n",
    "while (i > 0):  # Here i greater than 0 is a condition\n",
    "    print(i)\n",
    "    i -= 1\n"
   ]
  },
  {
   "cell_type": "markdown",
   "metadata": {},
   "source": [
    "## Q2. Write a python program to print the sum and product of the first 10 natural numbers using for and while loop."
   ]
  },
  {
   "cell_type": "code",
   "execution_count": 9,
   "metadata": {},
   "outputs": [
    {
     "name": "stdout",
     "output_type": "stream",
     "text": [
      "The sum of first 10 natural number is  55\n",
      "The product of first 10 natural number is  3628800\n"
     ]
    }
   ],
   "source": [
    "sum = 0\n",
    "prod = 1\n",
    "for i in range(1, 11):\n",
    "    sum += i\n",
    "    prod *= i\n",
    "print(\"The sum of first 10 natural number is \", sum)\n",
    "print(\"The product of first 10 natural number is \", prod)\n"
   ]
  },
  {
   "cell_type": "markdown",
   "metadata": {},
   "source": [
    "## Q3. Create a python program to compute the electricity bill for a household.\n",
    "\n",
    "## The per-unit charges in rupees are as follows: For the first 100 units, the user will be charged Rs. 4.5 per unit, for the next 100 units, the user will be charged Rs. 6 per unit, and for the next 100 units, the user will be charged Rs. 10 per unit, After 300 units and above the user will be charged Rs. 20 per unit.\n",
    "\n",
    "## You are required to take the units of electricity consumed in a month from the user as input.\n",
    "\n",
    "## Your program must pass this test case: when the unit of electricity consumed by the user in a month is 310, the total electricity bill should be 2250."
   ]
  },
  {
   "cell_type": "code",
   "execution_count": 30,
   "metadata": {},
   "outputs": [
    {
     "name": "stdout",
     "output_type": "stream",
     "text": [
      "Enter the no of units of electricity used310\n",
      "The bill is Rs 2250\n"
     ]
    }
   ],
   "source": [
    "units = int(input(\"Enter the no of units of electricity used\"))\n",
    "bill = 0\n",
    "if (units <= 100):\n",
    "    bill += units*4.5\n",
    "    units -= 100\n",
    "if (units > 100 and units <= 200):\n",
    "    bill += 450\n",
    "    units -= 100\n",
    "    bill += units*6\n",
    "if (units > 200 and units <= 300):\n",
    "    bill += 450 + 600\n",
    "    units -= 200\n",
    "    bill += units*10\n",
    "if (units > 300):\n",
    "    bill += 450 + 600 + 1000\n",
    "    units -= 300\n",
    "    bill += units*20\n",
    "print(f\"The bill is Rs {bill}\")\n"
   ]
  },
  {
   "cell_type": "markdown",
   "metadata": {},
   "source": [
    "## Q4. Create a list of numbers from 1 to 100. Use for loop and while loop to calculate cube of each number and if the cube of that number is divisible by 4 or 5 then append that number in a list and print that list."
   ]
  },
  {
   "cell_type": "code",
   "execution_count": 1,
   "metadata": {},
   "outputs": [
    {
     "name": "stdout",
     "output_type": "stream",
     "text": [
      "Using for loop \n",
      "[2, 4, 5, 6, 8, 10, 12, 14, 15, 16, 18, 20, 22, 24, 25, 26, 28, 30, 32, 34, 35, 36, 38, 40, 42, 44, 45, 46, 48, 50, 52, 54, 55, 56, 58, 60, 62, 64, 65, 66, 68, 70, 72, 74, 75, 76, 78, 80, 82, 84, 85, 86, 88, 90, 92, 94, 95, 96, 98, 100]\n",
      "Using while loop \n",
      "[2, 4, 5, 6, 8, 10, 12, 14, 15, 16, 18, 20, 22, 24, 25, 26, 28, 30, 32, 34, 35, 36, 38, 40, 42, 44, 45, 46, 48, 50, 52, 54, 55, 56, 58, 60, 62, 64, 65, 66, 68, 70, 72, 74, 75, 76, 78, 80, 82, 84, 85, 86, 88, 90, 92, 94, 95, 96, 98, 100]\n"
     ]
    }
   ],
   "source": [
    "l1 = list(range(1, 101))\n",
    "\n",
    "# Using for loop\n",
    "lf = []\n",
    "for i in l1:\n",
    "    c = i**2\n",
    "    r1 = c % 10\n",
    "    r2 = c % 100\n",
    "    r2 %= 4\n",
    "    if ((r1) == 0 or (r1) == 5 or (r2) == 0):\n",
    "        lf.append(i)\n",
    "\n",
    "print(f\"Using for loop \\n{lf}\")\n",
    "\n",
    "\n",
    "# Using while loop\n",
    "lw = []\n",
    "l = 1\n",
    "while (l <= len(l1)):\n",
    "    c = l**2\n",
    "    r1 = c % 10\n",
    "    r2 = c % 100\n",
    "    r2 %= 4\n",
    "    if ((r1) == 0 or (r1) == 5 or (r2) == 0):\n",
    "        lw.append(l)\n",
    "    l += 1\n",
    "\n",
    "print(f\"Using while loop \\n{lw}\")\n"
   ]
  },
  {
   "cell_type": "markdown",
   "metadata": {},
   "source": [
    "## Q5. Write a program to filter count vowels in the below-given string. string = \"I want to become a data scientist\""
   ]
  },
  {
   "cell_type": "code",
   "execution_count": 21,
   "metadata": {},
   "outputs": [
    {
     "name": "stdout",
     "output_type": "stream",
     "text": [
      "No of vowels in the string is : 12 and the vowels are {'e', 'o', 'i', 'I', 'a'}\n"
     ]
    }
   ],
   "source": [
    "s = \"I want to become a data scientist\"\n",
    "count = 0\n",
    "v = []\n",
    "\n",
    "for i in s:\n",
    "    if (i == 'a' or i == 'e' or i == 'i' or i == 'o' or i == 'u' or i == 'A' or i == 'E' or i == 'I' or i == 'O' or i == 'U'):\n",
    "        count += 1\n",
    "        v.append(i)\n",
    "\n",
    "v.sort()  # Just for better readability\n",
    "print(f\"No of vowels in the string is : {count} and the vowels are {set(v)}\")\n"
   ]
  }
 ],
 "metadata": {
  "kernelspec": {
   "display_name": "Python 3 (ipykernel)",
   "language": "python",
   "name": "python3"
  },
  "language_info": {
   "codemirror_mode": {
    "name": "ipython",
    "version": 3
   },
   "file_extension": ".py",
   "mimetype": "text/x-python",
   "name": "python",
   "nbconvert_exporter": "python",
   "pygments_lexer": "ipython3",
   "version": "3.10.9"
  },
  "vscode": {
   "interpreter": {
    "hash": "916dbcbb3f70747c44a77c7bcd40155683ae19c65e1c03b4aa3499c5328201f1"
   }
  }
 },
 "nbformat": 4,
 "nbformat_minor": 2
}
