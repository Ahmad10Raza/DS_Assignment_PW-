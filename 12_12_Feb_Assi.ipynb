{
 "cells": [
  {
   "attachments": {},
   "cell_type": "markdown",
   "metadata": {},
   "source": [
    "## Data Science Masters - Hindi - 12 Feb 2023\n"
   ]
  },
  {
   "attachments": {},
   "cell_type": "markdown",
   "metadata": {},
   "source": [
    "#### Q1. What is an Exception in python? Write the difference between Exceptions and Syntax errors.\n"
   ]
  },
  {
   "attachments": {},
   "cell_type": "markdown",
   "metadata": {},
   "source": [
    "- Exception is an abnormal condition encontered during the execution of a program.\n",
    "\n",
    "- Difference between Exception and Syntax error.\n",
    "  #\n",
    "  - Exception\n",
    "    - A condition where the program encounters some unexpected value passed for a variable used in the program.\n",
    "    - It is maskable by using try and except block in python.\n",
    "  #\n",
    "  - Syntax error\n",
    "    - A condition where programmers uses a token(letter, symbol, etc) in the program code that is beyond or not defined in the grammer of that language.\n",
    "    - It is non-maskable.\n"
   ]
  },
  {
   "attachments": {},
   "cell_type": "markdown",
   "metadata": {},
   "source": [
    "#### Q2. What happens when an exception is not handled? Explain with an example.\n"
   ]
  },
  {
   "attachments": {},
   "cell_type": "markdown",
   "metadata": {},
   "source": [
    "- If an exception is not handled in python, the program will abort at that line and the further lines of code will not be executed\n"
   ]
  },
  {
   "cell_type": "code",
   "execution_count": 1,
   "metadata": {},
   "outputs": [
    {
     "name": "stdout",
     "output_type": "stream",
     "text": [
      "INFO:root:When exception is handled\n",
      "\n",
      "WARNING:root:The program has enounted an error as division by zero\n",
      "WARNING:root:Executing further lines of code...\n",
      "\n"
     ]
    }
   ],
   "source": [
    "# When exception is handled\n",
    "\n",
    "import logging\n",
    "logging.basicConfig(filename=\"Q2_1.log\", filemode=\"w\", level=logging.INFO)\n",
    "logging.info(\"When exception is handled\\n\")\n",
    "n = 0\n",
    "try:\n",
    "    n = 4/n\n",
    "except Exception as e:\n",
    "    # print(\"The program has enounted an error as\", e)\n",
    "    logging.warning(\"The program has enounted an error as %s\", e)\n",
    "\n",
    "logging.warning(\"Executing further lines of code...\")\n",
    "logging.shutdown()\n",
    "\n",
    "with open(\"Q2_1.log\") as f:\n",
    "    print(f.read())\n"
   ]
  },
  {
   "cell_type": "code",
   "execution_count": 1,
   "metadata": {},
   "outputs": [
    {
     "name": "stdout",
     "output_type": "stream",
     "text": [
      "INFO:root:When exception is not handled\n",
      "\n"
     ]
    },
    {
     "ename": "ZeroDivisionError",
     "evalue": "division by zero",
     "output_type": "error",
     "traceback": [
      "\u001b[0;31m---------------------------------------------------------------------------\u001b[0m",
      "\u001b[0;31mZeroDivisionError\u001b[0m                         Traceback (most recent call last)",
      "Cell \u001b[0;32mIn[1], line 9\u001b[0m\n\u001b[1;32m      7\u001b[0m     \u001b[39mprint\u001b[39m(f\u001b[39m.\u001b[39mread())\n\u001b[1;32m      8\u001b[0m n \u001b[39m=\u001b[39m \u001b[39m0\u001b[39m\n\u001b[0;32m----> 9\u001b[0m n \u001b[39m=\u001b[39m \u001b[39m4\u001b[39;49m\u001b[39m/\u001b[39;49mn\n\u001b[1;32m     11\u001b[0m \u001b[39m# The lines below will not run\u001b[39;00m\n\u001b[1;32m     13\u001b[0m logging\u001b[39m.\u001b[39minfo(\u001b[39m\"\u001b[39m\u001b[39mExecuting further lines of code...\u001b[39m\u001b[39m\"\u001b[39m)\n",
      "\u001b[0;31mZeroDivisionError\u001b[0m: division by zero"
     ]
    }
   ],
   "source": [
    "# When exception is not handled\n",
    "\n",
    "import logging\n",
    "logging.basicConfig(filename=\"Q2_2.log\", filemode=\"w\", level=logging.INFO)\n",
    "logging.info(\"When exception is not handled\")\n",
    "with open(\"Q2_2.log\") as f:\n",
    "    print(f.read())\n",
    "n = 0\n",
    "n = 4/n\n",
    "\n",
    "# The lines below will not run\n",
    "\n",
    "logging.info(\"Executing further lines of code...\")\n",
    "logging.shutdown()\n",
    "\n",
    "with open(\"Q2_2.log\") as f:\n",
    "    print(f.read())"
   ]
  },
  {
   "attachments": {},
   "cell_type": "markdown",
   "metadata": {},
   "source": [
    "#### Q3. Which Python statements are used to catch and handle exceptions? Explain with an example."
   ]
  },
  {
   "attachments": {},
   "cell_type": "markdown",
   "metadata": {},
   "source": [
    "- 'try' and 'except' block is used to catch and handle the exception.\n",
    "- Under 'try' block, the normal program code is kept for execution.\n",
    "- Under 'except' block, the response to the exception is kept."
   ]
  },
  {
   "cell_type": "code",
   "execution_count": 1,
   "metadata": {},
   "outputs": [
    {
     "name": "stdout",
     "output_type": "stream",
     "text": [
      "WARNING:root:The program has encountered an error as list index out of range\n",
      "\n"
     ]
    }
   ],
   "source": [
    "import logging\n",
    "logging.basicConfig(filename=\"Q3.log\", filemode=\"w\", level=logging.INFO)\n",
    "\n",
    "try:\n",
    "    l = [\"Fname\", \"Lname\"]\n",
    "    a = l[5]  # The line which has the exception\n",
    "except Exception as e:  # Handling the exception.\n",
    "    logging.warning(\"The program has encountered an error as %s\", e)\n",
    "logging.shutdown()\n",
    "\n",
    "with open(\"Q3.log\") as f:\n",
    "    print(f.read())"
   ]
  },
  {
   "attachments": {},
   "cell_type": "markdown",
   "metadata": {},
   "source": [
    "#### Q4. Explain with an example:\n",
    "#\n",
    "- a. try and else\n",
    "- b. finally\n",
    "- c. raise"
   ]
  },
  {
   "attachments": {},
   "cell_type": "markdown",
   "metadata": {},
   "source": [
    "- a. try and else\n",
    "  - try - 'try' block contains the code that might throw exception.\n",
    "  - else - 'else' block will execute if try block executed successfully.\n",
    "\n",
    "#\n",
    "\n",
    "- b. finally\n",
    "  - The 'finally' block will run regardless of any error.\n",
    "\n",
    "#\n",
    "\n",
    "- c. raise\n",
    "  - The 'raise' keyword is used to raise a custom exception.\n"
   ]
  },
  {
   "cell_type": "code",
   "execution_count": 1,
   "metadata": {},
   "outputs": [
    {
     "name": "stdout",
     "output_type": "stream",
     "text": [
      "INFO:root:Exception occured as The input length is not an 5\n",
      "INFO:root:This is finally block\n",
      "I will run regardless of the error\n",
      "\n",
      "\n",
      "INFO:root:The input length is 5\n",
      "INFO:root:This is else block\n",
      "INFO:root:This is finally block\n",
      "I will run regardless of the error\n",
      "\n",
      "\n",
      "\n"
     ]
    }
   ],
   "source": [
    "import logging\n",
    "logging.basicConfig(filename=\"Q4.log\", filemode=\"w\", level=logging.INFO)\n",
    "\n",
    "\n",
    "class LenCheck(Exception):\n",
    "    def __init__(self, num):\n",
    "        self.num = num\n",
    "\n",
    "\n",
    "def lencheck(num):\n",
    "    if (len(num) != 5):\n",
    "        raise LenCheck(\"The input length is not an 5\")\n",
    "        # raise LenCheck(logging.info(\"The input length is not an 5\"))\n",
    "    else:\n",
    "        logging.info(\"The input length is 5\")\n",
    "\n",
    "\n",
    "l = [\"Aditya\", \"Gargi\"]\n",
    "for i in l:\n",
    "    try:\n",
    "        lencheck(i)\n",
    "    except LenCheck as e:\n",
    "        logging.info(\"Exception occured as %s\", e)\n",
    "    else:\n",
    "        logging.info(\"This is else block\")\n",
    "    finally:\n",
    "        logging.info(\"This is finally block\\nI will run regardless of the error\\n\\n\")\n",
    "logging.shutdown()\n",
    "\n",
    "with open(\"Q4.log\") as f:\n",
    "    print(f.read())\n"
   ]
  },
  {
   "attachments": {},
   "cell_type": "markdown",
   "metadata": {},
   "source": [
    "#### Q5. What are Custom Exceptions in python? Why do we need Custom Exceptions? Explain with an example. "
   ]
  },
  {
   "attachments": {},
   "cell_type": "markdown",
   "metadata": {},
   "source": [
    "- Custom exceptions are the new user defined classes of exception derived from built in class 'Exception'\n",
    "- We need a custom exception class to create a specific exception on user defined constraint(s)."
   ]
  },
  {
   "cell_type": "code",
   "execution_count": 1,
   "metadata": {},
   "outputs": [
    {
     "name": "stdout",
     "output_type": "stream",
     "text": [
      "INFO:root:Exception occured as The input number is odd\n",
      "INFO:root:The input number is even\n",
      "INFO:root:Exception occured as The input number is odd\n",
      "INFO:root:The input number is even\n",
      "INFO:root:The input number is even\n",
      "INFO:root:The input number is even\n",
      "\n"
     ]
    }
   ],
   "source": [
    "# Throw an exeption when the input number is odd\n",
    "\n",
    "import logging\n",
    "logging.basicConfig(filename=\"Q5.log\", filemode=\"w\", level=logging.INFO)\n",
    "\n",
    "\n",
    "class IsOdd(Exception):\n",
    "    def __init__(self, num):\n",
    "        self.num = num\n",
    "\n",
    "\n",
    "def isOdd(num):\n",
    "    if (num % 2):\n",
    "        raise IsOdd(\"The input number is odd\")\n",
    "    else:\n",
    "        logging.info(\"The input number is even\")\n",
    "\n",
    "\n",
    "l = [45, 8, 77, 92, 34, 12]\n",
    "for i in l:\n",
    "    try:\n",
    "        isOdd(i)\n",
    "    except IsOdd as e:\n",
    "        logging.info(\"Exception occured as %s\", e)\n",
    "logging.shutdown()\n",
    "\n",
    "with open(\"Q5.log\") as f:\n",
    "    print(f.read())"
   ]
  },
  {
   "attachments": {},
   "cell_type": "markdown",
   "metadata": {},
   "source": [
    "#### Q6. Create a custom exception class. Use this class to handle an exception."
   ]
  },
  {
   "cell_type": "code",
   "execution_count": 1,
   "metadata": {},
   "outputs": [
    {
     "name": "stdout",
     "output_type": "stream",
     "text": [
      "INFO:root:Exception occured as The input number is even\n",
      "INFO:root:The input number is odd\n",
      "INFO:root:Exception occured as The input number is even\n",
      "INFO:root:The input number is odd\n",
      "INFO:root:The input number is odd\n",
      "INFO:root:The input number is odd\n",
      "\n"
     ]
    }
   ],
   "source": [
    "# Throw an exeption when the input number is even\n",
    "\n",
    "import logging\n",
    "logging.basicConfig(filename=\"Q6.log\", filemode=\"w\", level=logging.INFO)\n",
    "\n",
    "\n",
    "class IsEven(Exception):\n",
    "    def __init__(self, num):\n",
    "        self.num = num\n",
    "\n",
    "\n",
    "def isEven(num):\n",
    "    if (num % 2):\n",
    "        raise IsEven(\"The input number is even\")\n",
    "    else:\n",
    "        logging.info(\"The input number is odd\")\n",
    "\n",
    "\n",
    "l = [45, 8, 77, 92, 34, 12]\n",
    "for i in l:\n",
    "    try:\n",
    "        isEven(i)\n",
    "    except IsEven as e:\n",
    "        logging.info(\"Exception occured as %s\", e)\n",
    "logging.shutdown()\n",
    "\n",
    "with open(\"Q6.log\") as f:\n",
    "    print(f.read())"
   ]
  }
 ],
 "metadata": {
  "kernelspec": {
   "display_name": "Python 3",
   "language": "python",
   "name": "python3"
  },
  "language_info": {
   "codemirror_mode": {
    "name": "ipython",
    "version": 3
   },
   "file_extension": ".py",
   "mimetype": "text/x-python",
   "name": "python",
   "nbconvert_exporter": "python",
   "pygments_lexer": "ipython3",
   "version": "3.10.9"
  },
  "orig_nbformat": 4,
  "vscode": {
   "interpreter": {
    "hash": "916dbcbb3f70747c44a77c7bcd40155683ae19c65e1c03b4aa3499c5328201f1"
   }
  }
 },
 "nbformat": 4,
 "nbformat_minor": 2
}
