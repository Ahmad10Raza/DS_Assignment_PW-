{
 "cells": [
  {
   "attachments": {},
   "cell_type": "markdown",
   "metadata": {},
   "source": [
    "## Data Science Masters - Hindi - 16 Feb 2023"
   ]
  },
  {
   "attachments": {},
   "cell_type": "markdown",
   "metadata": {},
   "source": [
    "#### Q1. What is a database? Differentiate between SQL and NoSQL databases. "
   ]
  },
  {
   "attachments": {},
   "cell_type": "markdown",
   "metadata": {},
   "source": [
    "- DataBase\n",
    "    - A database is a systematic or organized collection of related information that is stored in such a way that it can be easily accessed, retrieved, managed, and updated.\n",
    "#\n",
    "- SQL\n",
    "    - It is a standard language.\n",
    "    - These databases are table/relation based databases.\n",
    "    - The databses are vertical scalable.\n",
    "    - The are used in complex query intensive environment.\n",
    "    - Follow ACID model.\n",
    "#\n",
    "- NoSQL\n",
    "    - It posses no declarative query support.\n",
    "    - These databases can be document based, key-value pairs, or graph databases.\n",
    "    - The databses are horizontally scalable.\n",
    "    - The are used where queries are not complex.\n",
    "    - Follow BASE model.\n",
    "\n"
   ]
  },
  {
   "attachments": {},
   "cell_type": "markdown",
   "metadata": {},
   "source": [
    "#### Q2. What is DDL? Explain why CREATE, DROP, ALTER, and TRUNCATE are used with an example. "
   ]
  },
  {
   "attachments": {},
   "cell_type": "markdown",
   "metadata": {},
   "source": [
    "- DDL\n",
    "    - It stands for Data Definition Language\n",
    "    - These are the SQL statements that are used to define and modify the databse schema.\n",
    "#\n",
    "- CREATE\n",
    "    - It is used to create the database and tables.\n",
    "        - e.g > create table students(stuid number primary key not null, stuname varchar2(20), stubranch varchar(20));\n",
    "#\n",
    "- DROP\n",
    "    - It is used to delete tables from the databse.\n",
    "        - e.g > drop table students;\n",
    "#\n",
    "- ALTER\n",
    "    - It is used to alter the database schema.\n",
    "        - e.g > alter table student add marks number;\n",
    "#\n",
    "- TRUNCATE\n",
    "    - It is used to delete an existing table and free the resources.\n",
    "        - e.g > truncate table students;\n"
   ]
  },
  {
   "attachments": {},
   "cell_type": "markdown",
   "metadata": {},
   "source": [
    "#### Q3. What is DML? Explain INSERT, UPDATE, and DELETE with an example."
   ]
  },
  {
   "attachments": {},
   "cell_type": "markdown",
   "metadata": {},
   "source": [
    "- DML\n",
    "    - It stands for Data Manipulation Language.\n",
    "    - These are the SQL statements used for the manipulation of data present in a database.\n",
    "#\n",
    "- INSERT\n",
    "    - Used to insert tuples/rows into a table.\n",
    "    - It stands for Data Manipulation Language.\n",
    "        - e.g > insert into Student values(5, 'Aditya', 'CSE');\n",
    "#\n",
    "- UPDATE\n",
    "    - Used to update tuples/rows in a table.\n",
    "        - e.g > update Student set name = 'Gargi' where id = 5;\n",
    "#\n",
    "- DELETE\n",
    "    - Used to delete tuples/rows from a table.\n",
    "        - e.g > delete from Student where id = 5;"
   ]
  },
  {
   "attachments": {},
   "cell_type": "markdown",
   "metadata": {},
   "source": [
    "#### Q4. What is DQL? Explain SELECT with an example."
   ]
  },
  {
   "attachments": {},
   "cell_type": "markdown",
   "metadata": {},
   "source": [
    "- DQL\n",
    "    - It stands for Data Query Language.\n",
    "    - These SQL statements are used to retrieve schema relation based on the passed query.\n",
    "#\n",
    "- SELECT\n",
    "    - Used to retrieve data basedon the schema relation passed.\n",
    "        e.g > select * from students;"
   ]
  },
  {
   "attachments": {},
   "cell_type": "markdown",
   "metadata": {},
   "source": [
    "#### Q5. Explain Primary Key and Foreign Key."
   ]
  },
  {
   "attachments": {},
   "cell_type": "markdown",
   "metadata": {},
   "source": [
    "- Primary Key\n",
    "    - It is one or more column(s) in a table used to uniquely identify each row in a table.\n",
    "    - None of the columns that are part of the primary key contain null value.\n",
    "    - A table can have only one primary key.\n",
    "#\n",
    "- Foreign Key\n",
    "    - It is a column or a group of columns whose values are derived from the primary/unique key of some other table."
   ]
  },
  {
   "attachments": {},
   "cell_type": "markdown",
   "metadata": {},
   "source": [
    "#### Q6. Write a python code to connect MySQL to python. Explain the cursor() and execute() method."
   ]
  },
  {
   "attachments": {},
   "cell_type": "markdown",
   "metadata": {},
   "source": [
    "- The python code to connect MySQL to python.\n",
    "#\n",
    "import mysql.connector\n",
    "#\n",
    "mydb = mysql.connector.connect(\n",
    "#\n",
    "  host=\"localhost\",\n",
    "#\n",
    "  user=\"abc\",\n",
    "#\n",
    "  password=\"password\"\n",
    "#\n",
    ")\n",
    "#\n",
    "mycursor = mydb.cursor()\n",
    "#\n",
    "mycursor.execute(\"SQL_QUERY\")\n",
    "#\n",
    "- Cursor()\n",
    "    - It is the mediator between SQL database connection and SQL query.\n",
    "#\n",
    "- execute()\n",
    "    - This method accepts a MySQL query as a parameter and executes the given query."
   ]
  },
  {
   "attachments": {},
   "cell_type": "markdown",
   "metadata": {},
   "source": [
    "#### Q7. Give the order of execution of SQL clauses in an SQL query."
   ]
  },
  {
   "attachments": {},
   "cell_type": "markdown",
   "metadata": {},
   "source": [
    "- The order of the execution of SQL clauses in an SQL query are:\n",
    "    - from > where > groupBy > having > select > order by > limit"
   ]
  }
 ],
 "metadata": {
  "kernelspec": {
   "display_name": "Python 3",
   "language": "python",
   "name": "python3"
  },
  "language_info": {
   "codemirror_mode": {
    "name": "ipython",
    "version": 3
   },
   "file_extension": ".py",
   "mimetype": "text/x-python",
   "name": "python",
   "nbconvert_exporter": "python",
   "pygments_lexer": "ipython3",
   "version": "3.10.9"
  },
  "orig_nbformat": 4,
  "vscode": {
   "interpreter": {
    "hash": "916dbcbb3f70747c44a77c7bcd40155683ae19c65e1c03b4aa3499c5328201f1"
   }
  }
 },
 "nbformat": 4,
 "nbformat_minor": 2
}
