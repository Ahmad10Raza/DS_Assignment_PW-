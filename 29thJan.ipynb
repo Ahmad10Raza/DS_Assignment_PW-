{
 "cells": [
  {
   "attachments": {},
   "cell_type": "markdown",
   "metadata": {},
   "source": [
    "1. Who developed Python Programming Language?\n",
    "\n",
    "- Python was created by Guido van Rossum and released on February 20, 1991."
   ]
  },
  {
   "attachments": {},
   "cell_type": "markdown",
   "metadata": {},
   "source": [
    "2. Which type of Programming does Python support?\n",
    "\n",
    "- Python supports both structured and object-orinted programming approach."
   ]
  },
  {
   "attachments": {},
   "cell_type": "markdown",
   "metadata": {},
   "source": [
    "3. Is Python case sensitive when dealing with identifiers?\n",
    "\n",
    "- Yes, Python is case sensitive while dealing with identifiers."
   ]
  },
  {
   "attachments": {},
   "cell_type": "markdown",
   "metadata": {},
   "source": [
    "4. What is the correct extension of the Python file?\n",
    "\n",
    "- Extension name for python is \".py\"."
   ]
  },
  {
   "attachments": {},
   "cell_type": "markdown",
   "metadata": {},
   "source": [
    "5. Is Python code compiled or interpreted?\n",
    "\n",
    "- Python is interpretted."
   ]
  },
  {
   "attachments": {},
   "cell_type": "markdown",
   "metadata": {},
   "source": [
    "6. Name a few blocks of code used to define in Python language?\n",
    "\n",
    "- def, print, import, if, else, for, etc"
   ]
  },
  {
   "attachments": {},
   "cell_type": "markdown",
   "metadata": {},
   "source": [
    "7. State a character used to give single-line comments in Python?\n",
    "\n",
    "- \"#\""
   ]
  },
  {
   "attachments": {},
   "cell_type": "markdown",
   "metadata": {},
   "source": [
    "8. Mention functions which can help us to find the version of python that we are currently working on?\n",
    "\n",
    "- \"sys.version\" from package \"sys\" is used to find python version."
   ]
  },
  {
   "attachments": {},
   "cell_type": "markdown",
   "metadata": {},
   "source": [
    "9. Python supports the creation of anonymous functions at runtime, using a construct called\n",
    "\n",
    "- \"lambda\""
   ]
  },
  {
   "attachments": {},
   "cell_type": "markdown",
   "metadata": {},
   "source": [
    "10. What does pip stand for python?\n",
    "\n",
    "- pip stands for \"Preferred Installer Program\""
   ]
  },
  {
   "attachments": {},
   "cell_type": "markdown",
   "metadata": {},
   "source": [
    "11. Mention a few built-in functions in python?\n",
    "\n",
    "- Built in dunctions in python -\n",
    "    len(), type(), min(), max(), print(), int(), float(), char(), bool(), etc"
   ]
  },
  {
   "attachments": {},
   "cell_type": "markdown",
   "metadata": {},
   "source": [
    "12. What is the maximum possible length of an identifier in Python?\n",
    "\n",
    "- Max possible length of an identifier is 79 characters."
   ]
  },
  {
   "attachments": {},
   "cell_type": "markdown",
   "metadata": {},
   "source": [
    "13. What are the benefits of using Python?\n",
    "\n",
    "- Pros of pyhon are:\n",
    "        - Portabliity\n",
    "        - Massive Libraries and Frameworks supported\n",
    "        - Interpreted Lang\n",
    "        - Auto memory management\n",
    "        - Scalability\n",
    "        - Dynamically typed\n",
    "        - Massive Community and many more"
   ]
  },
  {
   "attachments": {},
   "cell_type": "markdown",
   "metadata": {},
   "source": [
    "14. How is memory managed in Python?\n",
    "\n",
    "- Python manages memory in heap space privately."
   ]
  },
  {
   "attachments": {},
   "cell_type": "markdown",
   "metadata": {},
   "source": [
    "15. How to install Python on Windows and set path variables?\n",
    "\n",
    "- Download python executible form www.python.org and check the path varibale box during installation. BTW I use linux: )"
   ]
  },
  {
   "attachments": {},
   "cell_type": "markdown",
   "metadata": {},
   "source": [
    "16. Is indentation required in python?\n",
    "\n",
    "- Yes, It's mandatory."
   ]
  }
 ],
 "metadata": {
  "kernelspec": {
   "display_name": "Python 3",
   "language": "python",
   "name": "python3"
  },
  "language_info": {
   "name": "python",
   "version": "3.10.9 (main, Dec 19 2022, 17:35:49) [GCC 12.2.0]"
  },
  "orig_nbformat": 4,
  "vscode": {
   "interpreter": {
    "hash": "916dbcbb3f70747c44a77c7bcd40155683ae19c65e1c03b4aa3499c5328201f1"
   }
  }
 },
 "nbformat": 4,
 "nbformat_minor": 2
}
