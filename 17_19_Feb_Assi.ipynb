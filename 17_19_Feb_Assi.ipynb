{
 "cells": [
  {
   "attachments": {},
   "cell_type": "markdown",
   "metadata": {},
   "source": [
    "## Data  Science Master -Hindi - 19 Feb 2023"
   ]
  },
  {
   "attachments": {},
   "cell_type": "markdown",
   "metadata": {},
   "source": [
    "#### Q1. What is Flask Framework? What are the advantages of Flask Framework?\n"
   ]
  },
  {
   "attachments": {},
   "cell_type": "markdown",
   "metadata": {},
   "source": [
    "#### Answer ):-\n",
    "Flask is micro web framework written in python. It is classified as a microframework because it does not require particular tools or libraries. It has no database abstraction layer, form validation, or any other components where pre-existing third-party libraries provide common functions.\n",
    "\n",
    "It provides developers with tools, libraries and technologies that allow them to build a web application from scratch. Flask offers suggestions, but doesn't enforce any dependencies or per-determined project structure.\n",
    " \n",
    " #### Advantages\n",
    "1.) A Basic Web Application Structure: Flask offers flexibility and a barebones structure to start with. This gives developers plenty of options regarding the architecture of their app.\n",
    "\n",
    "2.) Jinja Templating System: Flask comes with a lightweight templating system called Jinja. It helps developers create dynamic webpages with ease.\n",
    "\n",
    "3.) Integrated Unit Testing Support: Flask has integrated testing support out of the box. This allows developers to quickly set up and run tests as they build their applications.\n",
    "\n",
    "4.) Flexibility : It is known for its flexibility due to its lightweight nature and modular design. Flask allows developers to easily switch between different components like templating systems and libraries, providing flexibility for different frameworks."
   ]
  },
  {
   "attachments": {},
   "cell_type": "markdown",
   "metadata": {},
   "source": [
    "#### Q2. Create a simple Flask application to display ‘Hello World!!’. Attach the screenshot of the output in Jupyter Notebook.\n"
   ]
  },
  {
   "attachments": {},
   "cell_type": "markdown",
   "metadata": {},
   "source": [
    "#### Answer :)-"
   ]
  },
  {
   "cell_type": "code",
   "execution_count": null,
   "metadata": {
    "vscode": {
     "languageId": "python"
    }
   },
   "outputs": [],
   "source": [
    "from flask import Flask\n",
    "app = Flask(__name__)\n",
    "@app.route('/')\n",
    "def index():\n",
    "    return '<h1>Hello World!</h1>'\n",
    "\n",
    "\n",
    "app.run()\n"
   ]
  },
  {
   "attachments": {},
   "cell_type": "markdown",
   "metadata": {},
   "source": [
    "##### OUTPUT\n",
    "[Q2_OUTPUT.png](https://github.com/Ahmad10Raza/DS_Assignment_PW-/blob/master/17_19_feb_Q2_OUTPUT.png) "
   ]
  },
  {
   "attachments": {},
   "cell_type": "markdown",
   "metadata": {},
   "source": [
    "#### Q3. What is App routing in Flask? Why do we use app routes?"
   ]
  },
  {
   "attachments": {},
   "cell_type": "markdown",
   "metadata": {},
   "source": [
    "#### Answer :)-"
   ]
  },
  {
   "attachments": {},
   "cell_type": "markdown",
   "metadata": {},
   "source": [
    "- Clients such as web browsers send requests to the web server, which in turn sends them to the Flask application instance. The Flask application instance needs to know what code it needs to run for each URL requested, so it keeps a mapping of URLs to\n",
    "Python functions. The association between a URL and the function that handles it is called a route.\n",
    "- The most convenient way to define a route in a Flask application is through the app.route decorator exposed by the application instance. The following example shows how a route is declared using this decorator:\n",
    "\n",
    "- Eg):- @app.route('/')\n",
    "def index():\n",
    "return '<h1>Hello World!</h1>'\n",
    "\n",
    "- Using Of Routeing In Flask\n",
    "Routes in Flask allow us to map URLs to functions or methods in our application. \n",
    "- This allows us to create different views for our application, like an HTML page, a JSON or XML API, or any other type of response. By using routes we can control which pages are visible to the user and which are not accessible. \n",
    "- Routes also allows us to generate dynamic requests, like passing parameters from the URL for database queries."
   ]
  },
  {
   "attachments": {},
   "cell_type": "markdown",
   "metadata": {},
   "source": [
    "#### Q4. Create a “/welcome” route to display the welcome message “Welcome to ABC Corporation” and a “/” route to show the following details:\n",
    "Company Name: ABC Corporation\n",
    "Location: India\n",
    "Contact Detail: 999-999-9999 \n",
    "Attach the screenshot of the output in Jupyter Notebook."
   ]
  },
  {
   "attachments": {},
   "cell_type": "markdown",
   "metadata": {},
   "source": [
    "#### Answer :)-"
   ]
  },
  {
   "cell_type": "code",
   "execution_count": null,
   "metadata": {
    "vscode": {
     "languageId": "python"
    }
   },
   "outputs": [],
   "source": [
    "from flask import Flask\n",
    " \n",
    "app = Flask(__name__)\n",
    " \n",
    "@app.route('/')\n",
    "def hello():\n",
    "    return '''\n",
    "               <h1> Company Name: ABC Corporation </br> </h1>\n",
    "             <h1>   Location: India </br> </h1>\n",
    "             <h1>   Contact Detail: 999-999-9999 </h1>''' \n",
    "\n",
    "\n",
    "@app.route('/welcome/')\n",
    "def test():\n",
    "    return \"Welcome to ABC Corporation.\"\n",
    "\n",
    " \n",
    "if __name__ == '__main__':\n",
    "    app.run(debug=True)"
   ]
  },
  {
   "attachments": {},
   "cell_type": "markdown",
   "metadata": {},
   "source": [
    "#### OUTPUT\n",
    "[Q4_OUTPUT.png](https://github.com/Ahmad10Raza/DS_Assignment_PW-/blob/master/17_19__Feb_Q4_OUTPUT.png)"
   ]
  },
  {
   "attachments": {},
   "cell_type": "markdown",
   "metadata": {},
   "source": [
    "#### Q5. What function is used in Flask for URL Building? Write a Python code to demonstrate the working of the url_for() function."
   ]
  },
  {
   "attachments": {},
   "cell_type": "markdown",
   "metadata": {},
   "source": [
    "#### Answer :)-"
   ]
  },
  {
   "attachments": {},
   "cell_type": "markdown",
   "metadata": {},
   "source": [
    "- The url_for() function is used to build a URL to the specific function dynamically. The first argument is the name of the specified function, and then we can pass any number of keyword argument corresponding to the variable part of the URL.\n",
    "\n",
    "- This function is useful in the sense that we can avoid hard-coding the URLs into the templates by dynamically building them using this function.\n",
    "\n",
    "- The url_for() function is used in Flask to build URLs from the routing. This function takes a view name as parameter and optional **kwargs. The kwargs are used for building dynamic URLs, such as:\n",
    "\n"
   ]
  },
  {
   "cell_type": "code",
   "execution_count": 3,
   "metadata": {
    "vscode": {
     "languageId": "python"
    }
   },
   "outputs": [],
   "source": [
    "from flask import *\n",
    "@app.route('/user/<int:user_id>')\n",
    "def show_user(user_id):\n",
    "    return 'User ID: {}'.format(user_id)\n",
    "\n",
    "#build URL\n",
    "#The url_for() function also allows to use external URLs by \n",
    "# setting _external argument to True\n",
    "\n",
    "url = url_for('show_user', user_id=11410814,_external=True)\n",
    "#prints '/user/11410814'\n",
    "print(url)\n"
   ]
  },
  {
   "cell_type": "code",
   "execution_count": null,
   "metadata": {
    "vscode": {
     "languageId": "python"
    }
   },
   "outputs": [],
   "source": []
  }
 ],
 "metadata": {
  "kernelspec": {
   "display_name": "Python 3 (ipykernel)",
   "language": "python",
   "name": "python3"
  },
  "orig_nbformat": 4
 },
 "nbformat": 4,
 "nbformat_minor": 2
}
