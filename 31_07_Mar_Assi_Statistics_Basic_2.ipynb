{
 "cells": [
  {
   "attachments": {},
   "cell_type": "markdown",
   "metadata": {},
   "source": [
    "## Data Science Masters - Hindi - 07 Mar 2023"
   ]
  },
  {
   "attachments": {},
   "cell_type": "markdown",
   "metadata": {},
   "source": [
    "#### Q1. What are the three measures of central tendency?"
   ]
  },
  {
   "attachments": {},
   "cell_type": "markdown",
   "metadata": {},
   "source": [
    "- The three measures of central tendency are:\n",
    "    - Mean\n",
    "        - The mean is calculated by adding up all the values in a dataset and dividing by the number of values.\n",
    "        - It is the most commonly used measure of central tendency.\n",
    "    #\n",
    "    - Median\n",
    "        - The median is the middle value in a dataset when the values are arranged in order.\n",
    "        - If there is an even number of values, the median is the average of the two middle values.\n",
    "    #\n",
    "    - Mode\n",
    "        - The mode is the value that appears most frequently in a dataset.\n",
    "        - If there is no value that appears more than once, the dataset is said to have no mode."
   ]
  },
  {
   "attachments": {},
   "cell_type": "markdown",
   "metadata": {},
   "source": [
    "#### Q2. What is the difference between the mean, median, and mode? How are they used to measure the central tendency of a dataset?"
   ]
  },
  {
   "attachments": {},
   "cell_type": "markdown",
   "metadata": {},
   "source": [
    "- The mean, median, and mode are all measures of central tendency, but they differ in how they represent the center of a dataset.\n",
    "#\n",
    "- Mean\n",
    "    - The mean is calculated by adding up all the values in a dataset and dividing by the number of values. It is sensitive to extreme values (outliers) and can be influenced by them, which can affect its usefulness as a measure of central tendency.\n",
    "    - The mean is often used when the data is normally distributed, or when the goal is to find an average value that represents the entire dataset.\n",
    "    #\n",
    "- Median\n",
    "    - The median is the middle value in a dataset when the values are arranged in order. It is not affected by extreme values, and therefore can be a better measure of central tendency in datasets that contain outliers.\n",
    "    - The median is often used when the data is not normally distributed, or when the goal is to find a typical value that represents the middle of the dataset.\n",
    "    #\n",
    "- Mode\n",
    "    - The mode is the value that appears most frequently in a dataset.\n",
    "    - It is useful when the goal is to find the most common value in the dataset, and is often used when the data is categorical or discrete.\n",
    "\n",
    "- All three measures of central tendency are used to provide a summary of the dataset, by indicating where most of the data lies. They can also be used to compare different datasets to determine if they have similar or different distributions. However, the choice of which measure to use depends on the nature of the data and the purpose of the analysis."
   ]
  },
  {
   "attachments": {},
   "cell_type": "markdown",
   "metadata": {},
   "source": [
    "#### Q3. Measure the three measures of central tendency for the given height data:\n",
    "#### [178,177,176,177,178.2,178,175,179,180,175,178.9,176.2,177,172.5,178,176.5]"
   ]
  },
  {
   "cell_type": "code",
   "execution_count": 1,
   "metadata": {},
   "outputs": [
    {
     "name": "stdout",
     "output_type": "stream",
     "text": [
      "The mean, median, and mode of the data are 177.01875 , 177.0 , ModeResult(mode=array([177.]), count=array([3])) respectively.\n"
     ]
    },
    {
     "name": "stderr",
     "output_type": "stream",
     "text": [
      "/tmp/ipykernel_5396/3503989872.py:9: FutureWarning: Unlike other reduction functions (e.g. `skew`, `kurtosis`), the default behavior of `mode` typically preserves the axis it acts along. In SciPy 1.11.0, this behavior will change: the default value of `keepdims` will become False, the `axis` over which the statistic is taken will be eliminated, and the value None will no longer be accepted. Set `keepdims` to True or False to avoid this warning.\n",
      "  mode = stats.mode(data)\n"
     ]
    }
   ],
   "source": [
    "import numpy as np\n",
    "from scipy import stats\n",
    "\n",
    "data = [178, 177, 176, 177, 178.2, 178, 175, 179,\n",
    "        180, 175, 178.9, 176.2, 177, 172.5, 178, 176.5]\n",
    "\n",
    "mean = np.mean(data)\n",
    "median = np.median(data)\n",
    "mode = stats.mode(data)\n",
    "\n",
    "\n",
    "print(\"The mean, median, and mode of the data are\",\n",
    "      mean, \",\", median, \",\", mode, \"respectively.\")\n"
   ]
  },
  {
   "attachments": {},
   "cell_type": "markdown",
   "metadata": {},
   "source": [
    "#### Q4. Find the standard deviation for the given data:\n",
    "#### [178,177,176,177,178.2,178,175,179,180,175,178.9,176.2,177,172.5,178,176.5]"
   ]
  },
  {
   "cell_type": "code",
   "execution_count": 2,
   "metadata": {},
   "outputs": [
    {
     "name": "stdout",
     "output_type": "stream",
     "text": [
      "The standard deviation of the data is  1.7885814036548633\n"
     ]
    }
   ],
   "source": [
    "import numpy as np\n",
    "from scipy import stats\n",
    "\n",
    "data = [178, 177, 176, 177, 178.2, 178, 175, 179,\n",
    "        180, 175, 178.9, 176.2, 177, 172.5, 178, 176.5]\n",
    "\n",
    "std = np.std(data)\n",
    "print(\"The standard deviation of the data is \", std)"
   ]
  },
  {
   "cell_type": "markdown",
   "metadata": {},
   "source": [
    "#### Q5. How are measures of dispersion such as range, variance, and standard deviation used to describe the spread of a dataset? Provide an example."
   ]
  },
  {
   "attachments": {},
   "cell_type": "markdown",
   "metadata": {},
   "source": [
    "- Measures of dispersion, such as range, variance, and standard deviation, are used to describe the spread of a dataset by indicating how much the values vary from the central tendency measure (mean, median, or mode).\n",
    "\n",
    "- Range\n",
    "    - The range is the difference between the largest and smallest values in a dataset. It provides a simple measure of the spread of the data, but it is highly influenced by outliers and may not be very informative.\n",
    "    - For example, if we have a dataset of exam scores:\n",
    "        - [65, 70, 75, 80, 85, 90]\n",
    "            - The range is 25 (90 - 65).\n",
    "\n",
    "- Variance\n",
    "    - The variance measures how much the values in a dataset vary from the mean. It is calculated by taking the average of the squared differences between each value and the mean.\n",
    "    - A higher variance indicates that the data is more spread out, while a lower variance indicates that the data is more tightly clustered around the mean.\n",
    "    - For example, if we have a dataset of exam scores:\n",
    "        - [65, 70, 75, 80, 85, 90]\n",
    "            - the variance is 62.5.\n",
    "\n",
    "- Standard deviation\n",
    "    - The standard deviation is the square root of the variance. It measures how much the values in a dataset vary from the mean in the same units as the original data.\n",
    "    - A higher standard deviation indicates that the data is more spread out, while a lower standard deviation indicates that the data is more tightly clustered around the mean.\n",
    "    - For example, if we have a dataset of exam scores:\n",
    "        - [65, 70, 75, 80, 85, 90]\n",
    "            - the standard deviation is approximately 7.91.\n",
    "\n",
    "- In the example above, the range, variance, and standard deviation all provide information about the spread of the exam scores. The range tells us that the highest score is 25 points higher than the lowest score, but it doesn't provide any information about how tightly clustered the scores are around the mean. The variance and standard deviation tell us that the scores are spread out quite a bit, with a high variance and standard deviation indicating that the scores are more widely dispersed around the mean.\n",
    "- Overall, measures of dispersion are used to provide additional information about the data beyond the measures of central tendency, and they can be useful in comparing different datasets to determine if they have similar or different distributions."
   ]
  },
  {
   "attachments": {},
   "cell_type": "markdown",
   "metadata": {},
   "source": [
    "#### Q6. What is a Venn diagram?"
   ]
  },
  {
   "attachments": {},
   "cell_type": "markdown",
   "metadata": {},
   "source": [
    "- A Venn diagram is a widely used diagram style that shows the logical relation between sets, popularized by John Venn (1834–1923) in the 1880s.\n",
    "- These diagrams are used to teach elementary set theory and to illustrate simple set relationships in probability, logic, statistics, linguistics and computer science.\n",
    "- A Venn diagram uses simple closed curves drawn on a plane to represent sets. Very often, these curves are circles or ellipses"
   ]
  },
  {
   "attachments": {},
   "cell_type": "markdown",
   "metadata": {},
   "source": [
    "#### Q7. For the two given sets:\n",
    "#### A = (2,3,4,5,6,7) & B = (0,2,6,8,10).\n",
    "#### Find: (i)  A (intersection) B\n",
    "#### (ii) A ⋃ B"
   ]
  },
  {
   "attachments": {},
   "cell_type": "markdown",
   "metadata": {},
   "source": [
    "- (i) Intersection\n",
    "    - Common elements\n",
    "    - Elements are : {2, 6}\n",
    "    #\n",
    "- (ii) Union\n",
    "    - Combination of elements\n",
    "    - Elements are : {0, 2, 3, 4, 5, 6, 7, 8, 10}"
   ]
  },
  {
   "attachments": {},
   "cell_type": "markdown",
   "metadata": {},
   "source": [
    "#### Q8. What do you understand about skewness in data?"
   ]
  },
  {
   "attachments": {},
   "cell_type": "markdown",
   "metadata": {},
   "source": [
    "- Skewness is a measure of the asymmetry of a dataset. It indicates the degree to which the distribution of the data deviates from a symmetric distribution. A symmetric distribution is one in which the left half of the distribution is a mirror image of the right half. In contrast, a skewed distribution is one in which the tail of the distribution is longer on one side than the other.\n",
    "- Skewness can be positive, negative, or zero. A positive skew indicates that the tail of the distribution is longer on the right side, while a negative skew indicates that the tail of the distribution is longer on the left side. A skewness of zero indicates that the distribution is symmetric.\n",
    "- Skewness is an important property of data because it can have a significant impact on the interpretation of statistical analyses. For example, when data is positively skewed, the mean tends to be higher than the median, while when data is negatively skewed, the median tends to be higher than the mean. This can affect the interpretation of the central tendency of the data.\n",
    "#\n",
    "- In addition, skewness can affect the choice of statistical tests used to analyze the data. For example, when data is not normally distributed, certain statistical tests may be inappropriate, and alternative methods may need to be used.\n",
    "#\n",
    "- Therefore, it is important to consider the skewness of a dataset when analyzing data and to use appropriate statistical methods based on the skewness and other properties of the data."
   ]
  },
  {
   "attachments": {},
   "cell_type": "markdown",
   "metadata": {},
   "source": [
    "#### Q9. If a data is right skewed then what will be the position of median with respect to mean?"
   ]
  },
  {
   "attachments": {},
   "cell_type": "markdown",
   "metadata": {},
   "source": [
    "- If a data is right-skewed, then the median is likely to be lower than the mean.\n",
    "- This is because the right-skewed data has a long tail on the right side, which pulls the mean towards the right side and makes it higher than the median.\n",
    "#\n",
    "- To understand this, consider the following example:\n",
    "    - Suppose we have a dataset of salaries for a company, and the data is right-skewed.\n",
    "    - This means that most of the salaries are relatively low, but there are a few very high salaries that pull the distribution towards the right side.\n",
    "    - In this case, the median salary would be the salary that falls exactly in the middle of the dataset, with 50% of salaries above it and 50% below it.\n",
    "    - However, the mean salary would be higher than the median because the high salaries on the right side of the distribution pull the average upwards.\n",
    "#\n",
    "- Overall, when the data is right-skewed, the median is likely to be lower than the mean, while when the data is left-skewed, the median is likely to be higher than the mean."
   ]
  },
  {
   "attachments": {},
   "cell_type": "markdown",
   "metadata": {},
   "source": [
    "#### Q10. Explain the difference between covariance and correlation. How are these measures used in statistical analysis?"
   ]
  },
  {
   "attachments": {},
   "cell_type": "markdown",
   "metadata": {},
   "source": [
    "- Covariance and correlation are two measures used in statistical analysis to quantify the relationship between two variables.\n",
    "- Both measures are used to assess the degree to which two variables are related to each other, but they differ in their interpretation and scale.\n",
    "#\n",
    "- Covariance\n",
    "    - Covariance is a measure of how two variables vary together.\n",
    "    - It is calculated as the average of the product of the deviations of each variable from their respective means.\n",
    "    - A positive covariance indicates that the two variables tend to increase or decrease together, while a negative covariance indicates that they tend to move in opposite directions.\n",
    "    - The magnitude of the covariance is not standardized and depends on the units of the variables being measured.\n",
    "#\n",
    "- Correlation\n",
    "    - Correlation is a measure of the strength and direction of the linear relationship between two variables.\n",
    "    - It ranges from -1 to 1, where -1 indicates a perfect negative linear relationship, 0 indicates no linear relationship, and 1 indicates a perfect positive linear relationship.\n",
    "    - Unlike covariance, correlation is standardized and is not affected by the scale of the variables.\n",
    "#\n",
    "- The main difference between covariance and correlation is that covariance only measures the direction of the relationship between two variables, while correlation measures both the direction and strength of the relationship.\n",
    "- Moreover, covariance can take any value depending on the units of the variables, while correlation is always between -1 and 1.\n",
    "#\n",
    "- Both covariance and correlation are used in statistical analysis to assess the relationship between two variables.\n",
    "- In particular, they are used to identify patterns and associations in the data, and to make predictions about one variable based on the other.\n",
    "- For example, in finance, covariance is used to measure the risk of a portfolio, while correlation is used to assess the degree to which two stocks are related to each other.\n",
    "- In social sciences, correlation is used to identify the relationship between two variables such as income and education, while in biology, covariance and correlation are used to assess the relationship between two genetic traits."
   ]
  },
  {
   "attachments": {},
   "cell_type": "markdown",
   "metadata": {},
   "source": [
    "#### Q11. What is the formula for calculating the sample mean? Provide an example calculation for a dataset."
   ]
  },
  {
   "attachments": {},
   "cell_type": "markdown",
   "metadata": {},
   "source": [
    "- The formula for calculating the sample mean is:\n",
    "\n",
    "- mean = (sum of all values in the dataset) / (number of values in the dataset)\n",
    "\n",
    "- Example\n",
    "    - Dataset: [2, 4, 6, 8, 10]\n",
    "\n",
    "    - First, we sum all the values in the dataset:\n",
    "\n",
    "    - sum = 2 + 4 + 6 + 8 + 10 = 30\n",
    "\n",
    "    - Then, we divide the sum by the number of values in the dataset:\n",
    "\n",
    "    - mean = 30 / 5 = 6\n",
    "\n",
    "    - So, the sample mean for this dataset is 6."
   ]
  },
  {
   "attachments": {},
   "cell_type": "markdown",
   "metadata": {},
   "source": [
    "#### Q12. For a normal distribution data what is the relationship between its measure of central tendency? "
   ]
  },
  {
   "attachments": {},
   "cell_type": "markdown",
   "metadata": {},
   "source": [
    "- For a normal distribution data, the mean, median, and mode are equal to each other.\n",
    "- This means that the measure of central tendency is the same, regardless of which measure is used to describe it.\n",
    "- This is because the normal distribution is a symmetric bell-shaped curve that has a single peak and an equal number of values on both sides of the mean.\n",
    "- In this distribution, the mean, median, and mode are all located at the center of the distribution, where the curve is highest and where the data is most concentrated.\n",
    "#\n",
    "- Therefore, in a normal distribution, the measure of central tendency is the same, and it is typically reported as a single value.\n",
    "- This value represents the \"typical\" or \"average\" value in the dataset and is used to summarize and compare different sets of data."
   ]
  },
  {
   "attachments": {},
   "cell_type": "markdown",
   "metadata": {},
   "source": [
    "#### Q13. How is covariance different from correlation?"
   ]
  },
  {
   "attachments": {},
   "cell_type": "markdown",
   "metadata": {},
   "source": [
    "- Covariance and correlation are both measures used to describe the relationship between two variables. However, there are several key differences between these two measures:\n",
    "#\n",
    "- Scale\n",
    "    - Covariance is not standardized, and its value depends on the scale of the variables being measured.\n",
    "    - In contrast, correlation is standardized and ranges from -1 to 1, regardless of the scale of the variables.\n",
    "    #\n",
    "- Interpretation\n",
    "    - Covariance measures the direction of the relationship between two variables (positive or negative), but it does not provide information on the strength of the relationship.\n",
    "    - Correlation, on the other hand, measures both the direction and strength of the relationship between two variables.\n",
    "    #\n",
    " - Range of values\n",
    "    - Covariance can take any value, positive or negative, while correlation is always between -1 and 1.\n",
    "    #\n",
    "- Units\n",
    "    - Covariance is measured in the units of the variables being measured, while correlation is unitless.\n",
    "    #\n",
    "- Sensitivity to outliers\n",
    "    - Covariance is sensitive to outliers in the data, while correlation is less affected by outliers.\n",
    "    #\n",
    "- In summary, covariance and correlation both describe the relationship between two variables, but correlation is more informative as it provides information about both the direction and strength of the relationship, it is standardized and not affected by the scale or units of the variables, and it is less sensitive to outliers in the data."
   ]
  },
  {
   "attachments": {},
   "cell_type": "markdown",
   "metadata": {},
   "source": [
    "#### Q14. How do outliers affect measures of central tendency and dispersion? Provide an example."
   ]
  },
  {
   "attachments": {},
   "cell_type": "markdown",
   "metadata": {},
   "source": [
    "- Outliers are data points that are significantly different from the other values in a dataset. These can affect measures of central tendency and dispersion in several ways:\n",
    "#\n",
    "- Mean\n",
    "    - Outliers can have a significant impact on the mean (average) of a dataset.\n",
    "    - A single outlier with a large value can shift the mean to be higher or lower than the \"typical\" value in the dataset.\n",
    "    #\n",
    "- Median\n",
    "    - The median is less affected by outliers than the mean, as it is based on the middle value of the dataset rather than the sum of all values.\n",
    "    - However, extreme outliers can still affect the median, especially if they are located close to the middle of the dataset.\n",
    "    #\n",
    "- Mode\n",
    "    - The mode is also less affected by outliers than the mean, as it is based on the most common value(s) in the dataset.\n",
    "    - However, if there are extreme outliers that occur more frequently than other values in the dataset, they can shift the mode to a different value.\n",
    "    #\n",
    "- Range\n",
    "    - Outliers can increase the range of a dataset, which is the difference between the maximum and minimum values.\n",
    "    - This can make it harder to interpret the spread of the data.\n",
    "    #\n",
    "- Variance and standard deviation\n",
    "    - Outliers can increase the variance and standard deviation of a dataset, as they contribute to greater variability in the data.\n",
    "    - This can make it harder to interpret the variability of the data and to compare it to other datasets.\n",
    "#\n",
    "- For example, consider the following dataset of exam scores:\n",
    "\n",
    "    - [60, 70, 75, 80, 82, 85, 90, 95, 100, 110]\n",
    "\n",
    "    - The mean score for this dataset is 84, but the presence of an outlier (110) makes it higher than most of the other scores.\n",
    "    - The median score is 85, which is less affected by the outlier. The mode is 75, which is the most common value in the dataset but is also influenced by the presence of the outlier.\n",
    "    - The range is 50, but the outlier increases the variance and standard deviation of the dataset, making it more variable and harder to compare to other datasets."
   ]
  }
 ],
 "metadata": {
  "kernelspec": {
   "display_name": "Python 3",
   "language": "python",
   "name": "python3"
  },
  "language_info": {
   "codemirror_mode": {
    "name": "ipython",
    "version": 3
   },
   "file_extension": ".py",
   "mimetype": "text/x-python",
   "name": "python",
   "nbconvert_exporter": "python",
   "pygments_lexer": "ipython3",
   "version": "3.10.10"
  },
  "orig_nbformat": 4
 },
 "nbformat": 4,
 "nbformat_minor": 2
}
