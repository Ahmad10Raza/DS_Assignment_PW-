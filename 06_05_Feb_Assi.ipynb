{
 "cells": [
  {
   "attachments": {},
   "cell_type": "markdown",
   "metadata": {},
   "source": [
    "## Data Science Masters - Hindi - 05 Feb 2023\n"
   ]
  },
  {
   "attachments": {},
   "cell_type": "markdown",
   "metadata": {},
   "source": [
    "#### Q1. Explain Class and Object with respect to Object-Oriented Programming. Give a suitable example.\n"
   ]
  },
  {
   "attachments": {},
   "cell_type": "markdown",
   "metadata": {},
   "source": [
    "Class - A class is a bluprint for creating objects.\n",
    "\n",
    "Object - An object is an initiation of a class. - Objects of a given class can invoke the methods available to it without revealing the implementation details to the user.\n",
    "\n",
    "Example:\n",
    "\n",
    "- Let consider a class Employee with attributes name, age, designation and salary.\n",
    "\n",
    "- An employee with name = 'Sohan', Age = 25, designation = \"Manager\" and salary = 1000.\n",
    "- Here the particular employee Sohan is an object of the class Employee. or Sohan is an instance of the class Employee.\n"
   ]
  },
  {
   "attachments": {},
   "cell_type": "markdown",
   "metadata": {},
   "source": [
    "#### Q2. Name the four pillars of OOPS.\n"
   ]
  },
  {
   "attachments": {},
   "cell_type": "markdown",
   "metadata": {},
   "source": [
    "The four pillars of OOPs are Polymorphism, Encapsulation, Inheritance and Abstraction.\n"
   ]
  },
  {
   "attachments": {},
   "cell_type": "markdown",
   "metadata": {},
   "source": [
    "#### Q3. Explain why the init() function is used. Give a suitable example.\n"
   ]
  },
  {
   "attachments": {},
   "cell_type": "markdown",
   "metadata": {},
   "source": [
    "**init**() is a method which is termed as constructor that takes self argument with a function call and initializes the attibute of the instance of the class at the time of creating it.\n"
   ]
  },
  {
   "cell_type": "code",
   "execution_count": 5,
   "metadata": {},
   "outputs": [
    {
     "name": "stdout",
     "output_type": "stream",
     "text": [
      "The salary of Sohan is 1000\n"
     ]
    }
   ],
   "source": [
    "# Example\n",
    "\n",
    "class Employee:\n",
    "    def __init__(self, name, salary):\n",
    "        self.name = name\n",
    "        self.salary = salary\n",
    "\n",
    "    def sal(self):\n",
    "        print(f\"The salary of {self.name} is {self.salary}\")\n",
    "\n",
    "\n",
    "# Initializes the object E1 with attributes name = \"Sohan\" and salary = \"1000\"\n",
    "E1 = Employee(\"Sohan\", 1000)\n",
    "E1.sal()\n"
   ]
  },
  {
   "attachments": {},
   "cell_type": "markdown",
   "metadata": {},
   "source": [
    "#### Q4. Why self is used in OOPS?\n"
   ]
  },
  {
   "attachments": {},
   "cell_type": "markdown",
   "metadata": {},
   "source": [
    "- The self parameter refers to the instance of the class.\n",
    "- It is automatically passed with a function call from an object.\n",
    "- It differentiates the class variable and object variable\n"
   ]
  },
  {
   "attachments": {},
   "cell_type": "markdown",
   "metadata": {},
   "source": [
    "#### Q5. What is inheritance? Give an example for each type of inheritance.\n"
   ]
  },
  {
   "attachments": {},
   "cell_type": "markdown",
   "metadata": {},
   "source": [
    "- Inheritance is a way of creating a new class by acquiring the properties an existing class.\n",
    "\n",
    "- There are 3 types of inheritance\n",
    "\n",
    "1. Single inheritance - When child class inherits only a single parent class.\n",
    "\n",
    "   - e.g\n",
    "\n",
    "   class Employee:\n",
    "   #CODE\n",
    "\n",
    "   class programmer(Employee): # Single Inheritance\n",
    "   #CODE\n",
    "\n",
    "2. Multiple inheritance - When child class inherits from more than one parent class.\n",
    "\n",
    "   - e.g\n",
    "\n",
    "   class Employee:\n",
    "   #CODE\n",
    "\n",
    "   class Team_Member:\n",
    "   #CODE\n",
    "\n",
    "   class Programmer(Employee, Team_Member): # Multiple Inheritance\n",
    "   #CODE\n",
    "\n",
    "3. Multi-level inheritance - When a child class becomes the parent class of another child class.\n",
    "\n",
    "   - e.g\n",
    "\n",
    "   class Employee:\n",
    "   #CODE\n",
    "\n",
    "   class Team_Member(Employee):\n",
    "   #CODE\n",
    "\n",
    "   class Programmer(Team_Member): # Multi-level Inheritance\n",
    "   #CODE\n",
    "\n",
    "4. Hierarchical inheritance - When more than one child class is inherited from one(same) parent class.\n",
    "\n",
    "   - e.g\n",
    "\n",
    "   class Employee:\n",
    "   #CODE\n",
    "\n",
    "   class Tester(Employee):\n",
    "   #CODE\n",
    "\n",
    "   class Programmer(Employee): # Hierarchial Inheritance\n",
    "   #CODE\n",
    "\n",
    "5. Hybrid iheritance - The combinations of simple, multiple, multilevel and hierarchical inheritance.\n",
    "\n",
    "   - e.g\n",
    "\n",
    "   class Employee:\n",
    "   #CODE\n",
    "\n",
    "   class Tester(Employee):\n",
    "   #CODE\n",
    "\n",
    "   class Beta-Tester(Tester):\n",
    "   #CODE\n",
    "\n",
    "   class Function_Test(Tester, Beta_Tester): # Hybrid inheritance\n",
    "   #CODE\n"
   ]
  }
 ],
 "metadata": {
  "kernelspec": {
   "display_name": "Python 3",
   "language": "python",
   "name": "python3"
  },
  "language_info": {
   "codemirror_mode": {
    "name": "ipython",
    "version": 3
   },
   "file_extension": ".py",
   "mimetype": "text/x-python",
   "name": "python",
   "nbconvert_exporter": "python",
   "pygments_lexer": "ipython3",
   "version": "3.10.9"
  },
  "orig_nbformat": 4,
  "vscode": {
   "interpreter": {
    "hash": "916dbcbb3f70747c44a77c7bcd40155683ae19c65e1c03b4aa3499c5328201f1"
   }
  }
 },
 "nbformat": 4,
 "nbformat_minor": 2
}
