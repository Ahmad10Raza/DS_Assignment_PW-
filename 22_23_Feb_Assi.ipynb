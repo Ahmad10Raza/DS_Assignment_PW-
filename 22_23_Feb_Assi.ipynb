{
 "cells": [
  {
   "cell_type": "markdown",
   "metadata": {},
   "source": [
    "## Data Science Masters - Hindi - 23 Feb 2023"
   ]
  },
  {
   "attachments": {},
   "cell_type": "markdown",
   "metadata": {},
   "source": [
    "#### Q1. Create a Pandas Series that contains the following data: 4, 8, 15, 16, 23, and 42. Then, print the series. "
   ]
  },
  {
   "cell_type": "code",
   "execution_count": 1,
   "metadata": {},
   "outputs": [
    {
     "name": "stdout",
     "output_type": "stream",
     "text": [
      "The type is  <class 'pandas.core.series.Series'>\n",
      "0     4\n",
      "1     8\n",
      "2    15\n",
      "3    16\n",
      "4    23\n",
      "5    42\n",
      "dtype: int64\n"
     ]
    }
   ],
   "source": [
    "import pandas as pd\n",
    "\n",
    "pd_s = [4, 8, 15, 16, 23, 42]\n",
    "df = pd.Series(pd_s)\n",
    "print(\"The type is \", type(df))\n",
    "print(df)\n"
   ]
  },
  {
   "attachments": {},
   "cell_type": "markdown",
   "metadata": {},
   "source": [
    "#### Q2. Create a variable of list type containing 10 elements in it, and apply pandas.Series function on the variable print it."
   ]
  },
  {
   "cell_type": "code",
   "execution_count": 2,
   "metadata": {},
   "outputs": [
    {
     "name": "stdout",
     "output_type": "stream",
     "text": [
      "0    64\n",
      "1    56\n",
      "2    37\n",
      "3    97\n",
      "4    32\n",
      "5    18\n",
      "6    90\n",
      "7    99\n",
      "8    78\n",
      "9    52\n",
      "dtype: int64\n"
     ]
    }
   ],
   "source": [
    "import random\n",
    "\n",
    "# generating 10 random integers and storing in a list\n",
    "li = [random.randint(1, 100) for i in range(10)]\n",
    "\n",
    "df = pd.Series(li)\n",
    "print(df)"
   ]
  },
  {
   "attachments": {},
   "cell_type": "markdown",
   "metadata": {},
   "source": [
    "#### Q3. Create a Pandas DataFrame that contains the following data: Then, print the DataFrame."
   ]
  },
  {
   "attachments": {
    "Screenshot_257.png": {
     "image/png": "[encoded data removed]"
    }
   },
   "cell_type": "markdown",
   "metadata": {},
   "source": [
    "![Screenshot_257.png](attachment:Screenshot_257.png)"
   ]
  },
  {
   "cell_type": "code",
   "execution_count": 3,
   "metadata": {},
   "outputs": [
    {
     "data": {
      "text/html": [
       "<div>\n",
       "<style scoped>\n",
       "    .dataframe tbody tr th:only-of-type {\n",
       "        vertical-align: middle;\n",
       "    }\n",
       "\n",
       "    .dataframe tbody tr th {\n",
       "        vertical-align: top;\n",
       "    }\n",
       "\n",
       "    .dataframe thead th {\n",
       "        text-align: right;\n",
       "    }\n",
       "</style>\n",
       "<table border=\"1\" class=\"dataframe\">\n",
       "  <thead>\n",
       "    <tr style=\"text-align: right;\">\n",
       "      <th></th>\n",
       "      <th>Name</th>\n",
       "      <th>Age</th>\n",
       "      <th>gender</th>\n",
       "    </tr>\n",
       "  </thead>\n",
       "  <tbody>\n",
       "    <tr>\n",
       "      <th>0</th>\n",
       "      <td>Alice</td>\n",
       "      <td>25</td>\n",
       "      <td>female</td>\n",
       "    </tr>\n",
       "    <tr>\n",
       "      <th>1</th>\n",
       "      <td>Bob</td>\n",
       "      <td>30</td>\n",
       "      <td>Female</td>\n",
       "    </tr>\n",
       "    <tr>\n",
       "      <th>2</th>\n",
       "      <td>Claire</td>\n",
       "      <td>27</td>\n",
       "      <td>Female</td>\n",
       "    </tr>\n",
       "  </tbody>\n",
       "</table>\n",
       "</div>"
      ],
      "text/plain": [
       "     Name  Age  gender\n",
       "0   Alice   25  female\n",
       "1     Bob   30  Female\n",
       "2  Claire   27  Female"
      ]
     },
     "execution_count": 3,
     "metadata": {},
     "output_type": "execute_result"
    }
   ],
   "source": [
    "data = [[\"Alice\", 25, \"female\"], [\n",
    "    \"Bob\", 30, \"Female\"], [\"Claire\", 27, \"Female\"]]\n",
    "df = pd.DataFrame(data, columns=[\"Name\", \"Age\", \"gender\"])\n",
    "df\n"
   ]
  },
  {
   "attachments": {},
   "cell_type": "markdown",
   "metadata": {},
   "source": [
    "#### Q4. What is ‘DataFrame’ in pandas and how is it different from pandas.series? Explain with an example."
   ]
  },
  {
   "attachments": {},
   "cell_type": "markdown",
   "metadata": {},
   "source": [
    "- A Pandas DataFrame is a 2-Dimensional data structure, like a 2 dimensional array, or a table with rows and columns.\n",
    "- Series is a 1-Dimensional array similar to a list or a column in a table.\n",
    "#\n",
    "\n",
    "\n",
    "<!-- DataFrame: Example                          Series: Example\n",
    "    Name        Dept    Section                 Roll\n",
    "    Aditya      CSE     1                       1\n",
    "    Krishna     CSE     2                       2\n",
    "    Ravi        CSE     3                       3\n",
    "    Manish      CSE     2                       4    -->\n",
    "\n",
    "    \n",
    "                 "
   ]
  },
  {
   "attachments": {
    "image.png": {
     "image/png": "[encoded data removed]"
    }
   },
   "cell_type": "markdown",
   "metadata": {},
   "source": [
    "![image.png](attachment:image.png)"
   ]
  },
  {
   "attachments": {},
   "cell_type": "markdown",
   "metadata": {},
   "source": [
    "#### Q5. What are some common functions you can use to manipulate data in a Pandas DataFrame? Can you give an example of when you might use one of these functions?"
   ]
  },
  {
   "attachments": {},
   "cell_type": "markdown",
   "metadata": {},
   "source": [
    "- Some common functions to manipulate a pandas dataframe are:\n",
    "    #\n",
    "    - Create a new dataframe\n",
    "        - df = pd.DataFrame()\n",
    "    #\n",
    "    - Adding a row in the dataframe\n",
    "        - df.append(row_data)\n",
    "    #\n",
    "    - Adding a column in the dataframe\n",
    "        - df.insert(0, 'column_name', column_value)\n",
    "    #\n",
    "    - Dropping columns in the dataframe\n",
    "        - df.drop('column_name', axis=1)\n",
    "    #\n",
    "    - Dropping rows in the dataframe\n",
    "        - df.drop(index_no, axis=0)\n",
    "    #\n",
    "    - Renaming a column in the dataset\n",
    "        - df.rename(columns={'old_name': 'new_name'})\n",
    "    #\n",
    "    - Select columns with specific data types\n",
    "        - df.select_dtypes('int')\n",
    "    #\n",
    "    - Slicing the dataframe\n",
    "        - df.iloc[:5, 0]\n",
    "    #\n",
    "    - Handle Duplicates in Dataset\n",
    "        - df.drop_duplicates()\n",
    "    #\n",
    "    - Select specific values in the column\n",
    "        - df[df['comumn_name'] == column_value]\n",
    "    #\n",
    "    - Group by in DataFrame\n",
    "        - df.groupby('column_name1').agg({'column_name2': 'aggregate_function'})\n",
    "    #\n",
    "    - Map in Pandas\n",
    "        - df['column_name'].map(lambda x: 'column_value1' if x==column1_value else 'column_value2')\n",
    "    #\n",
    "    - Sorting the DataFrame using multiple columns\n",
    "        - df.sort_values(by=['column_name'], ascending=True)\n",
    "    #\n",
    "    - Replacing values in a DataFrame\n",
    "        - df['column_name'].replace(['old_name1', 'old_nam2'], [\"new_name1\", \"new_name2\"])\n",
    "    #\n",
    "    - Save the DataFrame as desired format.\n",
    "        - e.g data.to_csv('path')\n",
    "#\n",
    "- If we want to get first five rows of the first column from a dataframe named 'df'. We can use iloc function to get our desired result.\n",
    "- The syantax would be : \n",
    "    - data = df.iloc[:5, 0]"
   ]
  },
  {
   "attachments": {},
   "cell_type": "markdown",
   "metadata": {},
   "source": [
    "#### Q6. Which of the following is mutable in nature Series, DataFrame, Panel? "
   ]
  },
  {
   "attachments": {},
   "cell_type": "markdown",
   "metadata": {},
   "source": [
    "- Value Mutable\n",
    "    - Series, DataFrame and Panel all three are value mutable.\n",
    "#\n",
    "- Size Mutable\n",
    "    - Only DataFrame and Panel are size mutable.\n",
    "    - Series is not size mutable."
   ]
  },
  {
   "attachments": {},
   "cell_type": "markdown",
   "metadata": {},
   "source": [
    "#### Q7. Create a DataFrame using multiple Series. Explain with an example."
   ]
  },
  {
   "cell_type": "code",
   "execution_count": 4,
   "metadata": {},
   "outputs": [
    {
     "data": {
      "text/html": [
       "<div>\n",
       "<style scoped>\n",
       "    .dataframe tbody tr th:only-of-type {\n",
       "        vertical-align: middle;\n",
       "    }\n",
       "\n",
       "    .dataframe tbody tr th {\n",
       "        vertical-align: top;\n",
       "    }\n",
       "\n",
       "    .dataframe thead th {\n",
       "        text-align: right;\n",
       "    }\n",
       "</style>\n",
       "<table border=\"1\" class=\"dataframe\">\n",
       "  <thead>\n",
       "    <tr style=\"text-align: right;\">\n",
       "      <th></th>\n",
       "      <th>ID</th>\n",
       "      <th>NAME</th>\n",
       "      <th>DEPT</th>\n",
       "    </tr>\n",
       "  </thead>\n",
       "  <tbody>\n",
       "    <tr>\n",
       "      <th>0</th>\n",
       "      <td>1</td>\n",
       "      <td>Aditya</td>\n",
       "      <td>CSE</td>\n",
       "    </tr>\n",
       "    <tr>\n",
       "      <th>1</th>\n",
       "      <td>2</td>\n",
       "      <td>Manish</td>\n",
       "      <td>IT</td>\n",
       "    </tr>\n",
       "    <tr>\n",
       "      <th>2</th>\n",
       "      <td>3</td>\n",
       "      <td>Ravi</td>\n",
       "      <td>AIML</td>\n",
       "    </tr>\n",
       "    <tr>\n",
       "      <th>3</th>\n",
       "      <td>4</td>\n",
       "      <td>Amit</td>\n",
       "      <td>CSBS</td>\n",
       "    </tr>\n",
       "    <tr>\n",
       "      <th>4</th>\n",
       "      <td>5</td>\n",
       "      <td>Sumit</td>\n",
       "      <td>ME</td>\n",
       "    </tr>\n",
       "    <tr>\n",
       "      <th>5</th>\n",
       "      <td>6</td>\n",
       "      <td>Avinish</td>\n",
       "      <td>ECE</td>\n",
       "    </tr>\n",
       "  </tbody>\n",
       "</table>\n",
       "</div>"
      ],
      "text/plain": [
       "   ID     NAME  DEPT\n",
       "0   1   Aditya   CSE\n",
       "1   2   Manish    IT\n",
       "2   3     Ravi  AIML\n",
       "3   4     Amit  CSBS\n",
       "4   5    Sumit    ME\n",
       "5   6  Avinish   ECE"
      ]
     },
     "execution_count": 4,
     "metadata": {},
     "output_type": "execute_result"
    }
   ],
   "source": [
    "import pandas as pd\n",
    "\n",
    "# List\n",
    "Id_ = [1, 2, 3, 4, 5, 6]\n",
    "Name_ = [\"Aditya\", \"Manish\", \"Ravi\", \"Amit\", \"Sumit\", \"Avinish\"]\n",
    "Dept_ = [\"CSE\", \"IT\", \"AIML\", \"CSBS\", \"ME\", \"ECE\"]\n",
    "\n",
    "# Series\n",
    "Id_S = pd.Series((Id_), name=\"ID\")\n",
    "Name_S = pd.Series((Name_), name=\"NAME\")\n",
    "Dept_S = pd.Series((Dept_), name=\"DEPT\")\n",
    "\n",
    "pd.concat([Id_S, Name_S, Dept_S], axis=1)"
   ]
  }
 ],
 "metadata": {
  "kernelspec": {
   "display_name": "Python 3",
   "language": "python",
   "name": "python3"
  },
  "language_info": {
   "codemirror_mode": {
    "name": "ipython",
    "version": 3
   },
   "file_extension": ".py",
   "mimetype": "text/x-python",
   "name": "python",
   "nbconvert_exporter": "python",
   "pygments_lexer": "ipython3",
   "version": "3.10.9"
  },
  "orig_nbformat": 4,
  "vscode": {
   "interpreter": {
    "hash": "916dbcbb3f70747c44a77c7bcd40155683ae19c65e1c03b4aa3499c5328201f1"
   }
  }
 },
 "nbformat": 4,
 "nbformat_minor": 2
}
