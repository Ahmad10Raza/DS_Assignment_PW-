{
 "cells": [
  {
   "attachments": {},
   "cell_type": "markdown",
   "metadata": {},
   "source": [
    "## Data Science Masters - Hindi - 10 Feb 2023"
   ]
  },
  {
   "attachments": {},
   "cell_type": "markdown",
   "metadata": {},
   "source": [
    "#### Q1. Which function is used to open a file? What are the different modes of opening a file? Explain each mode of file opening."
   ]
  },
  {
   "attachments": {},
   "cell_type": "markdown",
   "metadata": {},
   "source": [
    "- We use open() function to open a file in python.\n",
    "\n",
    "  - i.e f = open(\"file_name.extension\", \"opening_mode\")\n",
    "\n",
    "- There are about 12 file opening modes in python.\n",
    "- We generally use 6 out of 12 file opening modes.\n",
    "  1. \"r\" - Read Only\n",
    "     - This is the defalt mode for opening a file.\n",
    "     - It is used for opening a text file with reading purpose.\n",
    "     - The file pointer is placed at the beginning of the file.\n",
    "     - It throws an I/O error in case the file doesn't exist.\n",
    "  #\n",
    "  2. \"w\" - Write Only\n",
    "     - It is used for opening a text file with writing purpose.\n",
    "     - It creates the file if the file doesn't exist.\n",
    "     - If the file exists, the file content is overwritten with new content passed by the user.\n",
    "     - The file pointer is placed at the beginning of the file.\n",
    "  #\n",
    "  3. \"r+\" - Read and Write\n",
    "     - It is used for opening a text file with reading and writing purpose.\n",
    "     - It throws an I/O error in case the file doesn't exist.\n",
    "     - The file pointer is placed at the beginning of the file.\n",
    "  #\n",
    "  4. \"w+\" - Write and Read\n",
    "     - It is used for opening a text file with reading and writing purpose.\n",
    "     - If the file exists, the file content is overwritten with new content passed by the user.\n",
    "     - It creates the file if the file doesn't exist.\n",
    "     - The file pointer is placed at the beginning of the file.\n",
    "  #\n",
    "  5. \"a\" - Append Only\n",
    "     - It is used for opening a text file with writing purpose.\n",
    "     - It creates the file if the file doesn't exist.\n",
    "     - If the file exists, the new content is appeneded at the end of the file content.\n",
    "     - The file pointer is placed at the beginning of the file.\n",
    "  #\n",
    "  6. \"a+\" - Append and Read\n",
    "     - It is used for opening a text file with reading and writing purpose.\n",
    "     - It creates the file if the file doesn't exist.\n",
    "     - If the file exists, the new content is appeneded at the end of the file content.\n",
    "     - The file pointer is placed at the beginning of the file.\n",
    "   #\n",
    "   #\n",
    "   - The other 6 operations are same as above with the only difference as they are opened in binary format.\n"
   ]
  },
  {
   "attachments": {},
   "cell_type": "markdown",
   "metadata": {},
   "source": [
    "#### Q2. Why close() function is used? Why is it important to close a file?"
   ]
  },
  {
   "attachments": {},
   "cell_type": "markdown",
   "metadata": {},
   "source": [
    "- close() function is used to close an opened file.\n",
    "- It is important to close a file to deallocate the file descriptor beacuse there is a limit for file\n",
    "    descriptors in python as we have a limited resource on a computer.\n",
    "- Context Manager is used by using with statement to get rid of closing a file explicitly."
   ]
  },
  {
   "attachments": {},
   "cell_type": "markdown",
   "metadata": {},
   "source": [
    "#### Q3. Write a python program to create a text file. Write ‘I want to become a Data Scientist’ in that file. Then close the file. Open this file and read the content of the file. "
   ]
  },
  {
   "cell_type": "code",
   "execution_count": 56,
   "metadata": {},
   "outputs": [
    {
     "name": "stdout",
     "output_type": "stream",
     "text": [
      "File created and written successfully\n",
      "I want to become a Data Scientist\n"
     ]
    }
   ],
   "source": [
    "f = open(\"test.txt\", \"w\")\n",
    "f.write(\"I want to become a Data Scientist\")\n",
    "f.close()\n",
    "print(\"File created and written successfully\")\n",
    "\n",
    "\n",
    "f = open(\"test.txt\", \"r\")\n",
    "print(f.read())\n",
    "f.close()"
   ]
  },
  {
   "attachments": {},
   "cell_type": "markdown",
   "metadata": {},
   "source": [
    "#### Q4. Explain the following with python code: read(), readline() and readlines(). "
   ]
  },
  {
   "attachments": {},
   "cell_type": "markdown",
   "metadata": {},
   "source": [
    "- read()\n",
    "    - It returns the whole file content line by line.\n",
    "    - We can also specifiy number of bytes to return by passing a parameter.\n",
    "    - Default passed parameter is -1 which means the whole file.\n",
    "#\n",
    "- readline()\n",
    "    - It iterates one line at a time starting from beginning of the file.\n",
    "    - We can also specifiy number of bytes to return by passing a parameter.\n",
    "    - Default passed parameter is -1 which means the whole file.\n",
    "#\n",
    "- readlines()\n",
    "    - This method returns a list containing each line in the file as a list item.\n",
    "    - We can also specifiy number of bytes to return by passing a parameter.\n",
    "    - Default passed parameter is -1 which means the whole file."
   ]
  },
  {
   "attachments": {},
   "cell_type": "markdown",
   "metadata": {},
   "source": [
    "#### Q5. Explain why with statement is used with open(). What is the advantage of using with statement and open() together?"
   ]
  },
  {
   "attachments": {},
   "cell_type": "markdown",
   "metadata": {},
   "source": [
    "- The with statement is used wth the open() function to open a file.\n",
    "- With statement is used so that we don't have to close the file descriptor explicitly.\n",
    "- With statement helps us in a managing resource in an efficient manner."
   ]
  },
  {
   "attachments": {},
   "cell_type": "markdown",
   "metadata": {},
   "source": [
    "#### Q6. Explain the write() and writelines() functions. Give a suitable example."
   ]
  },
  {
   "attachments": {},
   "cell_type": "markdown",
   "metadata": {},
   "source": [
    "- write()\n",
    "    - write() function takes a string as an input argument and writes it to file\n",
    "    - To store data in line by line format, we hve to add '\\n' character to the end of each string.\n",
    "    - While writing a numeric value we have to either write it in quotes or typecast it into an string."
   ]
  },
  {
   "cell_type": "code",
   "execution_count": 57,
   "metadata": {},
   "outputs": [
    {
     "name": "stdout",
     "output_type": "stream",
     "text": [
      "1st write2nd write3rd write44\n"
     ]
    }
   ],
   "source": [
    "# Runs successfully\n",
    "f = open(\"t.txt\", \"w\")\n",
    "f.write('1st write')\n",
    "f.write('2nd write')\n",
    "f.write('3rd write')\n",
    "a = 44\n",
    "f.write(str(a))\n",
    "f.close()\n",
    "\n",
    "f = open(\"t.txt\")\n",
    "print(f.read())\n",
    "f.close()\n"
   ]
  },
  {
   "attachments": {},
   "cell_type": "markdown",
   "metadata": {},
   "source": [
    "- writelines()\n",
    "    - writelines() funcion is uded to write iterables(e,g string, list, tuple) in a file.\n",
    "    - While writing a numeric value we have to either write it in quotes or typecast it into an string."
   ]
  },
  {
   "cell_type": "code",
   "execution_count": 58,
   "metadata": {},
   "outputs": [
    {
     "name": "stdout",
     "output_type": "stream",
     "text": [
      "1st Write2nd Write3rd Write\n"
     ]
    }
   ],
   "source": [
    "f = open(\"t1.txt\", \"w\")\n",
    "l = [\"1st Write\", \"2nd Write\", \"3rd Write\"]\n",
    "f.writelines(l)  # or\n",
    "# for i in l:\n",
    "#     f.writelines(i)\n",
    "f.close()\n",
    "\n",
    "f = open(\"t1.txt\")\n",
    "print(f.read())\n",
    "f.close()\n"
   ]
  },
  {
   "cell_type": "code",
   "execution_count": 59,
   "metadata": {},
   "outputs": [
    {
     "ename": "TypeError",
     "evalue": "write() argument must be str, not list",
     "output_type": "error",
     "traceback": [
      "\u001b[0;31m---------------------------------------------------------------------------\u001b[0m",
      "\u001b[0;31mTypeError\u001b[0m                                 Traceback (most recent call last)",
      "Cell \u001b[0;32mIn[59], line 4\u001b[0m\n\u001b[1;32m      2\u001b[0m f \u001b[39m=\u001b[39m \u001b[39mopen\u001b[39m(\u001b[39m\"\u001b[39m\u001b[39mt1.txt\u001b[39m\u001b[39m\"\u001b[39m, \u001b[39m\"\u001b[39m\u001b[39mw\u001b[39m\u001b[39m\"\u001b[39m)\n\u001b[1;32m      3\u001b[0m l \u001b[39m=\u001b[39m [\u001b[39m\"\u001b[39m\u001b[39m1st Write\u001b[39m\u001b[39m\"\u001b[39m, \u001b[39m\"\u001b[39m\u001b[39m2nd Write\u001b[39m\u001b[39m\"\u001b[39m, \u001b[39m\"\u001b[39m\u001b[39m3rd Write\u001b[39m\u001b[39m\"\u001b[39m]\n\u001b[0;32m----> 4\u001b[0m f\u001b[39m.\u001b[39;49mwrite(l)\n\u001b[1;32m      5\u001b[0m f\u001b[39m.\u001b[39mclose()\n",
      "\u001b[0;31mTypeError\u001b[0m: write() argument must be str, not list"
     ]
    }
   ],
   "source": [
    "# Throws an error as write function can't take an iterable (i.e list) as input argument\n",
    "f = open(\"t1.txt\", \"w\")\n",
    "l = [\"1st Write\", \"2nd Write\", \"3rd Write\"]\n",
    "f.write(l)\n",
    "f.close()\n"
   ]
  }
 ],
 "metadata": {
  "kernelspec": {
   "display_name": "Python 3",
   "language": "python",
   "name": "python3"
  },
  "language_info": {
   "codemirror_mode": {
    "name": "ipython",
    "version": 3
   },
   "file_extension": ".py",
   "mimetype": "text/x-python",
   "name": "python",
   "nbconvert_exporter": "python",
   "pygments_lexer": "ipython3",
   "version": "3.10.9"
  },
  "orig_nbformat": 4,
  "vscode": {
   "interpreter": {
    "hash": "916dbcbb3f70747c44a77c7bcd40155683ae19c65e1c03b4aa3499c5328201f1"
   }
  }
 },
 "nbformat": 4,
 "nbformat_minor": 2
}
