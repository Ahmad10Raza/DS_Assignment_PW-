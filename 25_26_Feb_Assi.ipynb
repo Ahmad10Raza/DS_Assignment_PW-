{
 "cells": [
  {
   "attachments": {},
   "cell_type": "markdown",
   "metadata": {},
   "source": [
    "## Data Science Masters - Hindi - 26 Feb 2023"
   ]
  },
  {
   "cell_type": "code",
   "execution_count": 20,
   "metadata": {},
   "outputs": [],
   "source": [
    "import numpy as np\n",
    "list_ = ['1', '2', '3', '4', '5']\n",
    "array_list = np.array(object=list_)"
   ]
  },
  {
   "attachments": {},
   "cell_type": "markdown",
   "metadata": {},
   "source": [
    "#### Q1. Is there any difference in the data type of variables list_ and array_list? If there is then write a code to print the data types of both the variables."
   ]
  },
  {
   "attachments": {},
   "cell_type": "markdown",
   "metadata": {},
   "source": [
    "- Yes, the variable 'list_' and 'array_list_' are different."
   ]
  },
  {
   "cell_type": "code",
   "execution_count": 28,
   "metadata": {},
   "outputs": [
    {
     "name": "stdout",
     "output_type": "stream",
     "text": [
      "The datatype of variable list_ is <class 'list'>\n",
      "The datatype of array_list is <class 'numpy.ndarray'>\n"
     ]
    }
   ],
   "source": [
    "print(\"The datatype of variable list_ is\", type(list_))\n",
    "print(\"The datatype of array_list is\", type(array_list))"
   ]
  },
  {
   "attachments": {},
   "cell_type": "markdown",
   "metadata": {},
   "source": [
    "#### Q2. Write a code to print the data type of each and every element of both the variables list_ and array_list."
   ]
  },
  {
   "cell_type": "code",
   "execution_count": 31,
   "metadata": {},
   "outputs": [
    {
     "name": "stdout",
     "output_type": "stream",
     "text": [
      "The datatype inside variable list_\n",
      "\tThe datatype is <class 'str'>\n",
      "\tThe datatype is <class 'str'>\n",
      "\tThe datatype is <class 'str'>\n",
      "\tThe datatype is <class 'str'>\n",
      "\tThe datatype is <class 'str'>\n",
      "The datatype inside array_list\n",
      "\tThe datatype is <class 'numpy.str_'>\n",
      "\tThe datatype is <class 'numpy.str_'>\n",
      "\tThe datatype is <class 'numpy.str_'>\n",
      "\tThe datatype is <class 'numpy.str_'>\n",
      "\tThe datatype is <class 'numpy.str_'>\n"
     ]
    }
   ],
   "source": [
    "print(\"The datatype inside variable list_\")\n",
    "for i in list_:\n",
    "    print(\"\\tThe datatype is\",type(i))\n",
    "\n",
    "print(\"The datatype inside array_list\")\n",
    "for i in array_list:\n",
    "    print(\"\\tThe datatype is\",type(i))"
   ]
  },
  {
   "attachments": {},
   "cell_type": "markdown",
   "metadata": {},
   "source": [
    "#### Q3.  Considering the following changes in the variable, array_list:\n",
    "#\n",
    "#### array_list = np.array(object = list_, dtype = int)\n",
    "#\n",
    "#### Will there be any difference in the data type of the elements present in both the variables, list_ and arra_list? If so then print the data types of each and every element present in both the variables, list_ and arra_list.\n",
    "#\n",
    "#### Consider the below code to answer further questions:\n",
    "#\n",
    "#### import numpy as np\n",
    "#### num_list = [ [ 1 , 2 , 3 ] , [ 4 , 5 , 6 ] ]\n",
    "#### num_array = np.array(object = num_list)"
   ]
  },
  {
   "cell_type": "code",
   "execution_count": 34,
   "metadata": {},
   "outputs": [
    {
     "name": "stdout",
     "output_type": "stream",
     "text": [
      "The datatype inside variable list_\n",
      "\tThe datatype is <class 'str'>\n",
      "\tThe datatype is <class 'str'>\n",
      "\tThe datatype is <class 'str'>\n",
      "\tThe datatype is <class 'str'>\n",
      "\tThe datatype is <class 'str'>\n",
      "The datatype inside array_list\n",
      "\tThe datatype is <class 'numpy.int64'>\n",
      "\tThe datatype is <class 'numpy.int64'>\n",
      "\tThe datatype is <class 'numpy.int64'>\n",
      "\tThe datatype is <class 'numpy.int64'>\n",
      "\tThe datatype is <class 'numpy.int64'>\n"
     ]
    }
   ],
   "source": [
    "array_list = np.array(object=list_, dtype=int)\n",
    "\n",
    "print(\"The datatype inside variable list_\")\n",
    "for i in list_:\n",
    "    print(\"\\tThe datatype is\",type(i))\n",
    "\n",
    "print(\"The datatype inside array_list\")\n",
    "for i in array_list:\n",
    "    print(\"\\tThe datatype is\",type(i))"
   ]
  },
  {
   "attachments": {},
   "cell_type": "markdown",
   "metadata": {},
   "source": [
    "- Yes, the datatype for the elements inside the arrya_list have changed."
   ]
  },
  {
   "cell_type": "code",
   "execution_count": 36,
   "metadata": {},
   "outputs": [],
   "source": [
    "import numpy as np\n",
    "num_list = [[1, 2, 3], [4, 5, 6]]\n",
    "num_array =np.array(object=num_list)"
   ]
  },
  {
   "attachments": {},
   "cell_type": "markdown",
   "metadata": {},
   "source": [
    "#### Q4. Write a code to find the following characteristics of variable, num_array:\n",
    "#### (i) shape"
   ]
  },
  {
   "cell_type": "code",
   "execution_count": 37,
   "metadata": {},
   "outputs": [
    {
     "data": {
      "text/plain": [
       "(2, 3)"
      ]
     },
     "execution_count": 37,
     "metadata": {},
     "output_type": "execute_result"
    }
   ],
   "source": [
    "# Dimension of the data\n",
    "import numpy as np\n",
    "np.shape(num_array)"
   ]
  },
  {
   "attachments": {},
   "cell_type": "markdown",
   "metadata": {},
   "source": [
    "#### (ii) size  "
   ]
  },
  {
   "cell_type": "code",
   "execution_count": 38,
   "metadata": {},
   "outputs": [
    {
     "data": {
      "text/plain": [
       "6"
      ]
     },
     "execution_count": 38,
     "metadata": {},
     "output_type": "execute_result"
    }
   ],
   "source": [
    "# Total no of elements\n",
    "import numpy as np\n",
    "np.size(num_array)"
   ]
  },
  {
   "attachments": {},
   "cell_type": "markdown",
   "metadata": {},
   "source": [
    "#### Q5. Write a code to create numpy array of 3*3 matrix containing zeros only, using a numpy array creation function. [Hint: The size of the array will be 9 and the shape will be (3,3).]"
   ]
  },
  {
   "cell_type": "code",
   "execution_count": 39,
   "metadata": {},
   "outputs": [
    {
     "data": {
      "text/plain": [
       "array([[0., 0., 0.],\n",
       "       [0., 0., 0.],\n",
       "       [0., 0., 0.]])"
      ]
     },
     "execution_count": 39,
     "metadata": {},
     "output_type": "execute_result"
    }
   ],
   "source": [
    "import numpy as np\n",
    "np.zeros((3, 3))"
   ]
  },
  {
   "attachments": {},
   "cell_type": "markdown",
   "metadata": {},
   "source": [
    "  #### Q6. Create an identity matrix of shape (5,5) using numpy functions? [Hint: An identity matrix is a matrix containing 1 diagonally and other elements will be 0.]"
   ]
  },
  {
   "cell_type": "code",
   "execution_count": 45,
   "metadata": {},
   "outputs": [
    {
     "data": {
      "text/plain": [
       "array([[1., 0., 0., 0., 0.],\n",
       "       [0., 1., 0., 0., 0.],\n",
       "       [0., 0., 1., 0., 0.],\n",
       "       [0., 0., 0., 1., 0.],\n",
       "       [0., 0., 0., 0., 1.]])"
      ]
     },
     "execution_count": 45,
     "metadata": {},
     "output_type": "execute_result"
    }
   ],
   "source": [
    "import numpy as np\n",
    "np.eye(5)"
   ]
  }
 ],
 "metadata": {
  "kernelspec": {
   "display_name": "Python 3",
   "language": "python",
   "name": "python3"
  },
  "language_info": {
   "codemirror_mode": {
    "name": "ipython",
    "version": 3
   },
   "file_extension": ".py",
   "mimetype": "text/x-python",
   "name": "python",
   "nbconvert_exporter": "python",
   "pygments_lexer": "ipython3",
   "version": "3.10.9"
  },
  "orig_nbformat": 4
 },
 "nbformat": 4,
 "nbformat_minor": 2
}
