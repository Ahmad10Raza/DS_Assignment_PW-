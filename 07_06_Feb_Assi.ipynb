{
 "cells": [
  {
   "attachments": {},
   "cell_type": "markdown",
   "metadata": {},
   "source": [
    "## Data Science Masters - Hindi - 06 Feb 2023\n"
   ]
  },
  {
   "attachments": {},
   "cell_type": "markdown",
   "metadata": {},
   "source": [
    "#### Q1. Create a function which will take a list as an argument and return the product of all the numbers after creating a flat list.\n",
    "\n",
    "#### Use the below-given list as an argument for your function.\n",
    "\n",
    "#### list = [1,2,3,4, [44,55,66, True], False, (34,56,78,89,34), (1,2,3,3,2,1), (1:34, \"key2\": [55, 67, 78, 89], 4: (45, 22, 61, 34)], [56, 'data science'], 'Machine Learning']\n",
    "\n",
    "#### Note: you must extract numeric keys and values of the dictionary also.\n"
   ]
  },
  {
   "cell_type": "code",
   "execution_count": 1,
   "metadata": {},
   "outputs": [
    {
     "name": "stdout",
     "output_type": "stream",
     "text": [
      "[1, 2, 3, 4, 44, 55, 66, 34, 56, 78, 89, 34, 1, 2, 3, 1, 4, 34, 55, 67, 78, 89, 45, 22, 61, 34, 56]\n",
      "4134711838987085478833841242112000\n"
     ]
    }
   ],
   "source": [
    "from functools import reduce\n",
    "\n",
    "li = [\n",
    "    1, 2, 3, 4, [44, 55, 66, True], False, (34, 56, 78, 89, 34),\n",
    "    {1, 2, 3, 3, 2, 1}, {\n",
    "        1: 34,\n",
    "        \"key2\": [55, 67, 78, 89],\n",
    "        4: (45, 22, 61, 34)\n",
    "    }, [56, 'data science'], 'machine learning'\n",
    "]\n",
    "l = []\n",
    "for i in li:\n",
    "    if (isinstance(i, int) and type(i) != bool):\n",
    "        l.append(i)\n",
    "    elif (isinstance(i, list)):\n",
    "        for j in i:\n",
    "            if (isinstance(j, int) and type(j) != bool):\n",
    "                l.append(j)\n",
    "    elif (isinstance(i, tuple)):\n",
    "        for j in i:\n",
    "            if (isinstance(j, int) and type(j) != bool):\n",
    "                l.append(j)\n",
    "    elif (isinstance(i, set)):\n",
    "        for j in i:\n",
    "            if (isinstance(j, int) and type(j) != bool):\n",
    "                l.append(j)\n",
    "    elif (isinstance(i, dict)):\n",
    "        for j in i.keys():\n",
    "            if (isinstance(j, int)):\n",
    "                l.append(j)\n",
    "        for j in i.values():\n",
    "            if (isinstance(j, int)):\n",
    "                l.append(j)\n",
    "            elif (isinstance(j, list)):\n",
    "                for k in j:\n",
    "                    if (isinstance(k, int)):\n",
    "                        l.append(k)\n",
    "            elif (isinstance(j, tuple)):\n",
    "                for k in j:\n",
    "                    if (isinstance(k, int)):\n",
    "                        l.append(k)\n",
    "\n",
    "p = reduce((lambda x, y: x * y), l)\n",
    "print(l)\n",
    "# [1, 2, 3, 4, 44, 55, 66, 34, 56, 78, 89, 34, 1, 2, 3, 1, 4, 34, 55, 67, 78, 89, 45, 22, 61, 34, 56]\n",
    "\n",
    "print(p)\n",
    "# 4134711838987085478833841242112000"
   ]
  },
  {
   "attachments": {},
   "cell_type": "markdown",
   "metadata": {},
   "source": [
    "#### Q2. Write a python program for encrypting a message sent to you by your friend. The logic of encryption should be such that, for 'a' the output should be 'z'. For 'b', the output should be 'y'. For 'c', the output should be 'x' respectively. Also, the whitespace should be replaced with a dollar sign. Keep the punctuation marks unchanged.\n",
    "\n",
    "#### Input Sentence: I want to become a Data Scientist.\n",
    "\n",
    "#### Encrypt the above input sentence using the program you just created.\n",
    "\n",
    "#### Note: Convert the given input sentence into lowercase before encrypting. The final output should be lowercase.\n"
   ]
  },
  {
   "cell_type": "code",
   "execution_count": 2,
   "metadata": {},
   "outputs": [
    {
     "name": "stdout",
     "output_type": "stream",
     "text": [
      "r$dzmg$gl$yvxlnv$z$wzgz$hxrvmgrhg"
     ]
    }
   ],
   "source": [
    "a = \"I want to become a Data Scientist\"\n",
    "a = a.lower()\n",
    "for i in range(len(a)):\n",
    "    ch = chr(219-ord(a[i]))\n",
    "    if (ch == chr(187)):\n",
    "        print(\"$\", end=\"\")\n",
    "    else:\n",
    "        print(ch, end='')"
   ]
  }
 ],
 "metadata": {
  "kernelspec": {
   "display_name": "Python 3",
   "language": "python",
   "name": "python3"
  },
  "language_info": {
   "codemirror_mode": {
    "name": "ipython",
    "version": 3
   },
   "file_extension": ".py",
   "mimetype": "text/x-python",
   "name": "python",
   "nbconvert_exporter": "python",
   "pygments_lexer": "ipython3",
   "version": "3.10.9"
  },
  "orig_nbformat": 4,
  "vscode": {
   "interpreter": {
    "hash": "916dbcbb3f70747c44a77c7bcd40155683ae19c65e1c03b4aa3499c5328201f1"
   }
  }
 },
 "nbformat": 4,
 "nbformat_minor": 2
}
