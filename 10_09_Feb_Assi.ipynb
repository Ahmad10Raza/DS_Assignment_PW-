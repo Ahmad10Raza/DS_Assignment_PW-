{
 "cells": [
  {
   "attachments": {},
   "cell_type": "markdown",
   "metadata": {},
   "source": [
    "## Data Science Masters - Hindi - 09 Feb 2023"
   ]
  },
  {
   "attachments": {},
   "cell_type": "markdown",
   "metadata": {},
   "source": [
    "#### Q1. Create a vehicle class with an init method having instance variables as name_of_vehicle, max_speed and average_of_vehicle."
   ]
  },
  {
   "cell_type": "code",
   "execution_count": 18,
   "metadata": {},
   "outputs": [],
   "source": [
    "class vehicle:\n",
    "    def __init__(self, name, max_speed, average):\n",
    "        self.name = name\n",
    "        self.max_speed = max_speed\n",
    "        self.average = average"
   ]
  },
  {
   "attachments": {},
   "cell_type": "markdown",
   "metadata": {},
   "source": [
    "#### Q2. Create a child class car from the vehicle class created in Q1, which will inherit the vehicle class. Create a method named seating_capacity which takes capacity as an argument and returns the name of the vehicle and its seating capacity."
   ]
  },
  {
   "cell_type": "code",
   "execution_count": 19,
   "metadata": {},
   "outputs": [
    {
     "data": {
      "text/plain": [
       "('BMW', 5)"
      ]
     },
     "execution_count": 19,
     "metadata": {},
     "output_type": "execute_result"
    }
   ],
   "source": [
    "class vehicle:\n",
    "    def __init__(self, name, max_speed, average):\n",
    "        self.name = name\n",
    "        self.max_speed = max_speed\n",
    "        self.average = average\n",
    "\n",
    "\n",
    "class car(vehicle):\n",
    "    def seating_capacity(self, capacity):\n",
    "        self.capacity = capacity\n",
    "        return (self.name, self.capacity)\n",
    "\n",
    "\n",
    "c1 = car(\"BMW\", 320, 12)\n",
    "c1.seating_capacity(5)\n"
   ]
  },
  {
   "attachments": {},
   "cell_type": "markdown",
   "metadata": {},
   "source": [
    "#### Q3. What is multiple inheritance? Write a python code to demonstrate multiple inheritance.\n",
    "\n",
    "- Multiple inheritance - When child class inherits from more than one parent class.\n"
   ]
  },
  {
   "cell_type": "code",
   "execution_count": 20,
   "metadata": {},
   "outputs": [
    {
     "name": "stdout",
     "output_type": "stream",
     "text": [
      "I am a bird and I can swim\n",
      "i am a bird and I can fly\n"
     ]
    }
   ],
   "source": [
    "class air:\n",
    "    def fly(self):\n",
    "        print(\"i am a bird and I can fly\")\n",
    "\n",
    "\n",
    "class water:\n",
    "    def swim(self):\n",
    "        print(\"I am a bird and I can swim\")\n",
    "\n",
    "\n",
    "class aw(air, water):  # Here the class aw is inheriting classes air and water i.e more than one class, it shows multiple inheritance\n",
    "    def __init__(self, name):\n",
    "        self.name = name\n",
    "\n",
    "\n",
    "c1 = aw(\"crane\")\n",
    "c1.swim()\n",
    "c1.fly()\n"
   ]
  },
  {
   "attachments": {},
   "cell_type": "markdown",
   "metadata": {},
   "source": [
    "#### Q4. What are getter and setter in python? Create a class and create a getter and a setter method in this class."
   ]
  },
  {
   "attachments": {},
   "cell_type": "markdown",
   "metadata": {},
   "source": [
    "- getter and setter are decorators in python that provide access and modification to private variables to external user and ensures encapsulation."
   ]
  },
  {
   "cell_type": "code",
   "execution_count": 21,
   "metadata": {},
   "outputs": [
    {
     "data": {
      "text/plain": [
       "64"
      ]
     },
     "execution_count": 21,
     "metadata": {},
     "output_type": "execute_result"
    }
   ],
   "source": [
    "class square:\n",
    "    def __init__(self, length):\n",
    "        self.__length = length\n",
    "\n",
    "    @property  # getter method\n",
    "    def get_area(self):\n",
    "        return (self.__length * self.__length)\n",
    "\n",
    "    @get_area.setter # setter method\n",
    "    def set_area(self, len):\n",
    "        self.__length = len\n",
    "\n",
    "\n",
    "s1 = square(5)\n",
    "s1.set_area = 8\n",
    "s1.get_area\n"
   ]
  },
  {
   "attachments": {},
   "cell_type": "markdown",
   "metadata": {},
   "source": [
    "#### Q5. What is method overriding in python? Write a python code to demonstrate method overriding."
   ]
  },
  {
   "attachments": {},
   "cell_type": "markdown",
   "metadata": {},
   "source": [
    "- Method overriding in Python is to create two methods with the same name and same parameter in a superclass-subclass relationship."
   ]
  },
  {
   "cell_type": "code",
   "execution_count": 30,
   "metadata": {},
   "outputs": [
    {
     "name": "stdout",
     "output_type": "stream",
     "text": [
      "This is teacher\n",
      "This is student\n"
     ]
    }
   ],
   "source": [
    "class Teacher:\n",
    "    def print(self):\n",
    "        print(\"This is teacher\")\n",
    "\n",
    "\n",
    "class Student(Teacher):\n",
    "    def print(self):\n",
    "        print(\"This is student\")\n",
    "\n",
    "\n",
    "ob1 = Teacher\n",
    "ob1.print(\"\")\n",
    "\n",
    "ob2 = Student\n",
    "ob2.print(\"\")\n"
   ]
  }
 ],
 "metadata": {
  "kernelspec": {
   "display_name": "Python 3",
   "language": "python",
   "name": "python3"
  },
  "language_info": {
   "codemirror_mode": {
    "name": "ipython",
    "version": 3
   },
   "file_extension": ".py",
   "mimetype": "text/x-python",
   "name": "python",
   "nbconvert_exporter": "python",
   "pygments_lexer": "ipython3",
   "version": "3.10.9"
  },
  "orig_nbformat": 4,
  "vscode": {
   "interpreter": {
    "hash": "916dbcbb3f70747c44a77c7bcd40155683ae19c65e1c03b4aa3499c5328201f1"
   }
  }
 },
 "nbformat": 4,
 "nbformat_minor": 2
}
