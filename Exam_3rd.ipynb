{
 "cells": [
  {
   "attachments": {},
   "cell_type": "markdown",
   "metadata": {},
   "source": [
    "# UNIT - 5"
   ]
  },
  {
   "attachments": {},
   "cell_type": "markdown",
   "metadata": {},
   "source": [
    "#### Iteration"
   ]
  },
  {
   "cell_type": "code",
   "execution_count": 1,
   "metadata": {},
   "outputs": [
    {
     "name": "stdout",
     "output_type": "stream",
     "text": [
      "1\n",
      "2\n",
      "3\n",
      "4\n",
      "5\n"
     ]
    }
   ],
   "source": [
    "class MyList:\n",
    "    def __init__(self, items):\n",
    "        self.items = items\n",
    "    \n",
    "    def __iter__(self):\n",
    "        self.current = 0\n",
    "        return self\n",
    "    \n",
    "    def __next__(self):\n",
    "        if self.current < len(self.items):\n",
    "            item = self.items[self.current]\n",
    "            self.current += 1\n",
    "            return item\n",
    "        else:\n",
    "            raise StopIteration\n",
    "\n",
    "my_list = MyList([1, 2, 3, 4, 5])\n",
    "\n",
    "for item in my_list:\n",
    "    print(item)\n"
   ]
  },
  {
   "attachments": {},
   "cell_type": "markdown",
   "metadata": {},
   "source": [
    "## FIBONACCI"
   ]
  },
  {
   "cell_type": "code",
   "execution_count": 5,
   "metadata": {},
   "outputs": [
    {
     "name": "stdout",
     "output_type": "stream",
     "text": [
      "FiboNacci series is >>>>\n",
      "0\n",
      "1\n",
      "1\n",
      "2\n",
      "3\n",
      "5\n",
      "8\n",
      "13\n",
      "21\n",
      "34\n",
      "55\n"
     ]
    }
   ],
   "source": [
    "def fibo(n):\n",
    "    if n<=1:\n",
    "        return n\n",
    "    else:\n",
    "        return (fibo(n-1)+fibo(n-2))\n",
    "    \n",
    "n=int(input(\"Enter Number :\"))\n",
    "if n<=0:\n",
    "    print(\"Please Enter Positive Number.\")\n",
    "    \n",
    "else:\n",
    "    print(\"FiboNacci series is >>>>\")\n",
    "    for i in range(n):\n",
    "        print(fibo(i))"
   ]
  },
  {
   "attachments": {},
   "cell_type": "markdown",
   "metadata": {},
   "source": [
    "# Tower Of Hanoi"
   ]
  },
  {
   "cell_type": "code",
   "execution_count": 6,
   "metadata": {},
   "outputs": [
    {
     "name": "stdout",
     "output_type": "stream",
     "text": [
      "Move disk 1 from A to C\n",
      "Move disk 2 from A to B\n",
      "Move disk 1 from C to B\n",
      "Move disk 3 from A to C\n",
      "Move disk 1 from B to A\n",
      "Move disk 2 from B to C\n",
      "Move disk 1 from A to C\n"
     ]
    }
   ],
   "source": [
    "def tower_of_hanoi(n, source, destination, auxiliary):\n",
    "    if n == 1:\n",
    "        print(f\"Move disk 1 from {source} to {destination}\")\n",
    "        return\n",
    "    tower_of_hanoi(n-1, source, auxiliary, destination)\n",
    "    print(f\"Move disk {n} from {source} to {destination}\")\n",
    "    tower_of_hanoi(n-1, auxiliary, destination, source)\n",
    "\n",
    "tower_of_hanoi(3, 'A', 'C', 'B')\n"
   ]
  },
  {
   "attachments": {},
   "cell_type": "markdown",
   "metadata": {},
   "source": [
    " #### Lenear Search"
   ]
  },
  {
   "cell_type": "code",
   "execution_count": 7,
   "metadata": {},
   "outputs": [
    {
     "name": "stdout",
     "output_type": "stream",
     "text": [
      "10 is present at index 1\n"
     ]
    }
   ],
   "source": [
    "def search(arr, n, x) :\n",
    "    i = 0\n",
    "    for i in range(i, n) :\n",
    "      if (arr[i] == x) :\n",
    "        return  i\n",
    "    return  -1\n",
    "arr = [3, 10, 30, 45]\n",
    "x = 10\n",
    "n = len(arr)\n",
    "print(x, \"is present at index\", search(arr, n, x))"
   ]
  },
  {
   "attachments": {},
   "cell_type": "markdown",
   "metadata": {},
   "source": [
    "#### Binary Search"
   ]
  },
  {
   "cell_type": "code",
   "execution_count": 9,
   "metadata": {},
   "outputs": [
    {
     "name": "stdout",
     "output_type": "stream",
     "text": [
      "5 at index  2\n"
     ]
    }
   ],
   "source": [
    "def binary_search(arr, x):\n",
    "    \"\"\"\n",
    "    Perform binary search on a sorted array `arr` to find the element `x`.\n",
    "    Return the index of the element if it's found, else return -1.\n",
    "    \"\"\"\n",
    "    # Initialize the starting and ending indices of the search range.\n",
    "    start = 0\n",
    "    end = len(arr) - 1\n",
    "    \n",
    "    while start <= end:\n",
    "        # Calculate the middle index of the search range.\n",
    "        mid = (start + end) // 2\n",
    "        \n",
    "        # Check if the middle element is the desired element.\n",
    "        if arr[mid] == x:\n",
    "            return mid\n",
    "        \n",
    "        # If the middle element is less than x, search the right half of the range.\n",
    "        elif arr[mid] < x:\n",
    "            start = mid + 1\n",
    "        \n",
    "        # If the middle element is greater than x, search the left half of the range.\n",
    "        else:\n",
    "            end = mid - 1\n",
    "    \n",
    "    # If the element is not found, return -1.\n",
    "    return -1\n",
    "\n",
    "\n",
    "arr = [1, 3, 5, 7, 9]\n",
    "x = 5\n",
    "result = binary_search(arr, x)\n",
    "print(x,\"at index \",result)  # Output: 2\n"
   ]
  },
  {
   "attachments": {},
   "cell_type": "markdown",
   "metadata": {},
   "source": [
    "#### Selection Sort"
   ]
  },
  {
   "cell_type": "code",
   "execution_count": null,
   "metadata": {},
   "outputs": [],
   "source": [
    "def slectionSort(nlist):\n",
    " for fillslot in range(len(nlist)- 1, 0, - 1):\n",
    "    maxpos = 0\n",
    "    for location in range(1, fillslot + 1):\n",
    "        if nlist[location] > nlist[maxpos]:\n",
    "            maxpos = location\n",
    "    temp = nlist[fillslot]\n",
    "    nlist[fillslot] = nlist[maxpos]\n",
    "    nlist[maxpos] = temp\n",
    "nlist = [14, 46, 43, 27, 57, 41, 45, 21, 70]\n",
    "slectionSort(nlist)\n",
    "print(nlist)\n"
   ]
  },
  {
   "attachments": {},
   "cell_type": "markdown",
   "metadata": {},
   "source": [
    "#### Merge Sort"
   ]
  },
  {
   "cell_type": "code",
   "execution_count": 10,
   "metadata": {},
   "outputs": [
    {
     "name": "stdout",
     "output_type": "stream",
     "text": [
      "[11, 12, 22, 25, 64]\n"
     ]
    }
   ],
   "source": [
    "def merge_sort(arr):\n",
    "    n = len(arr)\n",
    "    if n > 1:\n",
    "        # Divide the array into two halves\n",
    "        mid = n // 2\n",
    "        left_half = arr[:mid]\n",
    "        right_half = arr[mid:]\n",
    "\n",
    "        # Recursively sort the two halves\n",
    "        merge_sort(left_half)\n",
    "        merge_sort(right_half)\n",
    "\n",
    "        # Merge the sorted halves\n",
    "        i = j = k = 0\n",
    "        while i < len(left_half) and j < len(right_half):\n",
    "            if left_half[i] < right_half[j]:\n",
    "                arr[k] = left_half[i]\n",
    "                i += 1\n",
    "            else:\n",
    "                arr[k] = right_half[j]\n",
    "                j += 1\n",
    "            k += 1\n",
    "\n",
    "        while i < len(left_half):\n",
    "            arr[k] = left_half[i]\n",
    "            i += 1\n",
    "            k += 1\n",
    "\n",
    "        while j < len(right_half):\n",
    "            arr[k] = right_half[j]\n",
    "            j += 1\n",
    "            k += 1\n",
    "\n",
    "    return arr\n",
    "arr = [64, 25, 12, 22, 11]\n",
    "sorted_arr = merge_sort(arr)\n",
    "print(sorted_arr)  # Output: [11, 12, 22, 25, 64]\n"
   ]
  },
  {
   "attachments": {},
   "cell_type": "markdown",
   "metadata": {},
   "source": [
    "#### Bubble Sort"
   ]
  },
  {
   "cell_type": "code",
   "execution_count": 11,
   "metadata": {},
   "outputs": [
    {
     "name": "stdout",
     "output_type": "stream",
     "text": [
      "[2, 6, 11, 19, 27, 31, 45, 121]\n"
     ]
    }
   ],
   "source": [
    "def bubblesort(list):\n",
    "# Swap the elements to arrange in order\n",
    "    for iter_num in range(len(list) - 1,0, - 1):\n",
    "        for idx in range(iter_num):\n",
    "         if list[idx]>list[idx+1]:\n",
    "          temp = list[idx]\n",
    "          list[idx] = list[idx+1]\n",
    "          list[idx+1] = temp\n",
    "list = [19,2,31,45,6,11,121,27]\n",
    "bubblesort(list)\n",
    "print(list)"
   ]
  },
  {
   "attachments": {},
   "cell_type": "markdown",
   "metadata": {},
   "source": [
    "#### Insertion Sort"
   ]
  },
  {
   "cell_type": "code",
   "execution_count": 12,
   "metadata": {},
   "outputs": [
    {
     "name": "stdout",
     "output_type": "stream",
     "text": [
      "[2, 11, 19, 26, 28, 30, 42, 135]\n"
     ]
    }
   ],
   "source": [
    "def insertion_sort(InputList):\n",
    "    for i in range(1, len(InputList)):\n",
    "     j = i - 1\n",
    "     nxt_element = InputList[i]\n",
    "# Compare the current element with next one\n",
    "     while (InputList[j] > nxt_element) and (j >= 0):\n",
    "        InputList[j+1] = InputList[j]\n",
    "        j=j - 1\n",
    "        InputList[j+1] = nxt_element\n",
    "list = [19,2,30,42,28,11,135,26]\n",
    "insertion_sort(list)\n",
    "print(list)"
   ]
  },
  {
   "attachments": {},
   "cell_type": "markdown",
   "metadata": {},
   "source": [
    "# UNIT - 4"
   ]
  },
  {
   "attachments": {},
   "cell_type": "markdown",
   "metadata": {},
   "source": [
    "#### Sieve of Eratosthenes"
   ]
  },
  {
   "cell_type": "code",
   "execution_count": 13,
   "metadata": {},
   "outputs": [
    {
     "name": "stdout",
     "output_type": "stream",
     "text": [
      "Following are the prime numbers smaller\n",
      "than or equal to 30\n",
      "2\n",
      "3\n",
      "5\n",
      "7\n",
      "11\n",
      "13\n",
      "17\n",
      "19\n",
      "23\n",
      "29\n"
     ]
    }
   ],
   "source": [
    "def SieveOfEratosthenes (n) :\n",
    "# Create a boolean array “prime[0. . n]” and initialize\n",
    "# all entries it as true. A value in prime[i] will\n",
    "    # finally be false if i is Not a prime, else true.\n",
    "    prime = [True for i in range(n+1)]\n",
    "    p = 2\n",
    "    while (p * p <= n):\n",
    "# If prime[p] is not changed, then it is a prime\n",
    "        if (prime[p] == True):\n",
    "# Update all multiples of p\n",
    "          for i in range(p * p, n+1, p):\n",
    "            prime[i] = False\n",
    "        p += 1\n",
    "# Print all prime numbers\n",
    "    for p in range(2, n):\n",
    "     if prime[p]:\n",
    "      print (p)\n",
    "\n",
    "# driver program\n",
    "#if__name__'=='__main__':\n",
    "n = 30\n",
    "print (\"Following are the prime numbers smaller\")\n",
    "print (\"than or equal to\", n)\n",
    "SieveOfEratosthenes(n)"
   ]
  },
  {
   "attachments": {},
   "cell_type": "markdown",
   "metadata": {},
   "source": [
    "#### Q):- Write a Python program to read a file line-by-line store it into a variable"
   ]
  },
  {
   "cell_type": "code",
   "execution_count": 19,
   "metadata": {},
   "outputs": [
    {
     "name": "stdout",
     "output_type": "stream",
     "text": [
      "Line0: Failure\n",
      "Line0: is\n",
      "Line0: True\n",
      "Line0: Power\n"
     ]
    }
   ],
   "source": [
    "L = [\"Failure\\n\", \"is\\n\", \"True\\n\",\"Power\\n\"]\n",
    "# writing to file\n",
    "file1 = open('myfile.txt', 'w')\n",
    "file1.writelines(L)\n",
    "file1.close()\n",
    "# Using readlines()\n",
    "file1 = open('myfile.txt', 'r')\n",
    "Lines = file1.readlines()\n",
    "count = 0\n",
    "# Strips the newline character\n",
    "for line in Lines:\n",
    " #print(line.strip())\n",
    " print(\"Line{}: {}\".format(count, line.strip()))"
   ]
  },
  {
   "attachments": {},
   "cell_type": "markdown",
   "metadata": {},
   "source": [
    "####  Assertions"
   ]
  },
  {
   "cell_type": "code",
   "execution_count": 20,
   "metadata": {},
   "outputs": [
    {
     "name": "stdout",
     "output_type": "stream",
     "text": [
      "32.0\n",
      "451\n"
     ]
    },
    {
     "ename": "AssertionError",
     "evalue": "Colder than absolute zero!",
     "output_type": "error",
     "traceback": [
      "\u001b[0;31m---------------------------------------------------------------------------\u001b[0m",
      "\u001b[0;31mAssertionError\u001b[0m                            Traceback (most recent call last)",
      "Cell \u001b[0;32mIn [20], line 7\u001b[0m\n\u001b[1;32m      5\u001b[0m \u001b[39mprint\u001b[39m( KelvinToFahrenheit (\u001b[39m273\u001b[39m))\n\u001b[1;32m      6\u001b[0m \u001b[39mprint\u001b[39m (\u001b[39mint\u001b[39m(KelvinToFahrenheit (\u001b[39m505.78\u001b[39m)))\n\u001b[0;32m----> 7\u001b[0m \u001b[39mprint\u001b[39m( KelvinToFahrenheit (\u001b[39m-\u001b[39;49m\u001b[39m5\u001b[39;49m))\n",
      "Cell \u001b[0;32mIn [20], line 3\u001b[0m, in \u001b[0;36mKelvinToFahrenheit\u001b[0;34m(Temperature)\u001b[0m\n\u001b[1;32m      2\u001b[0m \u001b[39mdef\u001b[39;00m \u001b[39mKelvinToFahrenheit\u001b[39m(Temperature) :\n\u001b[0;32m----> 3\u001b[0m     \u001b[39massert\u001b[39;00m (Temperature \u001b[39m>\u001b[39m\u001b[39m=\u001b[39m \u001b[39m0\u001b[39m),\u001b[39m\"\u001b[39m\u001b[39mColder than absolute zero!\u001b[39m\u001b[39m\"\u001b[39m\n\u001b[1;32m      4\u001b[0m     \u001b[39mreturn\u001b[39;00m ((Temperature \u001b[39m-\u001b[39m \u001b[39m273\u001b[39m)\u001b[39m*\u001b[39m\u001b[39m1.8\u001b[39m) \u001b[39m+\u001b[39m \u001b[39m32\u001b[39m\n",
      "\u001b[0;31mAssertionError\u001b[0m: Colder than absolute zero!"
     ]
    }
   ],
   "source": [
    "#!/user/bip/python\n",
    "def KelvinToFahrenheit(Temperature) :\n",
    "    assert (Temperature >= 0),\"Colder than absolute zero!\"\n",
    "    return ((Temperature - 273)*1.8) + 32\n",
    "print( KelvinToFahrenheit (273))\n",
    "print (int(KelvinToFahrenheit (505.78)))\n",
    "print( KelvinToFahrenheit (-5))"
   ]
  },
  {
   "attachments": {},
   "cell_type": "markdown",
   "metadata": {},
   "source": [
    "#### try Example"
   ]
  },
  {
   "cell_type": "code",
   "execution_count": 21,
   "metadata": {},
   "outputs": [
    {
     "name": "stdout",
     "output_type": "stream",
     "text": [
      "Your number is: 2\n",
      "Thank you for using this program.\n"
     ]
    }
   ],
   "source": [
    "try:\n",
    "    # Your code that may raise an error goes here\n",
    "    x = int(input(\"Enter a number: \"))\n",
    "    print(\"Your number is:\", x)\n",
    "except ValueError:\n",
    "    # This block will execute if the code inside the try block raises a ValueError\n",
    "    print(\"Oops! That was not a valid number. Please try again.\")\n",
    "except:\n",
    "    # This block will execute if the code inside the try block raises any other type of error\n",
    "    print(\"An error occurred.\")\n",
    "finally:\n",
    "    # This block will always execute, whether or not an error was raised\n",
    "    print(\"Thank you for using this program.\")\n"
   ]
  },
  {
   "attachments": {},
   "cell_type": "markdown",
   "metadata": {},
   "source": [
    "#### Q):-  Write python ADT code for a student information.\n",
    " "
   ]
  },
  {
   "cell_type": "code",
   "execution_count": 23,
   "metadata": {},
   "outputs": [
    {
     "name": "stdout",
     "output_type": "stream",
     "text": [
      "Electrical Engineering\n",
      "ShinChan Nohara\n"
     ]
    }
   ],
   "source": [
    "class Student:\n",
    "    def __init__(self, name, id_number, major, year):\n",
    "        self.name = name\n",
    "        self.id_number = id_number\n",
    "        self.major = major\n",
    "        self.year = year\n",
    "    \n",
    "    def get_name(self):\n",
    "        return self.name\n",
    "    \n",
    "    def get_id_number(self):\n",
    "        return self.id_number\n",
    "    \n",
    "    def get_major(self):\n",
    "        return self.major\n",
    "    \n",
    "    def get_year(self):\n",
    "        return self.year\n",
    "    \n",
    "    def set_name(self, name):\n",
    "        self.name = name\n",
    "    \n",
    "    def set_id_number(self, id_number):\n",
    "        self.id_number = id_number\n",
    "    \n",
    "    def set_major(self, major):\n",
    "        self.major = major\n",
    "    \n",
    "    def set_year(self, year):\n",
    "        self.year = year\n",
    "\n",
    "\n",
    "\n",
    "student1 = Student(\"ShinChan Nohara\", \"123456\", \"Computer Science\", \"Supreme\")\n",
    "student1.set_major(\"Electrical Engineering\")\n",
    "print(student1.get_major())  # Output: Electrical Engineering\n",
    "print(student1.get_name())"
   ]
  },
  {
   "attachments": {},
   "cell_type": "markdown",
   "metadata": {},
   "source": [
    "#### Inheritance"
   ]
  },
  {
   "cell_type": "code",
   "execution_count": 25,
   "metadata": {},
   "outputs": [
    {
     "name": "stdout",
     "output_type": "stream",
     "text": [
      "Whiskers\n",
      "cat\n",
      "Meow\n",
      "Fido\n",
      "dog\n",
      "Woof\n"
     ]
    }
   ],
   "source": [
    "class Animal:\n",
    "    def __init__(self, name, species):\n",
    "        self.name = name\n",
    "        self.species = species\n",
    "\n",
    "    def make_sound(self):\n",
    "        pass\n",
    "\n",
    "class Cat(Animal):\n",
    "    def __init__(self, name):\n",
    "        super().__init__(name, species=\"cat\")\n",
    "\n",
    "    def make_sound(self):\n",
    "        return \"Meow\"\n",
    "\n",
    "class Dog(Animal):\n",
    "    def __init__(self, name):\n",
    "        super().__init__(name, species=\"dog\")\n",
    "\n",
    "    def make_sound(self):\n",
    "        return \"Woof\"\n",
    "\n",
    "\n",
    "cat = Cat(\"Whiskers\")\n",
    "print(cat.name) # Output: Whiskers\n",
    "print(cat.species) # Output: cat\n",
    "print(cat.make_sound()) # Output: Meow\n",
    "\n",
    "dog = Dog(\"Fido\")\n",
    "print(dog.name) # Output: Fido\n",
    "print(dog.species) # Output: dog\n",
    "print(dog.make_sound()) # Output: Woof\n"
   ]
  },
  {
   "attachments": {},
   "cell_type": "markdown",
   "metadata": {},
   "source": [
    "#### Q):-  Program to print even length words in a string "
   ]
  },
  {
   "cell_type": "code",
   "execution_count": 28,
   "metadata": {},
   "outputs": [
    {
     "name": "stdout",
     "output_type": "stream",
     "text": [
      "am\n",
      "Nohara\n"
     ]
    }
   ],
   "source": [
    "string = input(\"Enter a string: \")\n",
    "\n",
    "# Split the string into a list of words\n",
    "words = string.split()\n",
    "\n",
    "# Iterate over each word in the list and print the even length words\n",
    "for word in words:\n",
    "    if len(word) % 2 == 0:\n",
    "        print(word)\n",
    "\n"
   ]
  },
  {
   "attachments": {},
   "cell_type": "markdown",
   "metadata": {},
   "source": [
    "#### Fibonacci"
   ]
  },
  {
   "cell_type": "code",
   "execution_count": 29,
   "metadata": {},
   "outputs": [
    {
     "name": "stdout",
     "output_type": "stream",
     "text": [
      "0\n",
      "1\n",
      "1\n",
      "2\n",
      "3\n",
      "5\n",
      "8\n",
      "13\n",
      "21\n",
      "34\n"
     ]
    }
   ],
   "source": [
    "# specify the number of terms in the sequence\n",
    "n_terms = 10\n",
    "\n",
    "# initialize the first two terms of the sequence\n",
    "a, b = 0, 1\n",
    "\n",
    "# iterate to generate the remaining terms of the sequence\n",
    "for i in range(n_terms):\n",
    "    print(a)\n",
    "    a, b = b, a + b\n"
   ]
  },
  {
   "attachments": {},
   "cell_type": "markdown",
   "metadata": {},
   "source": [
    "#### Q):-  Write a Python program for how to check if a given number is Fibonacci number"
   ]
  },
  {
   "cell_type": "code",
   "execution_count": 30,
   "metadata": {},
   "outputs": [
    {
     "name": "stdout",
     "output_type": "stream",
     "text": [
      "True\n",
      "False\n",
      "True\n"
     ]
    }
   ],
   "source": [
    "def is_fibonacci_number(num):\n",
    "    \"\"\"\n",
    "    This function takes an integer as input and returns True if it is a Fibonacci number,\n",
    "    and False otherwise.\n",
    "    \"\"\"\n",
    "    # First, we check if the number is 0 or 1, since these are both Fibonacci numbers\n",
    "    if num == 0 or num == 1:\n",
    "        return True\n",
    "    \n",
    "    # We initialize variables to hold the first two Fibonacci numbers\n",
    "    fib_1, fib_2 = 0, 1\n",
    "    \n",
    "    # We loop until we find a Fibonacci number greater than or equal to the input number\n",
    "    while fib_2 <= num:\n",
    "        if fib_2 == num:\n",
    "            return True\n",
    "        \n",
    "        # We update the Fibonacci numbers for the next iteration of the loop\n",
    "        fib_1, fib_2 = fib_2, fib_1 + fib_2\n",
    "    \n",
    "    # If we reach this point, we haven't found a Fibonacci number that matches the input\n",
    "    return False\n",
    "\n",
    "\n",
    "print(is_fibonacci_number(5))   # True\n",
    "print(is_fibonacci_number(10))  # False\n",
    "print(is_fibonacci_number(13))  # True\n"
   ]
  },
  {
   "attachments": {},
   "cell_type": "markdown",
   "metadata": {},
   "source": [
    "#### Q):-  Write a Python program to convert time from 12 hour to 24-hour format"
   ]
  },
  {
   "cell_type": "code",
   "execution_count": 31,
   "metadata": {},
   "outputs": [
    {
     "name": "stdout",
     "output_type": "stream",
     "text": [
      "12-hour time: 06:25:00 PM\n",
      "24-hour time: 18:25:00\n"
     ]
    }
   ],
   "source": [
    "# function to convert time from 12 hour to 24-hour format\n",
    "def convert_time(time):\n",
    "    # split time into hours, minutes, and seconds\n",
    "    hours, minutes, seconds = map(int, time[:-2].split(':'))\n",
    "    # get AM or PM suffix\n",
    "    suffix = time[-2:]\n",
    "    \n",
    "    # if time is in AM and hours is 12, subtract 12 from hours\n",
    "    if suffix == 'AM' and hours == 12:\n",
    "        hours = 0\n",
    "    \n",
    "    # if time is in PM and hours is not 12, add 12 to hours\n",
    "    if suffix == 'PM' and hours != 12:\n",
    "        hours += 12\n",
    "    \n",
    "    # return time in 24-hour format\n",
    "    return '{:02d}:{:02d}:{:02d}'.format(hours, minutes, seconds)\n",
    "\n",
    "# example usage\n",
    "time12 = '06:25:00 PM'\n",
    "time24 = convert_time(time12)\n",
    "print('12-hour time:', time12)\n",
    "print('24-hour time:', time24)\n"
   ]
  },
  {
   "cell_type": "code",
   "execution_count": 35,
   "metadata": {},
   "outputs": [
    {
     "name": "stdout",
     "output_type": "stream",
     "text": [
      "20:05:45\n"
     ]
    }
   ],
   "source": [
    "def convert(str1):\n",
    "    if str1[-2:]==\"AM\" and str1[:2]==\"12\":\n",
    "        return \"00\"+str1[2:-2]\n",
    "    elif str1[-2]==\"AM\":\n",
    "        return str1[:-2]\n",
    "    elif str1[-2:]==\"PM\" and str1[:2]==\"12\":\n",
    "        return str1[:-2]\n",
    "    else:\n",
    "        return str(int(str1[:2])+12) + str1[2:8]\n",
    "    \n",
    "print(convert(\"08:05:45 PM\"))"
   ]
  },
  {
   "attachments": {},
   "cell_type": "markdown",
   "metadata": {},
   "source": [
    "#### Q):- Python program to print prime number in user provide range\n"
   ]
  },
  {
   "cell_type": "code",
   "execution_count": 39,
   "metadata": {},
   "outputs": [
    {
     "name": "stdout",
     "output_type": "stream",
     "text": [
      "101\n",
      "103\n",
      "107\n",
      "109\n",
      "113\n",
      "127\n",
      "131\n",
      "137\n",
      "139\n",
      "149\n",
      "151\n",
      "157\n",
      "163\n",
      "167\n",
      "173\n",
      "179\n",
      "181\n",
      "191\n",
      "193\n",
      "197\n",
      "199\n"
     ]
    }
   ],
   "source": [
    "low = int(input(\"Enter lower range : \"))\n",
    "up = int (input(\"Enter upper range : \"))\n",
    "for n in range (low, up + 1) :\n",
    "    if n > 1 :\n",
    "        for i in range (2, n) :\n",
    "            if (n % i) == 0 :\n",
    "                break\n",
    "        else :\n",
    "                print (n)"
   ]
  },
  {
   "attachments": {},
   "cell_type": "markdown",
   "metadata": {},
   "source": [
    "# UNIT - 3"
   ]
  },
  {
   "cell_type": "code",
   "execution_count": 40,
   "metadata": {},
   "outputs": [
    {
     "name": "stdout",
     "output_type": "stream",
     "text": [
      "16\n",
      "None\n"
     ]
    }
   ],
   "source": [
    "def square(x) :\n",
    "    print(x*x)\n",
    "print(square(4))"
   ]
  },
  {
   "attachments": {},
   "cell_type": "markdown",
   "metadata": {},
   "source": [
    "#### Python Scope rule LEGB"
   ]
  },
  {
   "cell_type": "code",
   "execution_count": 41,
   "metadata": {},
   "outputs": [
    {
     "name": "stdout",
     "output_type": "stream",
     "text": [
      "30\n"
     ]
    }
   ],
   "source": [
    "# Global Scope\n",
    "x = 10\n",
    "\n",
    "def foo():\n",
    "   # Enclosing Scope\n",
    "   y = 20  \n",
    "\n",
    "   def bar():\n",
    "      # Local Scope\n",
    "      z = x + y\n",
    "      print(z)\n",
    "\n",
    "   bar()\n",
    "\n",
    "foo()\n"
   ]
  },
  {
   "attachments": {},
   "cell_type": "markdown",
   "metadata": {},
   "source": [
    "# Simple Calculator"
   ]
  },
  {
   "cell_type": "code",
   "execution_count": 42,
   "metadata": {},
   "outputs": [
    {
     "name": "stdout",
     "output_type": "stream",
     "text": [
      "Choose an operation:\n",
      "1. Add\n",
      "2. Subtract\n",
      "3. Multiply\n",
      "4. Divide\n",
      "2 - 1 = 1\n"
     ]
    }
   ],
   "source": [
    "# defining functions for all operations\n",
    "\n",
    "def add(x, y):\n",
    "  return x + y\n",
    "\n",
    "def subtract(x, y):\n",
    "  return x - y\n",
    "\n",
    "def multiply(x, y):\n",
    "  return x * y\n",
    "\n",
    "def divide(x, y):\n",
    "  return x / y\n",
    "\n",
    "# printing options for user to choose from\n",
    "\n",
    "print(\"Choose an operation:\")\n",
    "print(\"1. Add\")\n",
    "print(\"2. Subtract\")\n",
    "print(\"3. Multiply\")\n",
    "print(\"4. Divide\")\n",
    "\n",
    "# taking input from user\n",
    "\n",
    "choice = input(\"Enter choice (1/2/3/4): \")\n",
    "\n",
    "num1 = int(input(\"Enter first number: \"))\n",
    "num2 = int(input(\"Enter second number: \"))\n",
    "\n",
    "# executing user choice\n",
    "\n",
    "if choice == '1':\n",
    "  print(num1, \"+\", num2, \"=\", add(num1,num2))\n",
    "\n",
    "elif choice == '2':\n",
    "  print(num1, \"-\", num2, \"=\", subtract(num1,num2))\n",
    "\n",
    "elif choice == '3':\n",
    "  print(num1, \"*\", num2, \"=\", multiply(num1,num2))\n",
    "\n",
    "elif choice == '4':\n",
    "  print(num1, \"/\", num2, \"=\", divide(num1,num2))\n",
    "\n",
    "else:\n",
    "  print(\"Invalid Input\")\n"
   ]
  },
  {
   "attachments": {},
   "cell_type": "markdown",
   "metadata": {},
   "source": [
    "#### Calculator"
   ]
  },
  {
   "cell_type": "code",
   "execution_count": 43,
   "metadata": {},
   "outputs": [
    {
     "name": "stdout",
     "output_type": "stream",
     "text": [
      "Please select an operation:\n",
      "1. Addition\n",
      "2. Subtraction\n",
      "3. Multiplication\n",
      "4. Division\n",
      "5. Exponentiation\n",
      "6. Modulus\n",
      "3.0 ^ 3.0 = 27.0\n"
     ]
    }
   ],
   "source": [
    "# define the function for each operation\n",
    "def add(x, y):\n",
    "    return x + y\n",
    "\n",
    "def subtract(x, y):\n",
    "    return x - y\n",
    "\n",
    "def multiply(x, y):\n",
    "    return x * y\n",
    "\n",
    "def divide(x, y):\n",
    "    return x / y\n",
    "\n",
    "def exponentiate(x, y):\n",
    "    return x ** y\n",
    "\n",
    "def mod(x, y):\n",
    "    return x % y\n",
    "\n",
    "# get the user input\n",
    "num1 = float(input(\"Enter first number: \"))\n",
    "num2 = float(input(\"Enter second number: \"))\n",
    "\n",
    "# display the menu to user\n",
    "print(\"Please select an operation:\")\n",
    "print(\"1. Addition\")\n",
    "print(\"2. Subtraction\")\n",
    "print(\"3. Multiplication\")\n",
    "print(\"4. Division\")\n",
    "print(\"5. Exponentiation\")\n",
    "print(\"6. Modulus\")\n",
    "\n",
    "# get the user's choice\n",
    "choice = input(\"Enter choice (1/2/3/4/5/6): \")\n",
    "\n",
    "# perform the selected operation and display the result\n",
    "if choice == '1':\n",
    "    print(num1, \"+\", num2, \"=\", add(num1, num2))\n",
    "\n",
    "elif choice == '2':\n",
    "    print(num1, \"-\", num2, \"=\", subtract(num1, num2))\n",
    "\n",
    "elif choice == '3':\n",
    "    print(num1, \"*\", num2, \"=\", multiply(num1, num2))\n",
    "\n",
    "elif choice == '4':\n",
    "    print(num1, \"/\", num2, \"=\", divide(num1, num2))\n",
    "\n",
    "elif choice == '5':\n",
    "    print(num1, \"^\", num2, \"=\", exponentiate(num1, num2))\n",
    "\n",
    "elif choice == '6':\n",
    "    print(num1, \"%\", num2, \"=\", mod(num1, num2))\n",
    "\n",
    "else:\n",
    "    print(\"Invalid input\")\n"
   ]
  },
  {
   "attachments": {},
   "cell_type": "markdown",
   "metadata": {},
   "source": [
    "#### String Comprehension"
   ]
  },
  {
   "cell_type": "code",
   "execution_count": 44,
   "metadata": {},
   "outputs": [
    {
     "name": "stdout",
     "output_type": "stream",
     "text": [
      "[0, 1, 4, 9, 16, 25, 36, 49, 64, 81]\n"
     ]
    }
   ],
   "source": [
    "squares = [i**2 for i in range(10)]\n",
    "\n",
    "print(squares) # [0, 1, 4, 9, 16, 25, 36, 49, 64, 81]\n"
   ]
  },
  {
   "cell_type": "code",
   "execution_count": 45,
   "metadata": {},
   "outputs": [
    {
     "name": "stdout",
     "output_type": "stream",
     "text": [
      "[(0, 0), (0, 1), (1, 0), (1, 1), (2, 0), (2, 1)]\n"
     ]
    }
   ],
   "source": [
    "pairs = [(i, j) for i in range(3) for j in range(2)]\n",
    "\n",
    "print(pairs) # [(0, 0), (0, 1), (1, 0), (1, 1), (2, 0), (2, 1)]\n"
   ]
  },
  {
   "attachments": {},
   "cell_type": "markdown",
   "metadata": {},
   "source": [
    "#### Tuple"
   ]
  },
  {
   "attachments": {},
   "cell_type": "markdown",
   "metadata": {},
   "source": [
    "#### Tuple as return"
   ]
  },
  {
   "cell_type": "code",
   "execution_count": 46,
   "metadata": {},
   "outputs": [
    {
     "name": "stdout",
     "output_type": "stream",
     "text": [
      "(3.3333333333333335, 1)\n"
     ]
    }
   ],
   "source": [
    "def divide_numbers(num1, num2):\n",
    "    quotient = num1 / num2\n",
    "    remainder = num1 % num2\n",
    "    return (quotient, remainder)\n",
    "\n",
    "result = divide_numbers(10, 3)\n",
    "print(result)  # Output: (3.3333333333333335, 1)\n"
   ]
  },
  {
   "attachments": {},
   "cell_type": "markdown",
   "metadata": {},
   "source": [
    "#### Variable length argument tuple"
   ]
  },
  {
   "cell_type": "code",
   "execution_count": 47,
   "metadata": {},
   "outputs": [
    {
     "data": {
      "text/plain": [
       "30.0"
      ]
     },
     "execution_count": 47,
     "metadata": {},
     "output_type": "execute_result"
    }
   ],
   "source": [
    "def get_average(*nums):\n",
    "    # `nums` is a tuple containing all the arguments passed to the function\n",
    "    if len(nums) == 0:\n",
    "        return 0.0\n",
    "    return sum(nums) / len(nums)\n",
    "\n",
    "\n",
    "get_average(10,20,30,40,50)"
   ]
  },
  {
   "attachments": {},
   "cell_type": "markdown",
   "metadata": {},
   "source": [
    "Basic operation on tuple"
   ]
  },
  {
   "cell_type": "code",
   "execution_count": 48,
   "metadata": {},
   "outputs": [
    {
     "name": "stdout",
     "output_type": "stream",
     "text": [
      "1\n",
      "(1, 2)\n",
      "(1, 2, 3, 'a', 'b', 'c')\n",
      "(1, 2, 3, 1, 2, 3, 1, 2, 3)\n",
      "3\n",
      "True\n",
      "True\n"
     ]
    }
   ],
   "source": [
    "my_tuple = (1, 2, 3)\n",
    "print(my_tuple[0])   # Output: 1\n",
    "print(my_tuple[:2])  # Output: (1, 2)\n",
    "my_tuple2 = ('a', 'b', 'c')\n",
    "print(my_tuple + my_tuple2)  # Output: (1, 2, 3, 'a', 'b', 'c')\n",
    "print(my_tuple * 3)  # Output: (1, 2, 3, 1, 2, 3, 1, 2, 3)\n",
    "print(len(my_tuple))  # Output: 3\n",
    "print(2 in my_tuple)    # Output: True\n",
    "print('d' not in my_tuple2)  # Output: True\n"
   ]
  },
  {
   "attachments": {},
   "cell_type": "markdown",
   "metadata": {},
   "source": [
    "Unpacking sequence"
   ]
  },
  {
   "cell_type": "code",
   "execution_count": 51,
   "metadata": {},
   "outputs": [
    {
     "name": "stdout",
     "output_type": "stream",
     "text": [
      "1\n",
      "2\n",
      "3\n",
      "2\n",
      "1\n"
     ]
    }
   ],
   "source": [
    "numbers = (1, 2, 3)\n",
    "x, y, z = numbers\n",
    "\n",
    "print(x)  # Output: 1\n",
    "print(y)  # Output: 2\n",
    "print(z)  # Output: 3\n",
    "\n",
    "x, y = 1, 2\n",
    "x, y = y, x  # swapping the values\n",
    "\n",
    "print(x)  # Output: 2\n",
    "print(y)  # Output: 1\n",
    "\n",
    "\n",
    "numbers = (1, 2, 3)\n",
    "x, y,z = numbers  # raises ValueError: not enough values to unpack (expected 2, got 3)\n",
    "\n",
    "numbers = (1, 2, 3)\n",
    "x, y,  w = numbers  # raises ValueError: too many values to unpack (expected 4)\n"
   ]
  },
  {
   "attachments": {},
   "cell_type": "markdown",
   "metadata": {},
   "source": [
    "#### Set Operation"
   ]
  },
  {
   "cell_type": "code",
   "execution_count": 52,
   "metadata": {},
   "outputs": [
    {
     "name": "stdout",
     "output_type": "stream",
     "text": [
      "Union of set1 and set2: {1, 2, 3, 4, 5, 6, 7, 8}\n",
      "Intersection of set1 and set2: {4, 5}\n",
      "Difference of set1 and set2: {1, 2, 3}\n",
      "Symmetric difference of set1 and set2: {1, 2, 3, 6, 7, 8}\n"
     ]
    }
   ],
   "source": [
    "# Create two sets\n",
    "set1 = {1, 2, 3, 4, 5}\n",
    "set2 = {4, 5, 6, 7, 8}\n",
    "\n",
    "# Perform set union operation using | operator\n",
    "union_set = set1 | set2\n",
    "print(\"Union of set1 and set2:\", union_set)\n",
    "\n",
    "# Perform set intersection operation using & operator\n",
    "intersection_set = set1 & set2\n",
    "print(\"Intersection of set1 and set2:\", intersection_set)\n",
    "\n",
    "# Perform set difference operation using - operator\n",
    "difference_set = set1 - set2\n",
    "print(\"Difference of set1 and set2:\", difference_set)\n",
    "\n",
    "# Perform symmetric difference operation using ^ operator\n",
    "symmetric_difference_set = set1 ^ set2\n",
    "print(\"Symmetric difference of set1 and set2:\", symmetric_difference_set)\n"
   ]
  },
  {
   "attachments": {},
   "cell_type": "markdown",
   "metadata": {},
   "source": [
    "#### Dictionary Operation"
   ]
  },
  {
   "cell_type": "code",
   "execution_count": null,
   "metadata": {},
   "outputs": [],
   "source": [
    "# Create dictionary\n",
    "my_dict = {'name': 'John', 'age': 25, 'gender': 'Male'}\n",
    "\n",
    "# Empty dictionary\n",
    "empty_dict = {}\n",
    "\n",
    "# Accessing single element\n",
    "print(my_dict['age']) # Output: 25\n",
    "\n",
    "# Accessing all elements\n",
    "for key, value in my_dict.items():\n",
    "    print(f'{key}: {value}')\n",
    "\n",
    "# Update value\n",
    "my_dict['age'] = 30\n",
    "\n",
    "# Add new\n"
   ]
  },
  {
   "attachments": {},
   "cell_type": "markdown",
   "metadata": {},
   "source": [
    "#### Higher Order Function"
   ]
  },
  {
   "attachments": {},
   "cell_type": "markdown",
   "metadata": {},
   "source": [
    "#### filter()"
   ]
  },
  {
   "cell_type": "code",
   "execution_count": 58,
   "metadata": {},
   "outputs": [
    {
     "name": "stdout",
     "output_type": "stream",
     "text": [
      "[<filter object at 0x7f92c4412b90>]\n"
     ]
    }
   ],
   "source": [
    "# defining a list of numbers\n",
    "numbers = [1, 2, 3, 4, 5, 6, 7]\n",
    "\n",
    "# using filter with lambda to return only even numbers from the list\n",
    "even_numbers = [(filter(lambda x: x % 2 == 0, numbers))]\n",
    "\n",
    "# printing result\n",
    "print(even_numbers)\n",
    "\n"
   ]
  },
  {
   "cell_type": "code",
   "execution_count": 59,
   "metadata": {},
   "outputs": [
    {
     "name": "stdout",
     "output_type": "stream",
     "text": [
      "2\n",
      "4\n",
      "6\n"
     ]
    }
   ],
   "source": [
    "# defining a list of numbers\n",
    "numbers = [1, 2, 3, 4, 5, 6, 7]\n",
    "\n",
    "# using filter with lambda to return only even numbers from the list\n",
    "even_numbers = filter(lambda x: x % 2 == 0, numbers)\n",
    "\n",
    "# printing result\n",
    "for num in even_numbers:\n",
    "    print(num)\n"
   ]
  },
  {
   "cell_type": "code",
   "execution_count": 61,
   "metadata": {},
   "outputs": [
    {
     "ename": "TypeError",
     "evalue": "'list' object is not callable",
     "output_type": "error",
     "traceback": [
      "\u001b[0;31m---------------------------------------------------------------------------\u001b[0m",
      "\u001b[0;31mTypeError\u001b[0m                                 Traceback (most recent call last)",
      "Cell \u001b[0;32mIn [61], line 2\u001b[0m\n\u001b[1;32m      1\u001b[0m li \u001b[39m=\u001b[39m [\u001b[39m5\u001b[39m, \u001b[39m7\u001b[39m, \u001b[39m22\u001b[39m, \u001b[39m97\u001b[39m, \u001b[39m54\u001b[39m, \u001b[39m62\u001b[39m, \u001b[39m77\u001b[39m, \u001b[39m23\u001b[39m, \u001b[39m73\u001b[39m, \u001b[39m61\u001b[39m]\n\u001b[0;32m----> 2\u001b[0m final_list \u001b[39m=\u001b[39m \u001b[39mlist\u001b[39;49m(\u001b[39mfilter\u001b[39;49m(\u001b[39mlambda\u001b[39;49;00m x: (x\u001b[39m%\u001b[39;49m\u001b[39m2\u001b[39;49m\u001b[39m!=\u001b[39;49m\u001b[39m0\u001b[39;49m), li))\n\u001b[1;32m      3\u001b[0m \u001b[39mprint\u001b[39m(final_list)\n",
      "\u001b[0;31mTypeError\u001b[0m: 'list' object is not callable"
     ]
    }
   ],
   "source": [
    "li = [5, 7, 22, 97, 54, 62, 77, 23, 73, 61]\n",
    "final_list = list(filter(lambda x: (x%2!=0), li))\n",
    "print(final_list)"
   ]
  },
  {
   "attachments": {},
   "cell_type": "markdown",
   "metadata": {},
   "source": [
    "#### reduce()"
   ]
  },
  {
   "cell_type": "code",
   "execution_count": 62,
   "metadata": {},
   "outputs": [
    {
     "name": "stdout",
     "output_type": "stream",
     "text": [
      "193\n"
     ]
    }
   ],
   "source": [
    "from functools import reduce\n",
    "\n",
    "\n",
    "li = [5, 8, 10, 20, 50, 100]\n",
    "sum = reduce((lambda x, y : x + y), li)\n",
    "print (sum)"
   ]
  },
  {
   "cell_type": "code",
   "execution_count": null,
   "metadata": {},
   "outputs": [
    {
     "name": "stdout",
     "output_type": "stream",
     "text": [
      "[<filter object at 0x7f92c4412b90>]\n"
     ]
    }
   ],
   "source": [
    "# defining a list of numbers\n",
    "numbers = [1, 2, 3, 4, 5, 6, 7]\n",
    "\n",
    "# using filter with lambda to return only even numbers from the list\n",
    "even_numbers = [(filter(lambda x: x % 2 == 0, numbers))]\n",
    "\n",
    "# printing result\n",
    "print(even_numbers)\n",
    "\n"
   ]
  },
  {
   "cell_type": "code",
   "execution_count": null,
   "metadata": {},
   "outputs": [
    {
     "name": "stdout",
     "output_type": "stream",
     "text": [
      "[<filter object at 0x7f92c4412b90>]\n"
     ]
    }
   ],
   "source": [
    "# defining a list of numbers\n",
    "numbers = [1, 2, 3, 4, 5, 6, 7]\n",
    "\n",
    "# using filter with lambda to return only even numbers from the list\n",
    "even_numbers = [(filter(lambda x: x % 2 == 0, numbers))]\n",
    "\n",
    "# printing result\n",
    "print(even_numbers)\n",
    "\n"
   ]
  },
  {
   "cell_type": "code",
   "execution_count": null,
   "metadata": {},
   "outputs": [
    {
     "name": "stdout",
     "output_type": "stream",
     "text": [
      "[<filter object at 0x7f92c4412b90>]\n"
     ]
    }
   ],
   "source": [
    "# defining a list of numbers\n",
    "numbers = [1, 2, 3, 4, 5, 6, 7]\n",
    "\n",
    "# using filter with lambda to return only even numbers from the list\n",
    "even_numbers = [(filter(lambda x: x % 2 == 0, numbers))]\n",
    "\n",
    "# printing result\n",
    "print(even_numbers)\n",
    "\n"
   ]
  },
  {
   "cell_type": "code",
   "execution_count": null,
   "metadata": {},
   "outputs": [
    {
     "name": "stdout",
     "output_type": "stream",
     "text": [
      "[<filter object at 0x7f92c4412b90>]\n"
     ]
    }
   ],
   "source": [
    "# defining a list of numbers\n",
    "numbers = [1, 2, 3, 4, 5, 6, 7]\n",
    "\n",
    "# using filter with lambda to return only even numbers from the list\n",
    "even_numbers = [(filter(lambda x: x % 2 == 0, numbers))]\n",
    "\n",
    "# printing result\n",
    "print(even_numbers)\n",
    "\n"
   ]
  },
  {
   "cell_type": "code",
   "execution_count": null,
   "metadata": {},
   "outputs": [
    {
     "name": "stdout",
     "output_type": "stream",
     "text": [
      "[<filter object at 0x7f92c4412b90>]\n"
     ]
    }
   ],
   "source": [
    "# defining a list of numbers\n",
    "numbers = [1, 2, 3, 4, 5, 6, 7]\n",
    "\n",
    "# using filter with lambda to return only even numbers from the list\n",
    "even_numbers = [(filter(lambda x: x % 2 == 0, numbers))]\n",
    "\n",
    "# printing result\n",
    "print(even_numbers)\n",
    "\n"
   ]
  },
  {
   "cell_type": "code",
   "execution_count": null,
   "metadata": {},
   "outputs": [
    {
     "name": "stdout",
     "output_type": "stream",
     "text": [
      "[<filter object at 0x7f92c4412b90>]\n"
     ]
    }
   ],
   "source": [
    "# defining a list of numbers\n",
    "numbers = [1, 2, 3, 4, 5, 6, 7]\n",
    "\n",
    "# using filter with lambda to return only even numbers from the list\n",
    "even_numbers = [(filter(lambda x: x % 2 == 0, numbers))]\n",
    "\n",
    "# printing result\n",
    "print(even_numbers)\n",
    "\n"
   ]
  },
  {
   "attachments": {},
   "cell_type": "markdown",
   "metadata": {},
   "source": [
    "#### Q):- Program to count occurrences of an element in a list"
   ]
  },
  {
   "cell_type": "code",
   "execution_count": 63,
   "metadata": {},
   "outputs": [
    {
     "name": "stdout",
     "output_type": "stream",
     "text": [
      "The element 3 occurs 3 times in the list.\n",
      "The element 7 occurs 1 times in the list.\n"
     ]
    }
   ],
   "source": [
    "def count_occurrences(numbers_list, x):\n",
    "    count = 0\n",
    "    for n in numbers_list:\n",
    "        if n == x:\n",
    "            count += 1\n",
    "    return count\n",
    "\n",
    "numbers_list = [1, 2, 3, 4, 5, 6, 7, 8, 9, 1, 2, 3, 4, 5, 1, 2, 3]\n",
    "\n",
    "x = 3\n",
    "count = count_occurrences(numbers_list, x)\n",
    "print(\"The element\", x, \"occurs\", count, \"times in the list.\")\n",
    "\n",
    "x = 7\n",
    "count = count_occurrences(numbers_list, x)\n",
    "print(\"The element\", x, \"occurs\", count, \"times in the list.\")\n"
   ]
  },
  {
   "attachments": {},
   "cell_type": "markdown",
   "metadata": {},
   "source": [
    "Q):-  Write a program to sort list of dictionaries by values in Python"
   ]
  },
  {
   "cell_type": "code",
   "execution_count": 1,
   "metadata": {},
   "outputs": [
    {
     "name": "stdout",
     "output_type": "stream",
     "text": [
      "The list printed sorting by age :\n"
     ]
    },
    {
     "ename": "KeyError",
     "evalue": "'age'",
     "output_type": "error",
     "traceback": [
      "\u001b[0;31m---------------------------------------------------------------------------\u001b[0m",
      "\u001b[0;31mKeyError\u001b[0m                                  Traceback (most recent call last)",
      "Cell \u001b[0;32mIn [1], line 7\u001b[0m\n\u001b[1;32m      5\u001b[0m \u001b[39m# using sorted and lambda to print list sorted by age\u001b[39;00m\n\u001b[1;32m      6\u001b[0m \u001b[39mprint\u001b[39m (\u001b[39m\"\u001b[39m\u001b[39mThe list printed sorting by age :\u001b[39m\u001b[39m\"\u001b[39m)\n\u001b[0;32m----> 7\u001b[0m \u001b[39mprint\u001b[39m(\u001b[39msorted\u001b[39;49m(lis, key \u001b[39m=\u001b[39;49m \u001b[39mlambda\u001b[39;49;00m i: i[\u001b[39m'\u001b[39;49m\u001b[39mage\u001b[39;49m\u001b[39m'\u001b[39;49m]))\n\u001b[1;32m      8\u001b[0m \u001b[39mprint\u001b[39m (\u001b[39m'\u001b[39m\u001b[39m\\r\u001b[39;00m\u001b[39m'\u001b[39m)\n\u001b[1;32m      9\u001b[0m \u001b[39m# using sorted and lambda to print list sorted by both age and name\u001b[39;00m\n",
      "Cell \u001b[0;32mIn [1], line 7\u001b[0m, in \u001b[0;36m<lambda>\u001b[0;34m(i)\u001b[0m\n\u001b[1;32m      5\u001b[0m \u001b[39m# using sorted and lambda to print list sorted by age\u001b[39;00m\n\u001b[1;32m      6\u001b[0m \u001b[39mprint\u001b[39m (\u001b[39m\"\u001b[39m\u001b[39mThe list printed sorting by age :\u001b[39m\u001b[39m\"\u001b[39m)\n\u001b[0;32m----> 7\u001b[0m \u001b[39mprint\u001b[39m(\u001b[39msorted\u001b[39m(lis, key \u001b[39m=\u001b[39m \u001b[39mlambda\u001b[39;00m i: i[\u001b[39m'\u001b[39;49m\u001b[39mage\u001b[39;49m\u001b[39m'\u001b[39;49m]))\n\u001b[1;32m      8\u001b[0m \u001b[39mprint\u001b[39m (\u001b[39m'\u001b[39m\u001b[39m\\r\u001b[39;00m\u001b[39m'\u001b[39m)\n\u001b[1;32m      9\u001b[0m \u001b[39m# using sorted and lambda to print list sorted by both age and name\u001b[39;00m\n",
      "\u001b[0;31mKeyError\u001b[0m: 'age'"
     ]
    }
   ],
   "source": [
    "# Initializing list of dictionaries\n",
    "lis = [{\"name\" : \"Nandini\", \"age\" : 20},\n",
    "{\"nam\" : \"Manjee\", \"ag\" : 20 },\n",
    "{\"nam\" : \"Nikhil\", \"ag\" : 19 }]\n",
    "# using sorted and lambda to print list sorted by age\n",
    "print (\"The list printed sorting by age :\")\n",
    "print(sorted(lis, key = lambda i: i['age']))\n",
    "print ('\\r')\n",
    "# using sorted and lambda to print list sorted by both age and name\n",
    "print (\"The list printed sorting by age and name:\")\n",
    "print (sorted(lis, key = lambda i: (i['age'], i['name'])))\n",
    "print ('\\r')\n",
    "# using sorted and lambda to print list sorted\n",
    "# by age in descending order\n",
    "print (\"The list printed sorting by age in descending order:\")\n",
    "print (sorted(lis, key = lambda i: i['age'],reverse=True))"
   ]
  },
  {
   "cell_type": "code",
   "execution_count": 2,
   "metadata": {},
   "outputs": [
    {
     "name": "stdout",
     "output_type": "stream",
     "text": [
      "{'name': 'Jane', 'age': 19, 'grade': 95}\n",
      "{'name': 'John', 'age': 20, 'grade': 90}\n",
      "{'name': 'Bob', 'age': 21, 'grade': 85}\n",
      "{'name': 'Alice', 'age': 22, 'grade': 80}\n"
     ]
    }
   ],
   "source": [
    "# list of dictionaries\n",
    "students = [\n",
    "    {'name': 'John', 'age': 20, 'grade': 90},\n",
    "    {'name': 'Jane', 'age': 19, 'grade': 95},\n",
    "    {'name': 'Bob', 'age': 21, 'grade': 85},\n",
    "    {'name': 'Alice', 'age': 22, 'grade': 80}\n",
    "]\n",
    "\n",
    "# sort the list of dictionaries by grade (descending order)\n",
    "sorted_students = sorted(students, key=lambda x: x['grade'], reverse=True)\n",
    "\n",
    "# print the sorted list of dictionaries\n",
    "for student in sorted_students:\n",
    "    print(student)\n"
   ]
  },
  {
   "attachments": {},
   "cell_type": "markdown",
   "metadata": {},
   "source": [
    "Q):- Write a function in find the HCF of some given numbers"
   ]
  },
  {
   "cell_type": "code",
   "execution_count": 10,
   "metadata": {},
   "outputs": [
    {
     "name": "stdout",
     "output_type": "stream",
     "text": [
      "20\n",
      "1\n"
     ]
    }
   ],
   "source": [
    "def hcf (a, b) :\n",
    "    if a > b :\n",
    "        small = b\n",
    "    else :\n",
    "        small = a\n",
    "    for i in range (1, small + 1) :\n",
    "        if ((a % i == 0) and (b % i == 0)) :\n",
    "                hcf = i\n",
    "    return hcf\n",
    "\n",
    "print(hcf (20, 40))\n",
    "print(hcf (529, 456))"
   ]
  },
  {
   "attachments": {},
   "cell_type": "markdown",
   "metadata": {},
   "source": [
    "ASCII Value of Cracter"
   ]
  },
  {
   "cell_type": "code",
   "execution_count": 11,
   "metadata": {},
   "outputs": [
    {
     "name": "stdout",
     "output_type": "stream",
     "text": [
      "The ASCII value of 'A' is 65\n"
     ]
    }
   ],
   "source": [
    "def ascii_val_of (a) :\n",
    "    print (\"The ASCII value of '\" + a + \"' is\", ord (a))\n",
    "    \n",
    "ascii_val_of ('A')"
   ]
  },
  {
   "attachments": {},
   "cell_type": "markdown",
   "metadata": {},
   "source": [
    "#### Q):- Write a function to convert a decimal number to its binary, octal and hexadecimal equivalents"
   ]
  },
  {
   "cell_type": "code",
   "execution_count": 12,
   "metadata": {},
   "outputs": [
    {
     "name": "stdout",
     "output_type": "stream",
     "text": [
      "0b1010 Binary Equivalent\n",
      "0o12 Octal Equivalent\n",
      "0xa Hexadecimal Equivalent\n"
     ]
    }
   ],
   "source": [
    "def bin_oct_hex (a) :\n",
    "    print (bin (a), \"Binary Equivalent\")\n",
    "    print (oct (a), \"Octal Equivalent\")\n",
    "    print (hex (a), \"Hexadecimal Equivalent\")\n",
    "\n",
    "bin_oct_hex (10)"
   ]
  },
  {
   "cell_type": "code",
   "execution_count": null,
   "metadata": {},
   "outputs": [],
   "source": []
  }
 ],
 "metadata": {
  "kernelspec": {
   "display_name": "Python 3",
   "language": "python",
   "name": "python3"
  },
  "language_info": {
   "codemirror_mode": {
    "name": "ipython",
    "version": 3
   },
   "file_extension": ".py",
   "mimetype": "text/x-python",
   "name": "python",
   "nbconvert_exporter": "python",
   "pygments_lexer": "ipython3",
   "version": "3.11.2"
  },
  "orig_nbformat": 4
 },
 "nbformat": 4,
 "nbformat_minor": 2
}
