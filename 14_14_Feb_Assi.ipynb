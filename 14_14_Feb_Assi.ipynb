{
 "cells": [
  {
   "cell_type": "markdown",
   "metadata": {},
   "source": [
    "## Data Science Masters - Hindi - 13 Feb 2023"
   ]
  },
  {
   "attachments": {},
   "cell_type": "markdown",
   "metadata": {},
   "source": [
    "#### Q1. What is multithreading in python? Why is it used? Name the module used to handle threads in python."
   ]
  },
  {
   "attachments": {},
   "cell_type": "markdown",
   "metadata": {},
   "source": [
    "- Multithreading is a technique for concurrent program execution flow that uses shared resources with the main thread and multiple threads by thread switching.\n",
    "- The main thread is the one that executes the program.\n",
    "- This technique allows multiple threads to communicate with each other.\n",
    "#\n",
    "- We use multithreading to divide tasks into multiple subtasks for increase responsiveness.\\\n",
    "- It increase better CPU utilization and efficient resource usage.\n",
    "#\n",
    "- There are two modules to handle multithreading in python.\n",
    "    - thread - obsoleted\n",
    "    - threading - Currently used"
   ]
  },
  {
   "attachments": {},
   "cell_type": "markdown",
   "metadata": {},
   "source": [
    "#### Q2. Why threading module used? Write the use of the following functions:\n",
    "#### 1. activeCount()\n",
    "#### 2. currentThread()\n",
    "#### 3. enumerate()"
   ]
  },
  {
   "attachments": {},
   "cell_type": "markdown",
   "metadata": {},
   "source": [
    "- 'threading' module is used to implement thread-based parallelism in a python program.\n",
    "- This module provides low-level primitives for working with multiple threads.\n",
    "#\n",
    "- 1. activeCount()\n",
    "    - Returns the count of active threads in the thread group and its subgroups.\n",
    "#\n",
    "- 2. currentThread()\n",
    "    - It is used to return the current Thread object, which corresponds to the caller's thread of control.\n",
    "#\n",
    "- 3. enumerate()\n",
    "    - Returns a list of the active thread objects."
   ]
  },
  {
   "attachments": {},
   "cell_type": "markdown",
   "metadata": {},
   "source": [
    "#### Q3. Explain the following functions:\n",
    "#### 1. run()\n",
    "#### 2. start()\n",
    "#### 3. join()\n",
    "#### 4. isAlive() "
   ]
  },
  {
   "attachments": {},
   "cell_type": "markdown",
   "metadata": {},
   "source": [
    "- 1. run()\n",
    "    - This method invokes the callable object passed to the object’s constructor.\n",
    "#\n",
    "- 2. start()\n",
    "    - Start the thread’s activity by calling run() method.\n",
    "#\n",
    "- 3. join()\n",
    "    - This blocks the calling thread until the thread whose join() method is called terminates.\n",
    "#\n",
    "- 4. isAlive()\n",
    "    - This method checks if a thread is still executing.\n"
   ]
  },
  {
   "attachments": {},
   "cell_type": "markdown",
   "metadata": {},
   "source": [
    "#### Q4.  Write a python program to create two threads. Thread one must print the list of squares and thread two must print the list of cubes."
   ]
  },
  {
   "cell_type": "code",
   "execution_count": 1,
   "metadata": {},
   "outputs": [
    {
     "name": "stdout",
     "output_type": "stream",
     "text": [
      "INFO:root:Square : 1\n",
      "INFO:root:Cube : 1\n",
      "INFO:root:Square : 4\n",
      "INFO:root:Cube : 8\n",
      "INFO:root:Square : 9\n",
      "INFO:root:Cube : 27\n",
      "INFO:root:Square : 16\n",
      "INFO:root:Cube : 64\n",
      "INFO:root:Square : 25\n",
      "INFO:root:Cube : 125\n",
      "INFO:root:Square : 36\n",
      "INFO:root:Cube : 216\n",
      "INFO:root:Square : 49\n",
      "INFO:root:Cube : 343\n",
      "INFO:root:Square : 64\n",
      "INFO:root:Cube : 512\n",
      "INFO:root:Square : 81\n",
      "INFO:root:Cube : 729\n",
      "INFO:root:Square : 100\n",
      "INFO:root:Cube : 1000\n",
      "\n"
     ]
    }
   ],
   "source": [
    "import threading\n",
    "import logging\n",
    "\n",
    "logging.basicConfig(filename=\"4_1.log\", filemode=\"w\", level=logging.INFO)\n",
    "\n",
    "\n",
    "def sq(l):\n",
    "    logging.info(\"Square : {}\" .format(l*l))\n",
    "\n",
    "\n",
    "def cube(l):\n",
    "    logging.info(\"Cube : {}\" .format(l*l*l))\n",
    "\n",
    "\n",
    "th1 = [threading.Thread(target=sq, args=(i,)) for i in range(1, 11)]\n",
    "th2 = [threading.Thread(target=cube, args=(i,)) for i in range(1, 11)]\n",
    "\n",
    "for t in range(10):\n",
    "    th1[t].start()\n",
    "    th2[t].start()\n",
    "    th1[t].join()\n",
    "    th2[t].join()\n",
    "\n",
    "with open(\"4_1.log\") as f:\n",
    "    print(f.read())\n"
   ]
  },
  {
   "attachments": {},
   "cell_type": "markdown",
   "metadata": {},
   "source": [
    "#### Q5. State advantages and disadvantages of multithreading."
   ]
  },
  {
   "attachments": {},
   "cell_type": "markdown",
   "metadata": {},
   "source": [
    "- Advantages of multithreading\n",
    "    - Increased responsiveness\n",
    "    - Faster context switching\n",
    "    - Effective utilization of multiprocessor system\n",
    "    - Resource Sharing\n",
    "    - Enhanced throughput\n",
    "#\n",
    "- Disadvantages of multithreading\n",
    "    - Can negatively affect performance dur to context switch overhead.\n",
    "    - Multithreaded programs are difficult to implement and maintain.\n",
    "    - Proper synchronization is required.\n",
    "    - Due to resource dependencey, it can lead to deadlock.\n",
    "    - Single thread performance may get reduced."
   ]
  },
  {
   "cell_type": "markdown",
   "metadata": {},
   "source": [
    "#### Q6. Explain deadlocks and race conditions."
   ]
  },
  {
   "attachments": {},
   "cell_type": "markdown",
   "metadata": {},
   "source": [
    "- Deadlock\n",
    "\n",
    "  - It is a condition in a system where a process cannot proceed because it needs to obtain a resource held by another process but it itself is holding a resource that that the other process needs.\n",
    "#\n",
    "- Race conditions\n",
    "  - When the final value of a shared variable is dependent on the sequence of execution of the thread the the condition is called race condition.\n"
   ]
  }
 ],
 "metadata": {
  "kernelspec": {
   "display_name": "Python 3",
   "language": "python",
   "name": "python3"
  },
  "language_info": {
   "codemirror_mode": {
    "name": "ipython",
    "version": 3
   },
   "file_extension": ".py",
   "mimetype": "text/x-python",
   "name": "python",
   "nbconvert_exporter": "python",
   "pygments_lexer": "ipython3",
   "version": "3.10.9"
  },
  "orig_nbformat": 4,
  "vscode": {
   "interpreter": {
    "hash": "916dbcbb3f70747c44a77c7bcd40155683ae19c65e1c03b4aa3499c5328201f1"
   }
  }
 },
 "nbformat": 4,
 "nbformat_minor": 2
}
