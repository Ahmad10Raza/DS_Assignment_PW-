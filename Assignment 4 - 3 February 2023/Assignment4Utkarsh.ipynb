{
 "cells": [
  {
   "attachments": {},
   "cell_type": "markdown",
   "metadata": {},
   "source": [
    "<a id=\"0\"></a>\n",
    "\n",
    "# <p style=\"padding:10px;background-color:#87CEEB ;margin:10;color:#000000;font-family:newtimeroman;font-size:100%;text-align:center;border-radius: 10px 10px ;overflow:hidden;font-weight:50\">Assignment  4: Functions and Generators - Utkarsh Gaikwad</p>"
   ]
  },
  {
   "attachments": {},
   "cell_type": "markdown",
   "metadata": {},
   "source": [
    "[Assignment 4 pdf link](03%20Feb_AssQ.pdf)"
   ]
  },
  {
   "attachments": {},
   "cell_type": "markdown",
   "metadata": {},
   "source": [
    "<a id=\"1\"></a>\n",
    "\n",
    "# <p style=\"padding:10px;background-color:#87CEEB ;margin:10;color:#000000;font-family:newtimeroman;font-size:100%;text-align:center;border-radius: 10px 10px ;overflow:hidden;font-weight:50\">Question 1</p>"
   ]
  },
  {
   "attachments": {},
   "cell_type": "markdown",
   "metadata": {},
   "source": [
    "## Question 1 : Which keyword is used to create a function? Create a function to return a list of odd numbers in the range of 1 to 25.\n",
    "---"
   ]
  },
  {
   "attachments": {},
   "cell_type": "markdown",
   "metadata": {},
   "source": [
    "## Answer : Keyword \"def\" is used to create a function in Python"
   ]
  },
  {
   "cell_type": "code",
   "execution_count": 3,
   "metadata": {},
   "outputs": [],
   "source": [
    "# Approach 1\n",
    "def odd():\n",
    "    \"\"\"\n",
    "    Returns Odd Number from range 1 to 25\n",
    "    \"\"\"\n",
    "    l = []\n",
    "    for i in range(1,25):\n",
    "        if i%2 != 0:\n",
    "            l.append(i)\n",
    "    return l"
   ]
  },
  {
   "cell_type": "code",
   "execution_count": 4,
   "metadata": {},
   "outputs": [
    {
     "data": {
      "text/plain": [
       "[1, 3, 5, 7, 9, 11, 13, 15, 17, 19, 21, 23]"
      ]
     },
     "execution_count": 4,
     "metadata": {},
     "output_type": "execute_result"
    }
   ],
   "source": [
    "odd()"
   ]
  },
  {
   "cell_type": "code",
   "execution_count": 7,
   "metadata": {},
   "outputs": [],
   "source": [
    "#Approach 2:\n",
    "def odd_alt(n):\n",
    "    \"\"\"\n",
    "    Returns Odd Number from range 1 to n\n",
    "    \"\"\"\n",
    "    l = []\n",
    "    for i in range(1,n):\n",
    "        if i%2 != 0:\n",
    "            l.append(i)\n",
    "    return l"
   ]
  },
  {
   "cell_type": "code",
   "execution_count": 8,
   "metadata": {},
   "outputs": [
    {
     "data": {
      "text/plain": [
       "[1, 3, 5, 7, 9, 11, 13, 15, 17, 19, 21, 23]"
      ]
     },
     "execution_count": 8,
     "metadata": {},
     "output_type": "execute_result"
    }
   ],
   "source": [
    "odd_alt(25)"
   ]
  },
  {
   "attachments": {},
   "cell_type": "markdown",
   "metadata": {},
   "source": [
    "<a id=\"2\"></a>\n",
    "\n",
    "# <p style=\"padding:10px;background-color:#87CEEB ;margin:10;color:#000000;font-family:newtimeroman;font-size:100%;text-align:center;border-radius: 10px 10px ;overflow:hidden;font-weight:50\">Question 2</p>"
   ]
  },
  {
   "attachments": {},
   "cell_type": "markdown",
   "metadata": {},
   "source": [
    "## Question 2: Why \\*args and \\**kwargs is used in some functions? Create a function each for \\*args and \\**kwargs to demonstrate their use.\n",
    "---"
   ]
  },
  {
   "attachments": {},
   "cell_type": "markdown",
   "metadata": {},
   "source": [
    "## Answer : Use of \\*args and \\**kwargs as per below\n",
    "1. \\*args - Python has \\*args which allow us to pass the variable number of non keyword arguments to function. The args are stored as tuple.\n",
    "2. \\**kwargs - \\**kwargs allows us to pass the variable length of keyword arguments to the function. The kwargs are stored as dictionary."
   ]
  },
  {
   "attachments": {},
   "cell_type": "markdown",
   "metadata": {},
   "source": [
    "#### Example 1 for \\*args (Function to calculate various types of mean)"
   ]
  },
  {
   "cell_type": "code",
   "execution_count": 11,
   "metadata": {},
   "outputs": [],
   "source": [
    "# Example 1 *args : creating a function that can calculate arithmetic , geometric and harmonic mean\n",
    "\n",
    "def mean(*args, operate = 'arithmetic'):\n",
    "    \"\"\"\n",
    "    This function can calculate arithmetic, geometric and harmonic mean\n",
    "    based on operation provided by default value is arithmetic mean\n",
    "    \"\"\"\n",
    "    if operate=='arithmetic':\n",
    "        x = 0 # Initialize the output\n",
    "        for i in args:\n",
    "            x = x + i\n",
    "        x = x/len(args)\n",
    "\n",
    "    elif operate=='geometric':\n",
    "        x = 1\n",
    "        for i in args:\n",
    "            x = x*i\n",
    "        x = x**(1/len(args))\n",
    "\n",
    "    elif operate=='harmonic':\n",
    "        x = 0\n",
    "        for i in args:\n",
    "            x = x + 1/i\n",
    "        x = len(args)/x\n",
    "    \n",
    "    else:\n",
    "        x = None\n",
    "        print('Please enter arithmetic, geometric or harmonic')\n",
    "\n",
    "    return x"
   ]
  },
  {
   "cell_type": "code",
   "execution_count": 12,
   "metadata": {},
   "outputs": [
    {
     "data": {
      "text/plain": [
       "3.5"
      ]
     },
     "execution_count": 12,
     "metadata": {},
     "output_type": "execute_result"
    }
   ],
   "source": [
    "# By Default arithmetic mean is calculated\n",
    "mean(1,2,3,4,5,6)"
   ]
  },
  {
   "cell_type": "code",
   "execution_count": 13,
   "metadata": {},
   "outputs": [
    {
     "data": {
      "text/plain": [
       "2.993795165523909"
      ]
     },
     "execution_count": 13,
     "metadata": {},
     "output_type": "execute_result"
    }
   ],
   "source": [
    "# Calculating geometric mean\n",
    "mean(1,2,3,4,5,6,operate='geometric')"
   ]
  },
  {
   "cell_type": "code",
   "execution_count": 14,
   "metadata": {},
   "outputs": [
    {
     "data": {
      "text/plain": [
       "2.4489795918367347"
      ]
     },
     "execution_count": 14,
     "metadata": {},
     "output_type": "execute_result"
    }
   ],
   "source": [
    "# Calculating Harmonic Mean\n",
    "mean(1,2,3,4,5,6,operate='harmonic')"
   ]
  },
  {
   "cell_type": "code",
   "execution_count": 15,
   "metadata": {},
   "outputs": [
    {
     "name": "stdout",
     "output_type": "stream",
     "text": [
      "Please enter arithmetic, geometric or harmonic\n"
     ]
    }
   ],
   "source": [
    "#Other types will give error\n",
    "mean(1,2,3,4,5,6,operate='rms')"
   ]
  },
  {
   "attachments": {},
   "cell_type": "markdown",
   "metadata": {},
   "source": [
    "#### Example 2 for \\**kwargs"
   ]
  },
  {
   "cell_type": "code",
   "execution_count": 16,
   "metadata": {},
   "outputs": [],
   "source": [
    "# Example 2 for **kwargs can be used to build profile on any website\n",
    "def profile(first,last,**kwargs):\n",
    "    \"\"\"\n",
    "    This function can be used to build user profile\n",
    "    \"\"\"\n",
    "    prof = {}\n",
    "    prof['first_name']=first\n",
    "    prof['last_name']=last\n",
    "\n",
    "    for key, value in kwargs.items():\n",
    "        prof[key]=value\n",
    "\n",
    "    return prof"
   ]
  },
  {
   "cell_type": "code",
   "execution_count": 18,
   "metadata": {},
   "outputs": [
    {
     "data": {
      "text/plain": [
       "{'first_name': 'Utkarsh',\n",
       " 'last_name': 'Gaikwad',\n",
       " 'age': 28,\n",
       " 'height': 6.0,\n",
       " 'weight': 70.0,\n",
       " 'diet': 'Vegeterian'}"
      ]
     },
     "execution_count": 18,
     "metadata": {},
     "output_type": "execute_result"
    }
   ],
   "source": [
    "profile('Utkarsh','Gaikwad',age=28,height=6.0,weight=70.0,diet='Vegeterian')"
   ]
  },
  {
   "attachments": {},
   "cell_type": "markdown",
   "metadata": {},
   "source": [
    "#### Example 3 using both \\*args and \\**kwargs in an example"
   ]
  },
  {
   "cell_type": "code",
   "execution_count": 22,
   "metadata": {},
   "outputs": [
    {
     "name": "stdout",
     "output_type": "stream",
     "text": [
      "{'items': ('Burger', 'Tea', 'Toast'), 'price': 250, 'restaurant': 'Buon Cibo'}\n"
     ]
    }
   ],
   "source": [
    "# Example 3 Meal Details\n",
    "def get_meal_details(*meal_items, **meal_info):\n",
    "    \"\"\"\n",
    "    This function gives meal details i.e. what items \n",
    "    present in a meal , we can add other details like price\n",
    "    and restaurant in this function\n",
    "    \"\"\"\n",
    "    meal = {}\n",
    "    meal['items'] = meal_items\n",
    "    for key, value in meal_info.items():\n",
    "        meal[key] = value\n",
    "    return meal\n",
    "\n",
    "# Usage\n",
    "breakfast = get_meal_details('Burger', 'Tea', 'Toast', price=250 , restaurant='Buon Cibo')\n",
    "\n",
    "print(breakfast)"
   ]
  },
  {
   "attachments": {},
   "cell_type": "markdown",
   "metadata": {},
   "source": [
    "<a id=\"3\"></a>\n",
    "\n",
    "# <p style=\"padding:10px;background-color:#87CEEB ;margin:10;color:#000000;font-family:newtimeroman;font-size:100%;text-align:center;border-radius: 10px 10px ;overflow:hidden;font-weight:50\">Question 3</p>"
   ]
  },
  {
   "attachments": {},
   "cell_type": "markdown",
   "metadata": {},
   "source": [
    "## Question 3: What is an iterator in python? Name the method used to initialise the iterator object and the method used for iteration. Use these methods to print the first five elements of the given list [2, 4, 6, 8, 10, 12, 14, 16, 18, 20].\n",
    "---"
   ]
  },
  {
   "attachments": {},
   "cell_type": "markdown",
   "metadata": {},
   "source": [
    "## Answer :\n",
    "An iterator in Python is an object that implements the iterator protocol, which consists of two methods:\\__iter__ and \\__next__.\\\n",
    "The \\__iter__ method returns the iterator object, and the \\__next__ method returns the next item from the iterator."
   ]
  },
  {
   "cell_type": "code",
   "execution_count": 23,
   "metadata": {},
   "outputs": [
    {
     "name": "stdout",
     "output_type": "stream",
     "text": [
      "2\n",
      "4\n",
      "6\n",
      "8\n",
      "10\n"
     ]
    }
   ],
   "source": [
    "l = [2, 4, 6, 8, 10, 12, 14, 16, 18, 20]\n",
    "\n",
    "# Create an iterator from list object\n",
    "it = iter(l)\n",
    "\n",
    "# Use next method to get next item from iterator\n",
    "for i in range(5):\n",
    "    print(next(it))"
   ]
  },
  {
   "attachments": {},
   "cell_type": "markdown",
   "metadata": {},
   "source": [
    "<a id=\"4\"></a>\n",
    "\n",
    "# <p style=\"padding:10px;background-color:#87CEEB ;margin:10;color:#000000;font-family:newtimeroman;font-size:100%;text-align:center;border-radius: 10px 10px ;overflow:hidden;font-weight:50\">Question 4</p>"
   ]
  },
  {
   "attachments": {},
   "cell_type": "markdown",
   "metadata": {},
   "source": [
    "## Question 4: What is a generator function in python? Why yield keyword is used? Give an example of a generator function.\n",
    "---"
   ]
  },
  {
   "attachments": {},
   "cell_type": "markdown",
   "metadata": {},
   "source": [
    "## Answer :\n",
    "Generator functions are a special kind of function that return a lazy iterator called a generator iterator.\\\n",
    "These are objects that you can loop over like a list. \\\n",
    "However, unlike lists, lazy iterators do not store their contents in memory."
   ]
  },
  {
   "attachments": {},
   "cell_type": "markdown",
   "metadata": {},
   "source": [
    "The yield keyword in Python controls the flow of a generator function. This is similar to a return statement used for returning values in Python. However, there is a difference.\n",
    "\n",
    "When you call a function that has a yield statement, as soon as a yield is encountered, the execution of the function halts and returns a generator iterator object instead of simply returning a value. The state of the function, which includes variable bindings, the instruction pointer, the internal stack, and a few other things, is saved.\n",
    "\n",
    "In other words, the yield keyword will convert an expression that is specified along with it to a generator iterator, and return it to the caller."
   ]
  },
  {
   "attachments": {},
   "cell_type": "markdown",
   "metadata": {},
   "source": [
    "I have built a tribonacci sequence generator in below example.\\\n",
    "[Tribonacci Series explained link](https://brilliant.org/wiki/tribonacci-sequence/)"
   ]
  },
  {
   "cell_type": "code",
   "execution_count": 24,
   "metadata": {},
   "outputs": [],
   "source": [
    "# Generator function to generate Tribonacci series i.e. next term = sum of last 3 terms\n",
    "def Tribonacci(n):\n",
    "    \"\"\"\n",
    "    This function generates Tribonacci series\n",
    "    Next term = Sum of previous three terms \n",
    "    \"\"\"\n",
    "    a,b,c = 0,1,1\n",
    "    for i in range(n):\n",
    "        yield a\n",
    "        a,b,c = b,c,a+b+c"
   ]
  },
  {
   "cell_type": "code",
   "execution_count": 27,
   "metadata": {},
   "outputs": [
    {
     "data": {
      "text/plain": [
       "<generator object Tribonacci at 0x00000269495767A0>"
      ]
     },
     "execution_count": 27,
     "metadata": {},
     "output_type": "execute_result"
    }
   ],
   "source": [
    "Tribonacci(11)"
   ]
  },
  {
   "cell_type": "code",
   "execution_count": 28,
   "metadata": {},
   "outputs": [
    {
     "name": "stdout",
     "output_type": "stream",
     "text": [
      "0\n",
      "1\n",
      "1\n",
      "2\n",
      "4\n",
      "7\n",
      "13\n",
      "24\n",
      "44\n",
      "81\n",
      "149\n"
     ]
    }
   ],
   "source": [
    "for i in Tribonacci(11):\n",
    "    print(i)"
   ]
  },
  {
   "attachments": {},
   "cell_type": "markdown",
   "metadata": {},
   "source": [
    "<a id=\"5\"></a>\n",
    "\n",
    "# <p style=\"padding:10px;background-color:#87CEEB ;margin:10;color:#000000;font-family:newtimeroman;font-size:100%;text-align:center;border-radius: 10px 10px ;overflow:hidden;font-weight:50\">Question 5</p>"
   ]
  },
  {
   "attachments": {},
   "cell_type": "markdown",
   "metadata": {},
   "source": [
    "## Question 5 : Create a generator function for prime numbers less than 1000. Use the next() method to print the first 20 prime numbers\n",
    "---"
   ]
  },
  {
   "attachments": {},
   "cell_type": "markdown",
   "metadata": {},
   "source": [
    "## Answer : I have used Sieve of Eratosthenes method to generate prime numbers This algorithm is optimum for generation of prime numbers "
   ]
  },
  {
   "attachments": {},
   "cell_type": "markdown",
   "metadata": {},
   "source": [
    "The Sieve of Eratosthenes is an algorithm used to find all the prime numbers up to a given limit. The algorithm works as follows:\n",
    "\n",
    "1. Create a list of booleans is_prime with limit elements and initialize all elements to True.\n",
    "\n",
    "2. Mark 0 and 1 as non-prime by setting is_prime[0] and is_prime[1] to False.\n",
    "\n",
    "3. Iterate through the numbers from 2 to the square root of limit. For each number i, if is_prime[i] is True, then mark all the multiples of i as non-prime by setting is_prime[j] to False where j is a multiple of i in the range i**2 to limit with a step of i.\n",
    "\n",
    "4. After the above steps, the numbers that are still marked as True in the is_prime list are the prime numbers. Yield these numbers as the final result.\n",
    "\n",
    "5. The code implementation uses this algorithm to generate a sequence of prime numbers up to a given limit of 1000. The get_primes function uses the yield statement to generate the prime numbers one by one and the next method is used to get the next prime number from the generator."
   ]
  },
  {
   "cell_type": "code",
   "execution_count": 29,
   "metadata": {},
   "outputs": [],
   "source": [
    "def prime_sequence(limit):\n",
    "    \"\"\"\n",
    "    Using Sieve of Eratosthenes to generate prime numbers upto limit\n",
    "    The function uses a list is_prime to keep track of the prime numbers and initializes it with True values. \n",
    "    The is_prime list is updated using the Sieve of Eratosthenes algorithm, marking the non-prime numbers as False.\n",
    "    \"\"\"\n",
    "    is_prime = [True] * limit\n",
    "    is_prime[0] , is_prime[1] = False, False #Number 0 and 1 are not Prime Numbers Making them False\n",
    "\n",
    "    for i in range(2, int(limit**0.5) + 1):\n",
    "        if is_prime[i]:\n",
    "            for j in range(i**2, limit, i):\n",
    "                is_prime[j] = False\n",
    "\n",
    "    for i in range(limit):\n",
    "        if is_prime[i]:\n",
    "            yield i"
   ]
  },
  {
   "cell_type": "code",
   "execution_count": 32,
   "metadata": {},
   "outputs": [],
   "source": [
    "prime = prime_sequence(1000)"
   ]
  },
  {
   "cell_type": "code",
   "execution_count": 33,
   "metadata": {},
   "outputs": [
    {
     "name": "stdout",
     "output_type": "stream",
     "text": [
      "2\n",
      "3\n",
      "5\n",
      "7\n",
      "11\n",
      "13\n",
      "17\n",
      "19\n",
      "23\n",
      "29\n",
      "31\n",
      "37\n",
      "41\n",
      "43\n",
      "47\n",
      "53\n",
      "59\n",
      "61\n",
      "67\n",
      "71\n"
     ]
    }
   ],
   "source": [
    "for i in range(20):\n",
    "    print(next(prime))"
   ]
  }
 ],
 "metadata": {
  "kernelspec": {
   "display_name": "venv",
   "language": "python",
   "name": "python3"
  },
  "language_info": {
   "codemirror_mode": {
    "name": "ipython",
    "version": 3
   },
   "file_extension": ".py",
   "mimetype": "text/x-python",
   "name": "python",
   "nbconvert_exporter": "python",
   "pygments_lexer": "ipython3",
   "version": "3.10.7"
  },
  "orig_nbformat": 4,
  "vscode": {
   "interpreter": {
    "hash": "27149e82490bdaa27222c4e29544e396278d224a9f42010d392c3451ce079b12"
   }
  }
 },
 "nbformat": 4,
 "nbformat_minor": 2
}
