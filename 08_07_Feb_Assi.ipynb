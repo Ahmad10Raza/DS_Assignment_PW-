{
 "cells": [
  {
   "attachments": {},
   "cell_type": "markdown",
   "metadata": {},
   "source": [
    "## Data Science Masters - Hindi - 07 Feb 2023\n"
   ]
  },
  {
   "attachments": {},
   "cell_type": "markdown",
   "metadata": {},
   "source": [
    "#### Q1. You are writing code for a company. The requirement of the company is that you create a python function that will check whether the password entered by the user is correct or not. The function should take the password as input and return the string \"Valid Password\" if the entered password follows the below-given password guidelines else it should return \"Invalid Password\".\n",
    "\n",
    "#### Note:\n",
    "\n",
    "#### 1. The Password should contain at least two uppercase letters and at least two lowercase letters.\n",
    "\n",
    "#### 2. The Password should contain at least a number and three special characters.\n",
    "\n",
    "#### 3. The length of the password should be 10 characters long.\n"
   ]
  },
  {
   "cell_type": "code",
   "execution_count": 150,
   "metadata": {},
   "outputs": [
    {
     "name": "stdout",
     "output_type": "stream",
     "text": [
      "Valid Password\n",
      "Invalid Password\n",
      "Valid Password\n",
      "Invalid Password\n"
     ]
    }
   ],
   "source": [
    "def chkpass(psd):\n",
    "    uc, uf, lc, lf, intc, intf, sc, sf = 0, 0, 0, 0, 0, 0, 0, 0\n",
    "\n",
    "    if (len(psd) == 10):\n",
    "        for i in range(len(psd)):\n",
    "            # print(ord(psd[i]))\n",
    "            if ((psd[i]) < chr(58) and psd[i] > chr(48)):\n",
    "                intc += 1\n",
    "                intf = 1\n",
    "                # print(i, \"int\", psd[i])\n",
    "            elif ((psd[i] < chr(48) and psd[i] > chr(32)) or (psd[i] < chr(65) and psd[i] > chr(57))):\n",
    "                sc += 1\n",
    "                if (sc == 3):\n",
    "                    sf = 1\n",
    "                # print(i, \"sp\", psd[i])\n",
    "            elif (psd[i] == psd[i].upper()):\n",
    "                uc += 1\n",
    "                if (uc == 2):\n",
    "                    uf = 1\n",
    "                # print(i, \"u\", psd[i])\n",
    "            elif (psd[i] == psd[i].lower()):\n",
    "                lc += 1\n",
    "                if (lc == 2):\n",
    "                    lf = 1\n",
    "                # print(i, \"l\", psd[i])\n",
    "    if (uf and lf and intf and sf):\n",
    "        print(\"Valid Password\")\n",
    "    else:\n",
    "        print(\"Invalid Password\")\n",
    "\n",
    "\n",
    "chkpass(\"AditYa@!#4\")\n",
    "chkpass(\"InvalidPassword\")\n",
    "chkpass(\"Data!!1Sc#\")\n",
    "chkpass(\"Data!!1Scien#\")\n"
   ]
  },
  {
   "attachments": {},
   "cell_type": "markdown",
   "metadata": {},
   "source": [
    "#### Q2. Solve the below-given questions using at least one of the following:\n",
    "\n",
    "#### 1. Lambda function\n",
    "\n",
    "#### 2. Filter function\n",
    "\n",
    "#### 3. Map function\n",
    "\n",
    "#### 4. List Comprehension\n",
    "\n",
    "- Check if the string starts with a particular letter.\n",
    "\n",
    "- Check if the string is numeric.\n",
    "\n",
    "- Sort a list of tuples having fruit names and their quantity. [(\"mango\",99), (\"orange\", 80), (\"grapes\", 1000)]\n",
    "\n",
    "- Find the squares of numbers from 1 to 10.\n",
    "\n",
    "- Find the cube root of numbers from 1 to 10.\n",
    "\n",
    "- Check if a given number is even.\n",
    "\n",
    "- Filter odd numbers from the given list.\n",
    "\n",
    "  [1,2,3,4,5,6,7,8,9,10]\n",
    "\n",
    "- Sort a list of integers into positive and negative integers lists.\n",
    "\n",
    "  [1,2,3,4,5,6,-1,-2,-3,-4,-5,0]\n"
   ]
  },
  {
   "cell_type": "markdown",
   "metadata": {},
   "source": [
    "- Check if the string starts with a particular letter.\n"
   ]
  },
  {
   "cell_type": "code",
   "execution_count": 151,
   "metadata": {},
   "outputs": [
    {
     "name": "stdout",
     "output_type": "stream",
     "text": [
      "Valid String\n"
     ]
    }
   ],
   "source": [
    "s = \"Aditya\"\n",
    "print(\"Valid String\") if s[0] == \"A\" else print(\"Invalid String\")\n",
    "# String is valid if it starts with \"A\"\n"
   ]
  },
  {
   "attachments": {},
   "cell_type": "markdown",
   "metadata": {},
   "source": [
    "- Check if the string is numeric.\n"
   ]
  },
  {
   "cell_type": "code",
   "execution_count": 152,
   "metadata": {},
   "outputs": [
    {
     "name": "stdout",
     "output_type": "stream",
     "text": [
      "The string is not numeric\n",
      "The string is numeric\n"
     ]
    }
   ],
   "source": [
    "def isnum(s):\n",
    "    f = [1 if s.isnumeric() == 1 else 0]\n",
    "    if (f[0]):\n",
    "        print(\"The string is numeric\")\n",
    "    else:\n",
    "        print(\"The string is not numeric\")\n",
    "\n",
    "\n",
    "isnum(\"9Aditya345\")\n",
    "isnum(\"56789\")\n"
   ]
  },
  {
   "attachments": {},
   "cell_type": "markdown",
   "metadata": {},
   "source": [
    "- Sort a list of tuples having fruit names and their quantity. [(\"mango\",99), (\"orange\", 80), (\"grapes\", 1000)]\n"
   ]
  },
  {
   "cell_type": "code",
   "execution_count": 153,
   "metadata": {},
   "outputs": [
    {
     "name": "stdout",
     "output_type": "stream",
     "text": [
      "[('orange', 80), ('mango', 99), ('grapes', 1000)]\n"
     ]
    }
   ],
   "source": [
    "l = [(\"mango\", 99), (\"orange\", 80), (\"grapes\", 1000)]\n",
    "l.sort(key=lambda x: x[1])\n",
    "print(l)\n"
   ]
  },
  {
   "attachments": {},
   "cell_type": "markdown",
   "metadata": {},
   "source": [
    "- Find the squares of numbers from 1 to 10.\n"
   ]
  },
  {
   "cell_type": "code",
   "execution_count": 154,
   "metadata": {},
   "outputs": [
    {
     "data": {
      "text/plain": [
       "[1, 4, 9, 16, 25, 36, 49, 64, 81, 100]"
      ]
     },
     "execution_count": 154,
     "metadata": {},
     "output_type": "execute_result"
    }
   ],
   "source": [
    "l = list(range(1, 11))\n",
    "sq = map(lambda l: l*l, l)\n",
    "list(sq)\n"
   ]
  },
  {
   "attachments": {},
   "cell_type": "markdown",
   "metadata": {},
   "source": [
    "- Find the cube root of numbers from 1 to 10.\n"
   ]
  },
  {
   "cell_type": "code",
   "execution_count": 155,
   "metadata": {},
   "outputs": [
    {
     "data": {
      "text/plain": [
       "[1, 8, 27, 64, 125, 216, 343, 512, 729, 1000]"
      ]
     },
     "execution_count": 155,
     "metadata": {},
     "output_type": "execute_result"
    }
   ],
   "source": [
    "l = list(range(1, 11))\n",
    "cu = map(lambda l: l*l*l, l)\n",
    "list(cu)\n"
   ]
  },
  {
   "attachments": {},
   "cell_type": "markdown",
   "metadata": {},
   "source": [
    "- Check if a given number is even.\n"
   ]
  },
  {
   "cell_type": "code",
   "execution_count": 156,
   "metadata": {},
   "outputs": [
    {
     "name": "stdout",
     "output_type": "stream",
     "text": [
      "Even\n"
     ]
    }
   ],
   "source": [
    "num = 76\n",
    "f = print(\"Even\") if num % 2 == 0 else print(\"Odd\")\n"
   ]
  },
  {
   "attachments": {},
   "cell_type": "markdown",
   "metadata": {},
   "source": [
    "- Filter odd numbers from the given list.\n",
    "\n",
    "  [1,2,3,4,5,6,7,8,9,10]\n"
   ]
  },
  {
   "cell_type": "code",
   "execution_count": 157,
   "metadata": {},
   "outputs": [
    {
     "name": "stdout",
     "output_type": "stream",
     "text": [
      "The odd numbers are"
     ]
    },
    {
     "data": {
      "text/plain": [
       "[2, 4, 6, 8, 10]"
      ]
     },
     "execution_count": 157,
     "metadata": {},
     "output_type": "execute_result"
    }
   ],
   "source": [
    "l = [1, 2, 3, 4, 5, 6, 7, 8, 9, 10]\n",
    "print(\"The odd numbers are\", end=\"\")\n",
    "list(filter((lambda x: x % 2 == 0), l))"
   ]
  },
  {
   "attachments": {},
   "cell_type": "markdown",
   "metadata": {},
   "source": [
    "- Sort a list of integers into positive and negative integers lists.\n",
    "\n",
    "  [1,2,3,4,5,6,-1,-2,-3,-4,-5,0]"
   ]
  },
  {
   "cell_type": "code",
   "execution_count": 170,
   "metadata": {},
   "outputs": [
    {
     "name": "stdout",
     "output_type": "stream",
     "text": [
      "[0, 1, 2, 3, 4, 5, 6]\n",
      "[-5, -4, -3, -2, -1]\n"
     ]
    }
   ],
   "source": [
    "l = [1, 2, 3, 4, 5, 6, -1, -2, -3, -4, -5, 0]\n",
    "\n",
    "p = list(filter(lambda x: x > -1, l))\n",
    "n = list(filter(lambda x: x < 0, l))\n",
    "p.sort()\n",
    "n.sort()\n",
    "print(p)\n",
    "print(n)\n"
   ]
  }
 ],
 "metadata": {
  "kernelspec": {
   "display_name": "Python 3",
   "language": "python",
   "name": "python3"
  },
  "language_info": {
   "codemirror_mode": {
    "name": "ipython",
    "version": 3
   },
   "file_extension": ".py",
   "mimetype": "text/x-python",
   "name": "python",
   "nbconvert_exporter": "python",
   "pygments_lexer": "ipython3",
   "version": "3.10.9"
  },
  "orig_nbformat": 4,
  "vscode": {
   "interpreter": {
    "hash": "916dbcbb3f70747c44a77c7bcd40155683ae19c65e1c03b4aa3499c5328201f1"
   }
  }
 },
 "nbformat": 4,
 "nbformat_minor": 2
}
