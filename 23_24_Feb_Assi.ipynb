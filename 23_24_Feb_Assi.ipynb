{
 "cells": [
  {
   "cell_type": "markdown",
   "metadata": {},
   "source": [
    "## Data Science Masters - Hindi - 24 Feb 2023"
   ]
  },
  {
   "attachments": {},
   "cell_type": "markdown",
   "metadata": {},
   "source": [
    "#### Q1. List any five functions of the pandas library with execution."
   ]
  },
  {
   "cell_type": "markdown",
   "metadata": {},
   "source": [
    "- Adding a row in the dataframe\n",
    "    - df.append(row_data)\n",
    "#\n",
    "- Adding a column in the dataframe\n",
    "    - df.insert(0, 'column_name', column_value)\n",
    "#\n",
    "- Dropping columns in the dataframe\n",
    "    - df.drop('column_name', axis=1)\n",
    "#\n",
    "- Dropping rows in the dataframe\n",
    "    - df.drop(index_no, axis=0)\n",
    "#\n",
    "- Renaming a column in the dataset\n",
    "    - df.rename(columns={'old_name': 'new_name'})\n",
    "#"
   ]
  },
  {
   "cell_type": "code",
   "execution_count": 38,
   "metadata": {},
   "outputs": [
    {
     "name": "stdout",
     "output_type": "stream",
     "text": [
      "Original dataframe\n",
      "      Name  Age  gender\n",
      "0   Alice   25  female\n",
      "1     Bob   30  Female\n",
      "2  Claire   27  Female \n",
      "\n",
      "Dataframe after appending\n",
      "      Name  Age  gender\n",
      "0   Alice   25  female\n",
      "1     Bob   30  Female\n",
      "2  Claire   27  Female\n",
      "0  Aditya   22    Male \n",
      "\n",
      "dataframe after inserting\n",
      "     Place    Name  Age  gender\n",
      "0   India   Alice   25  female\n",
      "1  London     Bob   30  Female\n",
      "2  France  Claire   27  Female \n",
      "\n",
      "dataframe after dropping one column\n",
      "      Name  Age  gender\n",
      "0   Alice   25  female\n",
      "1     Bob   30  Female\n",
      "2  Claire   27  Female \n",
      "\n",
      "dataframe after dropping one row\n",
      "     Place    Name  Age  gender\n",
      "1  London     Bob   30  Female\n",
      "2  France  Claire   27  Female \n",
      "\n",
      "dataframe after renaming one column\n",
      "   Country    Name  Age  gender\n",
      "0   India   Alice   25  female\n",
      "1  London     Bob   30  Female\n",
      "2  France  Claire   27  Female \n",
      "\n"
     ]
    },
    {
     "name": "stderr",
     "output_type": "stream",
     "text": [
      "/tmp/ipykernel_23195/1805984760.py:11: FutureWarning: The frame.append method is deprecated and will be removed from pandas in a future version. Use pandas.concat instead.\n",
      "  df_append = df.append(df2)\n"
     ]
    }
   ],
   "source": [
    "import pandas as pd\n",
    "\n",
    "data = ([\"Alice\", 25, \"female\"], [\n",
    "    \"Bob\", 30, \"Female\"],\n",
    "    [\"Claire\", 27, \"Female\"])\n",
    "df = pd.DataFrame(data, columns=[\"Name\", \"Age\", \"gender\"])\n",
    "\n",
    "# df.append()\n",
    "new_row = [[\"Aditya\", 22, \"Male\"]]\n",
    "df2 = pd.DataFrame(new_row, columns=[\"Name\", \"Age\", \"gender\"])\n",
    "df_append = df.append(df2)\n",
    "print(\"Original dataframe\\n\", df, \"\\n\")\n",
    "print(\"Dataframe after appending\\n\", df_append, \"\\n\")\n",
    "\n",
    "# df.insert()\n",
    "df.insert(0, \"Place\", [\"India\", \"London\", \"France\"])\n",
    "print(\"dataframe after inserting\\n\", df, \"\\n\")\n",
    "\n",
    "# df.drop(column)\n",
    "df_drop_col = df.drop(\"Place\", axis=1)\n",
    "print(\"dataframe after dropping one column\\n\", df_drop_col, \"\\n\")\n",
    "\n",
    "# df.drop(row)\n",
    "df_drop_row = df.drop(0, axis=0)\n",
    "print(\"dataframe after dropping one row\\n\", df_drop_row, \"\\n\")\n",
    "\n",
    "# Renaming the column\n",
    "df_rename = df.rename(columns={\"Place\": \"Country\"})\n",
    "print(\"dataframe after renaming one column\\n\", df_rename, \"\\n\")"
   ]
  },
  {
   "attachments": {},
   "cell_type": "markdown",
   "metadata": {},
   "source": [
    "#### Q2. Given a Pandas DataFrame df with columns 'A', 'B', and 'C', write a Python function to re-index the DataFrame with a new index that starts from 1 and increments by 2 for each row."
   ]
  },
  {
   "cell_type": "code",
   "execution_count": 39,
   "metadata": {},
   "outputs": [
    {
     "name": "stdout",
     "output_type": "stream",
     "text": [
      "Dataframe before re-indexing\n",
      "          A        B       C\n",
      "0    Suman    Bittu  Chadan\n",
      "1  Shourya  Sinjini   Soham\n",
      "2     Saha  Sudipta   Ankit\n",
      "3   Aditya    Sumit    Azad \n",
      "\n",
      "Dataframe after re-indexing\n",
      "          A        B       C\n",
      "1    Suman    Bittu  Chadan\n",
      "3  Shourya  Sinjini   Soham\n",
      "5     Saha  Sudipta   Ankit\n",
      "7   Aditya    Sumit    Azad \n",
      "\n"
     ]
    }
   ],
   "source": [
    "import pandas as pd\n",
    "\n",
    "data = (\n",
    "    [\"Suman\", \"Bittu\", \"Chadan\"],\n",
    "    [\"Shourya\", \"Sinjini\", \"Soham\"],\n",
    "    [\"Saha\", \"Sudipta\", \"Ankit\"],\n",
    "    [\"Aditya\", \"Sumit\", \"Azad\"]\n",
    ")\n",
    "\n",
    "df = pd.DataFrame(data, columns=['A', 'B', 'C'])\n",
    "print(\"Dataframe before re-indexing\\n\",df,\"\\n\")\n",
    "df.index = [i for i in range(1, 2*len(df), 2)]\n",
    "print(\"Dataframe after re-indexing\\n\",df,\"\\n\")"
   ]
  },
  {
   "attachments": {},
   "cell_type": "markdown",
   "metadata": {},
   "source": [
    "#### Q3. You have a Pandas DataFrame df with a column named 'Values'. Write a Python function that iterates over the DataFrame and calculates the sum of the first three values in the 'Values' column. The function should print the sum to the console.\n",
    "#### For example, if the 'Values' column of df contains the values [10, 20, 30, 40, 50], your function should calculate and print the sum of the first three values, which is 60."
   ]
  },
  {
   "cell_type": "code",
   "execution_count": 40,
   "metadata": {},
   "outputs": [
    {
     "name": "stdout",
     "output_type": "stream",
     "text": [
      "60\n"
     ]
    }
   ],
   "source": [
    "data = (\n",
    "    [10, 20, 30, 40, 50]\n",
    ")\n",
    "\n",
    "df = pd.DataFrame(data, columns=[\"Values\"])\n",
    "\n",
    "sum = 0\n",
    "for i in range(3):\n",
    "    sum += df[[\"Values\"]].values[i]\n",
    "print(int(sum))"
   ]
  },
  {
   "attachments": {},
   "cell_type": "markdown",
   "metadata": {},
   "source": [
    "#### Q4. Given a Pandas DataFrame df with a column 'Text', write a Python function to create a new column 'Word_Count' that contains the number of words in each row of the 'Text' column."
   ]
  },
  {
   "cell_type": "code",
   "execution_count": 41,
   "metadata": {},
   "outputs": [
    {
     "data": {
      "text/html": [
       "<div>\n",
       "<style scoped>\n",
       "    .dataframe tbody tr th:only-of-type {\n",
       "        vertical-align: middle;\n",
       "    }\n",
       "\n",
       "    .dataframe tbody tr th {\n",
       "        vertical-align: top;\n",
       "    }\n",
       "\n",
       "    .dataframe thead th {\n",
       "        text-align: right;\n",
       "    }\n",
       "</style>\n",
       "<table border=\"1\" class=\"dataframe\">\n",
       "  <thead>\n",
       "    <tr style=\"text-align: right;\">\n",
       "      <th></th>\n",
       "      <th>Text</th>\n",
       "      <th>Word_Count</th>\n",
       "    </tr>\n",
       "  </thead>\n",
       "  <tbody>\n",
       "    <tr>\n",
       "      <th>0</th>\n",
       "      <td>This is Aditya</td>\n",
       "      <td>3</td>\n",
       "    </tr>\n",
       "    <tr>\n",
       "      <th>1</th>\n",
       "      <td>This is a data science course</td>\n",
       "      <td>6</td>\n",
       "    </tr>\n",
       "    <tr>\n",
       "      <th>2</th>\n",
       "      <td>Pwskills</td>\n",
       "      <td>1</td>\n",
       "    </tr>\n",
       "    <tr>\n",
       "      <th>3</th>\n",
       "      <td>Data Science is the fastest emerging field in ...</td>\n",
       "      <td>10</td>\n",
       "    </tr>\n",
       "  </tbody>\n",
       "</table>\n",
       "</div>"
      ],
      "text/plain": [
       "                                                Text  Word_Count\n",
       "0                                     This is Aditya           3\n",
       "1                      This is a data science course           6\n",
       "2                                           Pwskills           1\n",
       "3  Data Science is the fastest emerging field in ...          10"
      ]
     },
     "execution_count": 41,
     "metadata": {},
     "output_type": "execute_result"
    }
   ],
   "source": [
    "data = (\n",
    "    [\"This is Aditya\"],\n",
    "    [\"This is a data science course\"],\n",
    "    [\"Pwskills\"],\n",
    "    [\"Data Science is the fastest emerging field in the world.\"]\n",
    ")\n",
    "\n",
    "df = pd.DataFrame(data, columns=[\"Text\"])\n",
    "words = df[\"Text\"].str.count(' ') + 1\n",
    "df.insert(1, \"Word_Count\", words)\n",
    "df\n"
   ]
  },
  {
   "attachments": {},
   "cell_type": "markdown",
   "metadata": {},
   "source": [
    "#### Q5. How are DataFrame.size() and DataFrame.shape() different? "
   ]
  },
  {
   "attachments": {},
   "cell_type": "markdown",
   "metadata": {},
   "source": [
    "- df.size:\n",
    "    - Returns to total number of elements in the dataframe/series.\n",
    "    - returns rows x columns.\n",
    "#\n",
    "- df.shape:\n",
    "    - Returns no of (Rows, columns) of dataframe/series.\n",
    "#\n",
    "- Let's understand with the following example"
   ]
  },
  {
   "cell_type": "code",
   "execution_count": 42,
   "metadata": {},
   "outputs": [
    {
     "name": "stdout",
     "output_type": "stream",
     "text": [
      "The size is : 12\n",
      "The shape is : (4, 3)\n"
     ]
    }
   ],
   "source": [
    "import pandas as pd\n",
    "\n",
    "data = (\n",
    "    [\"Suman\", \"Bittu\", \"Chadan\"],\n",
    "    [\"Shourya\", \"Sinjini\", \"Soham\"],\n",
    "    [\"Saha\", \"Sudipta\", \"Ankit\"],\n",
    "    [\"Aditya\", \"Sumit\", \"Azad\"]\n",
    ")\n",
    "\n",
    "df = pd.DataFrame(data, columns=['A', 'B', 'C'])\n",
    "\n",
    "print(\"The size is :\",df.size)\n",
    "print(\"The shape is :\",df.shape)"
   ]
  },
  {
   "attachments": {},
   "cell_type": "markdown",
   "metadata": {},
   "source": [
    "#### Q6. Which function of pandas do we use to read an excel file?"
   ]
  },
  {
   "attachments": {},
   "cell_type": "markdown",
   "metadata": {},
   "source": [
    "- we use \"pandas.read_excel('file_name.xlsx', sheet_name='sheet_name')\" function to read an excel file."
   ]
  },
  {
   "attachments": {},
   "cell_type": "markdown",
   "metadata": {},
   "source": [
    "#### Q7. You have a Pandas DataFrame df that contains a column named 'Email' that contains email addresses in the format 'username@domain.com'. Write a Python function that creates a new column 'Username' in df that contains only the username part of each email address.\n",
    "#### The username is the part of the email address that appears before the '@' symbol. For example, if the email address is 'john.doe@example.com', the 'Username' column should contain 'john.doe'. Your function should extract the username from each email address and store it in the new 'Username' column."
   ]
  },
  {
   "cell_type": "code",
   "execution_count": 43,
   "metadata": {},
   "outputs": [
    {
     "data": {
      "text/html": [
       "<div>\n",
       "<style scoped>\n",
       "    .dataframe tbody tr th:only-of-type {\n",
       "        vertical-align: middle;\n",
       "    }\n",
       "\n",
       "    .dataframe tbody tr th {\n",
       "        vertical-align: top;\n",
       "    }\n",
       "\n",
       "    .dataframe thead th {\n",
       "        text-align: right;\n",
       "    }\n",
       "</style>\n",
       "<table border=\"1\" class=\"dataframe\">\n",
       "  <thead>\n",
       "    <tr style=\"text-align: right;\">\n",
       "      <th></th>\n",
       "      <th>Email</th>\n",
       "      <th>Username</th>\n",
       "    </tr>\n",
       "  </thead>\n",
       "  <tbody>\n",
       "    <tr>\n",
       "      <th>0</th>\n",
       "      <td>adity01@gmail.com</td>\n",
       "      <td>adity01</td>\n",
       "    </tr>\n",
       "    <tr>\n",
       "      <th>1</th>\n",
       "      <td>aditya02@gmail.com</td>\n",
       "      <td>aditya02</td>\n",
       "    </tr>\n",
       "    <tr>\n",
       "      <th>2</th>\n",
       "      <td>aditya03@gmail.com</td>\n",
       "      <td>aditya03</td>\n",
       "    </tr>\n",
       "    <tr>\n",
       "      <th>3</th>\n",
       "      <td>aditya04@gmail.com</td>\n",
       "      <td>aditya04</td>\n",
       "    </tr>\n",
       "    <tr>\n",
       "      <th>4</th>\n",
       "      <td>aditya05@gmail.com</td>\n",
       "      <td>aditya05</td>\n",
       "    </tr>\n",
       "  </tbody>\n",
       "</table>\n",
       "</div>"
      ],
      "text/plain": [
       "                Email  Username\n",
       "0   adity01@gmail.com   adity01\n",
       "1  aditya02@gmail.com  aditya02\n",
       "2  aditya03@gmail.com  aditya03\n",
       "3  aditya04@gmail.com  aditya04\n",
       "4  aditya05@gmail.com  aditya05"
      ]
     },
     "execution_count": 43,
     "metadata": {},
     "output_type": "execute_result"
    }
   ],
   "source": [
    "import pandas as pd\n",
    "\n",
    "data = (\n",
    "    [\"adity01@gmail.com\"],\n",
    "    [\"aditya02@gmail.com\"],\n",
    "    [\"aditya03@gmail.com\"],\n",
    "    [\"aditya04@gmail.com\"],\n",
    "    [\"aditya05@gmail.com\"]\n",
    ")\n",
    "\n",
    "df = pd.DataFrame(data, columns=[\"Email\"])\n",
    "\n",
    "words = df[\"Email\"].str.split(\"@\").str[0]\n",
    "df.insert(1,\"Username\", words)\n",
    "df"
   ]
  },
  {
   "attachments": {},
   "cell_type": "markdown",
   "metadata": {},
   "source": [
    "#### Q8. You have a Pandas DataFrame df with columns 'A', 'B', and 'C'. Write a Python function that selects all rows where the value in column 'A' is greater than 5 and the value in column 'B' is less than 10. The function should return a new DataFrame that contains only the selected rows. For example, if df contains the following values:\n",
    "####     A   B   C\n",
    "#### 0   3   5   1\n",
    "#### 1   8   2   7\n",
    "#### 2   6   9   4\n",
    "#### 3   2   3   5\n",
    "#### 4   9   1   2\n",
    "\n",
    "#### Your function should select the following rows:\n",
    "#### A   B   C \n",
    "#### 1   8   2   7\n",
    "#### 2   6   9   4\n",
    "#### 4   9   1   2\n",
    "#### The function should return a new DataFrame that contains only the selected rows. "
   ]
  },
  {
   "cell_type": "code",
   "execution_count": 44,
   "metadata": {},
   "outputs": [
    {
     "data": {
      "text/html": [
       "<div>\n",
       "<style scoped>\n",
       "    .dataframe tbody tr th:only-of-type {\n",
       "        vertical-align: middle;\n",
       "    }\n",
       "\n",
       "    .dataframe tbody tr th {\n",
       "        vertical-align: top;\n",
       "    }\n",
       "\n",
       "    .dataframe thead th {\n",
       "        text-align: right;\n",
       "    }\n",
       "</style>\n",
       "<table border=\"1\" class=\"dataframe\">\n",
       "  <thead>\n",
       "    <tr style=\"text-align: right;\">\n",
       "      <th></th>\n",
       "      <th>A</th>\n",
       "      <th>B</th>\n",
       "      <th>C</th>\n",
       "    </tr>\n",
       "  </thead>\n",
       "  <tbody>\n",
       "    <tr>\n",
       "      <th>1</th>\n",
       "      <td>8</td>\n",
       "      <td>2</td>\n",
       "      <td>7</td>\n",
       "    </tr>\n",
       "    <tr>\n",
       "      <th>2</th>\n",
       "      <td>6</td>\n",
       "      <td>9</td>\n",
       "      <td>4</td>\n",
       "    </tr>\n",
       "    <tr>\n",
       "      <th>4</th>\n",
       "      <td>9</td>\n",
       "      <td>1</td>\n",
       "      <td>2</td>\n",
       "    </tr>\n",
       "  </tbody>\n",
       "</table>\n",
       "</div>"
      ],
      "text/plain": [
       "   A  B  C\n",
       "1  8  2  7\n",
       "2  6  9  4\n",
       "4  9  1  2"
      ]
     },
     "execution_count": 44,
     "metadata": {},
     "output_type": "execute_result"
    }
   ],
   "source": [
    "import pandas as pd\n",
    "\n",
    "data = (\n",
    "    [3, 5, 1],\n",
    "    [8, 2, 7],\n",
    "    [6, 9, 4],\n",
    "    [2, 3, 5],\n",
    "    [9, 1, 2],\n",
    ")\n",
    "\n",
    "df = pd.DataFrame(data, columns=[\"A\", \"B\", \"C\"])\n",
    "\n",
    "df_filtered = df.loc[(df[\"A\"] > 5) & (df[\"B\"] < 10)]\n",
    "df_filtered"
   ]
  },
  {
   "attachments": {},
   "cell_type": "markdown",
   "metadata": {},
   "source": [
    "#### Q9. Given a Pandas DataFrame df with a column 'Values', write a Python function to calculate the mean, median, and standard deviation of the values in the 'Values' column."
   ]
  },
  {
   "cell_type": "code",
   "execution_count": 45,
   "metadata": {},
   "outputs": [
    {
     "name": "stdout",
     "output_type": "stream",
     "text": [
      "The mean of the values is: 40.000000\n",
      "The median of the values is: 35.000000\n",
      "The standard deviation of the values is: 28.284271\n"
     ]
    }
   ],
   "source": [
    "data = (\n",
    "    [90, 10, 20, 30, 40, 50]\n",
    ")\n",
    "\n",
    "df = pd.DataFrame(data, columns=[\"Values\"])\n",
    "df_mean = df.mean()\n",
    "df_med = df.median()\n",
    "df_std = df.std()\n",
    "print(\"The mean of the values is: %f\" % df_mean)\n",
    "print(\"The median of the values is: %f\" % df_med)\n",
    "print(\"The standard deviation of the values is: %f\" % df_std)"
   ]
  },
  {
   "attachments": {},
   "cell_type": "markdown",
   "metadata": {},
   "source": [
    "#### Q10. Given a Pandas DataFrame df with a column 'Sales' and a column 'Date', write a Python function to create a new column 'MovingAverage' that contains the moving average of the sales for the past 7 days for each row in the DataFrame. The moving average should be calculated using a window of size 7 and should include the current day."
   ]
  },
  {
   "cell_type": "code",
   "execution_count": 46,
   "metadata": {},
   "outputs": [
    {
     "data": {
      "text/html": [
       "<div>\n",
       "<style scoped>\n",
       "    .dataframe tbody tr th:only-of-type {\n",
       "        vertical-align: middle;\n",
       "    }\n",
       "\n",
       "    .dataframe tbody tr th {\n",
       "        vertical-align: top;\n",
       "    }\n",
       "\n",
       "    .dataframe thead th {\n",
       "        text-align: right;\n",
       "    }\n",
       "</style>\n",
       "<table border=\"1\" class=\"dataframe\">\n",
       "  <thead>\n",
       "    <tr style=\"text-align: right;\">\n",
       "      <th></th>\n",
       "      <th>Date</th>\n",
       "      <th>Sales</th>\n",
       "      <th>Moving Average</th>\n",
       "    </tr>\n",
       "  </thead>\n",
       "  <tbody>\n",
       "    <tr>\n",
       "      <th>0</th>\n",
       "      <td>2023-01-01</td>\n",
       "      <td>290</td>\n",
       "      <td>NaN</td>\n",
       "    </tr>\n",
       "    <tr>\n",
       "      <th>1</th>\n",
       "      <td>2023-01-02</td>\n",
       "      <td>260</td>\n",
       "      <td>NaN</td>\n",
       "    </tr>\n",
       "    <tr>\n",
       "      <th>2</th>\n",
       "      <td>2023-01-03</td>\n",
       "      <td>288</td>\n",
       "      <td>NaN</td>\n",
       "    </tr>\n",
       "    <tr>\n",
       "      <th>3</th>\n",
       "      <td>2023-01-04</td>\n",
       "      <td>300</td>\n",
       "      <td>NaN</td>\n",
       "    </tr>\n",
       "    <tr>\n",
       "      <th>4</th>\n",
       "      <td>2023-01-05</td>\n",
       "      <td>310</td>\n",
       "      <td>NaN</td>\n",
       "    </tr>\n",
       "    <tr>\n",
       "      <th>5</th>\n",
       "      <td>2023-01-06</td>\n",
       "      <td>303</td>\n",
       "      <td>NaN</td>\n",
       "    </tr>\n",
       "    <tr>\n",
       "      <th>6</th>\n",
       "      <td>2023-01-07</td>\n",
       "      <td>329</td>\n",
       "      <td>297.142857</td>\n",
       "    </tr>\n",
       "    <tr>\n",
       "      <th>7</th>\n",
       "      <td>2023-01-08</td>\n",
       "      <td>340</td>\n",
       "      <td>304.285714</td>\n",
       "    </tr>\n",
       "    <tr>\n",
       "      <th>8</th>\n",
       "      <td>2023-01-09</td>\n",
       "      <td>316</td>\n",
       "      <td>312.285714</td>\n",
       "    </tr>\n",
       "    <tr>\n",
       "      <th>9</th>\n",
       "      <td>2023-01-10</td>\n",
       "      <td>330</td>\n",
       "      <td>318.285714</td>\n",
       "    </tr>\n",
       "    <tr>\n",
       "      <th>10</th>\n",
       "      <td>2023-01-11</td>\n",
       "      <td>308</td>\n",
       "      <td>319.428571</td>\n",
       "    </tr>\n",
       "    <tr>\n",
       "      <th>11</th>\n",
       "      <td>2023-01-12</td>\n",
       "      <td>310</td>\n",
       "      <td>319.428571</td>\n",
       "    </tr>\n",
       "  </tbody>\n",
       "</table>\n",
       "</div>"
      ],
      "text/plain": [
       "          Date  Sales  Moving Average\n",
       "0   2023-01-01    290             NaN\n",
       "1   2023-01-02    260             NaN\n",
       "2   2023-01-03    288             NaN\n",
       "3   2023-01-04    300             NaN\n",
       "4   2023-01-05    310             NaN\n",
       "5   2023-01-06    303             NaN\n",
       "6   2023-01-07    329      297.142857\n",
       "7   2023-01-08    340      304.285714\n",
       "8   2023-01-09    316      312.285714\n",
       "9   2023-01-10    330      318.285714\n",
       "10  2023-01-11    308      319.428571\n",
       "11  2023-01-12    310      319.428571"
      ]
     },
     "execution_count": 46,
     "metadata": {},
     "output_type": "execute_result"
    }
   ],
   "source": [
    "import pandas as pd\n",
    "\n",
    "product = {\n",
    "    'Date': ['2023-01-01', '2023-01-02', '2023-01-03', '2023-01-04', '2023-01-05', '2023-01-06', '2023-01-07', '2023-01-08', '2023-01-09', '2023-01-10', '2023-01-11', '2023-01-12'],\n",
    "    'Sales': [290, 260, 288, 300, 310, 303, 329, 340, 316, 330, 308, 310]\n",
    "}\n",
    "df = pd.DataFrame(product)\n",
    "df.head()\n",
    "df['Moving Average'] = df.iloc[:, 1].rolling(window=7).mean()\n",
    "df\n"
   ]
  },
  {
   "attachments": {},
   "cell_type": "markdown",
   "metadata": {},
   "source": [
    "#### Q11. You have a Pandas DataFrame df with a column 'Date'. Write a Python function that creates a new column 'Weekday' in the DataFrame. The 'Weekday' column should contain the weekday name (e.g. Monday, Tuesday) corresponding to each date in the 'Date' column. For example, if df contains the following values:\n",
    "####    Date\n",
    "#### 0  2023-01-01\n",
    "#### 1  2023-01-02\n",
    "#### 2  2023-01-03\n",
    "#### 3  2023-01-04 \n",
    "#### 4  2023-01-05\n",
    "#### Your function should create the following DataFrame:\n",
    "####         Date           Weekday\n",
    "#### 0       2023-01-01     Sunday\n",
    "#### 1       2023-01-02     Monday\n",
    "#### 2       2023-01-03     Tuesday\n",
    "#### 3       2023-01-04     Wednesday\n",
    "#### 4       2023-01-05     Thursday\n",
    "#### The function should return the modified DataFrame."
   ]
  },
  {
   "cell_type": "code",
   "execution_count": 47,
   "metadata": {},
   "outputs": [
    {
     "data": {
      "text/html": [
       "<div>\n",
       "<style scoped>\n",
       "    .dataframe tbody tr th:only-of-type {\n",
       "        vertical-align: middle;\n",
       "    }\n",
       "\n",
       "    .dataframe tbody tr th {\n",
       "        vertical-align: top;\n",
       "    }\n",
       "\n",
       "    .dataframe thead th {\n",
       "        text-align: right;\n",
       "    }\n",
       "</style>\n",
       "<table border=\"1\" class=\"dataframe\">\n",
       "  <thead>\n",
       "    <tr style=\"text-align: right;\">\n",
       "      <th></th>\n",
       "      <th>Date</th>\n",
       "      <th>day_of_week</th>\n",
       "    </tr>\n",
       "  </thead>\n",
       "  <tbody>\n",
       "    <tr>\n",
       "      <th>0</th>\n",
       "      <td>2023-01-01</td>\n",
       "      <td>Sunday</td>\n",
       "    </tr>\n",
       "    <tr>\n",
       "      <th>1</th>\n",
       "      <td>2023-01-02</td>\n",
       "      <td>Monday</td>\n",
       "    </tr>\n",
       "    <tr>\n",
       "      <th>2</th>\n",
       "      <td>2023-01-03</td>\n",
       "      <td>Tuesday</td>\n",
       "    </tr>\n",
       "    <tr>\n",
       "      <th>3</th>\n",
       "      <td>2023-01-04</td>\n",
       "      <td>Wednesday</td>\n",
       "    </tr>\n",
       "    <tr>\n",
       "      <th>4</th>\n",
       "      <td>2023-01-05</td>\n",
       "      <td>Thursday</td>\n",
       "    </tr>\n",
       "  </tbody>\n",
       "</table>\n",
       "</div>"
      ],
      "text/plain": [
       "        Date day_of_week\n",
       "0 2023-01-01      Sunday\n",
       "1 2023-01-02      Monday\n",
       "2 2023-01-03     Tuesday\n",
       "3 2023-01-04   Wednesday\n",
       "4 2023-01-05    Thursday"
      ]
     },
     "execution_count": 47,
     "metadata": {},
     "output_type": "execute_result"
    }
   ],
   "source": [
    "import pandas as pd\n",
    "\n",
    "data = (\n",
    "    [\"2023-01-01\"],\n",
    "    [\"2023-01-02\"],\n",
    "    [\"2023-01-03\"],\n",
    "    [\"2023-01-04\"],\n",
    "    [\"2023-01-05\"],\n",
    ")\n",
    "df = pd.DataFrame(data, columns=[\"Date\"])\n",
    "df['Date'] = pd.to_datetime(df[\"Date\"])\n",
    "df['day_of_week'] = df[\"Date\"].dt.day_name()\n",
    "df"
   ]
  },
  {
   "attachments": {},
   "cell_type": "markdown",
   "metadata": {},
   "source": [
    "#### Q12. Given a Pandas DataFrame df with a column 'Date' that contains timestamps, write a Python function to select all rows where the date is between '2023-01-01' and '2023-01-31'"
   ]
  },
  {
   "cell_type": "code",
   "execution_count": 48,
   "metadata": {},
   "outputs": [
    {
     "name": "stdout",
     "output_type": "stream",
     "text": [
      "        Dates\n",
      "1  2023-01-08\n",
      "2  2023-01-04\n",
      "5  2023-01-15\n"
     ]
    }
   ],
   "source": [
    "df = pd.DataFrame({'Dates': ['2023-01-01', '2023-01-08',\n",
    "                  '2023-01-04', '2023-01-31', '2023-02-05', '2023-01-15']})\n",
    "df_con = (df['Dates'] > '2023-01-01') & (df['Dates'] < '2023-01-31')\n",
    "print(df.loc[df_con])"
   ]
  },
  {
   "attachments": {},
   "cell_type": "markdown",
   "metadata": {},
   "source": [
    "#### 13. To use the basic functions of pandas, what is the first and foremost necessary library that needs to be imported?"
   ]
  },
  {
   "attachments": {},
   "cell_type": "markdown",
   "metadata": {},
   "source": [
    "- To use the basic pandas functions we need to import pandas libary with the following syntax:\n",
    "    - import pandas as pd\n",
    "#\n",
    "- Pandas is built on top of two core Python libraries—matplotlib for data visualization and NumPy for mathematical operations. Pandas acts as a wrapper over these libraries, allowing you to access many of matplotlib's and NumPy's methods with less code."
   ]
  }
 ],
 "metadata": {
  "kernelspec": {
   "display_name": "Python 3",
   "language": "python",
   "name": "python3"
  },
  "language_info": {
   "codemirror_mode": {
    "name": "ipython",
    "version": 3
   },
   "file_extension": ".py",
   "mimetype": "text/x-python",
   "name": "python",
   "nbconvert_exporter": "python",
   "pygments_lexer": "ipython3",
   "version": "3.10.9"
  },
  "orig_nbformat": 4,
  "vscode": {
   "interpreter": {
    "hash": "916dbcbb3f70747c44a77c7bcd40155683ae19c65e1c03b4aa3499c5328201f1"
   }
  }
 },
 "nbformat": 4,
 "nbformat_minor": 2
}
